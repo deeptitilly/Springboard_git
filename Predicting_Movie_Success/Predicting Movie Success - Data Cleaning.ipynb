{
 "cells": [
  {
   "cell_type": "markdown",
   "metadata": {},
   "source": [
    "### Import relevant modules"
   ]
  },
  {
   "cell_type": "code",
   "execution_count": 119,
   "metadata": {},
   "outputs": [],
   "source": [
    "import pandas as pd\n",
    "import numpy as np\n",
    "import matplotlib.pyplot as plt\n",
    "pd.options.mode.chained_assignment = None  # default='warn'\n",
    "import ast\n",
    "from datetime import datetime"
   ]
  },
  {
   "cell_type": "markdown",
   "metadata": {},
   "source": [
    " ### Import data files and start exploring data at a high-level"
   ]
  },
  {
   "cell_type": "code",
   "execution_count": 120,
   "metadata": {},
   "outputs": [],
   "source": [
    "#import credits csv files into dataframes\n",
    "credits = pd.read_csv('credits.csv')"
   ]
  },
  {
   "cell_type": "code",
   "execution_count": 121,
   "metadata": {},
   "outputs": [
    {
     "data": {
      "text/html": [
       "<div>\n",
       "<style scoped>\n",
       "    .dataframe tbody tr th:only-of-type {\n",
       "        vertical-align: middle;\n",
       "    }\n",
       "\n",
       "    .dataframe tbody tr th {\n",
       "        vertical-align: top;\n",
       "    }\n",
       "\n",
       "    .dataframe thead th {\n",
       "        text-align: right;\n",
       "    }\n",
       "</style>\n",
       "<table border=\"1\" class=\"dataframe\">\n",
       "  <thead>\n",
       "    <tr style=\"text-align: right;\">\n",
       "      <th></th>\n",
       "      <th>cast</th>\n",
       "      <th>crew</th>\n",
       "      <th>id</th>\n",
       "    </tr>\n",
       "  </thead>\n",
       "  <tbody>\n",
       "    <tr>\n",
       "      <th>0</th>\n",
       "      <td>[{'cast_id': 14, 'character': 'Woody (voice)',...</td>\n",
       "      <td>[{'credit_id': '52fe4284c3a36847f8024f49', 'de...</td>\n",
       "      <td>862</td>\n",
       "    </tr>\n",
       "    <tr>\n",
       "      <th>1</th>\n",
       "      <td>[{'cast_id': 1, 'character': 'Alan Parrish', '...</td>\n",
       "      <td>[{'credit_id': '52fe44bfc3a36847f80a7cd1', 'de...</td>\n",
       "      <td>8844</td>\n",
       "    </tr>\n",
       "    <tr>\n",
       "      <th>2</th>\n",
       "      <td>[{'cast_id': 2, 'character': 'Max Goldman', 'c...</td>\n",
       "      <td>[{'credit_id': '52fe466a9251416c75077a89', 'de...</td>\n",
       "      <td>15602</td>\n",
       "    </tr>\n",
       "    <tr>\n",
       "      <th>3</th>\n",
       "      <td>[{'cast_id': 1, 'character': \"Savannah 'Vannah...</td>\n",
       "      <td>[{'credit_id': '52fe44779251416c91011acb', 'de...</td>\n",
       "      <td>31357</td>\n",
       "    </tr>\n",
       "    <tr>\n",
       "      <th>4</th>\n",
       "      <td>[{'cast_id': 1, 'character': 'George Banks', '...</td>\n",
       "      <td>[{'credit_id': '52fe44959251416c75039ed7', 'de...</td>\n",
       "      <td>11862</td>\n",
       "    </tr>\n",
       "  </tbody>\n",
       "</table>\n",
       "</div>"
      ],
      "text/plain": [
       "                                                cast  \\\n",
       "0  [{'cast_id': 14, 'character': 'Woody (voice)',...   \n",
       "1  [{'cast_id': 1, 'character': 'Alan Parrish', '...   \n",
       "2  [{'cast_id': 2, 'character': 'Max Goldman', 'c...   \n",
       "3  [{'cast_id': 1, 'character': \"Savannah 'Vannah...   \n",
       "4  [{'cast_id': 1, 'character': 'George Banks', '...   \n",
       "\n",
       "                                                crew     id  \n",
       "0  [{'credit_id': '52fe4284c3a36847f8024f49', 'de...    862  \n",
       "1  [{'credit_id': '52fe44bfc3a36847f80a7cd1', 'de...   8844  \n",
       "2  [{'credit_id': '52fe466a9251416c75077a89', 'de...  15602  \n",
       "3  [{'credit_id': '52fe44779251416c91011acb', 'de...  31357  \n",
       "4  [{'credit_id': '52fe44959251416c75039ed7', 'de...  11862  "
      ]
     },
     "execution_count": 121,
     "metadata": {},
     "output_type": "execute_result"
    }
   ],
   "source": [
    "#see dataframe\n",
    "credits.head()"
   ]
  },
  {
   "cell_type": "code",
   "execution_count": 122,
   "metadata": {},
   "outputs": [
    {
     "name": "stdout",
     "output_type": "stream",
     "text": [
      "<class 'pandas.core.frame.DataFrame'>\n",
      "RangeIndex: 45476 entries, 0 to 45475\n",
      "Data columns (total 3 columns):\n",
      "cast    45476 non-null object\n",
      "crew    45476 non-null object\n",
      "id      45476 non-null int64\n",
      "dtypes: int64(1), object(2)\n",
      "memory usage: 1.0+ MB\n"
     ]
    }
   ],
   "source": [
    "#get info\n",
    "credits.info()"
   ]
  },
  {
   "cell_type": "code",
   "execution_count": 123,
   "metadata": {},
   "outputs": [],
   "source": [
    "#Drop any duplicates in credits based on id\n",
    "credits = credits.drop_duplicates(subset=['id'])"
   ]
  },
  {
   "cell_type": "code",
   "execution_count": 124,
   "metadata": {},
   "outputs": [],
   "source": [
    "#import movies csv file into dataframes\n",
    "movies = pd.read_csv('movies_metadata.csv',low_memory=False)"
   ]
  },
  {
   "cell_type": "code",
   "execution_count": 125,
   "metadata": {},
   "outputs": [],
   "source": [
    "#drop irrelevant columns: 'homepage','overview', 'original_title', 'imdb_id', 'spoken_languages', \n",
    "#'production_companies', 'production_countries','poster_path','popularity','tagline','video'\n",
    "movies_dropped = movies.drop(columns = ['homepage','overview', 'original_title', 'spoken_languages',\n",
    "                                        'production_companies', 'production_countries','imdb_id',\n",
    "                                        'poster_path','popularity','tagline','video'])\n"
   ]
  },
  {
   "cell_type": "code",
   "execution_count": 126,
   "metadata": {},
   "outputs": [
    {
     "data": {
      "text/html": [
       "<div>\n",
       "<style scoped>\n",
       "    .dataframe tbody tr th:only-of-type {\n",
       "        vertical-align: middle;\n",
       "    }\n",
       "\n",
       "    .dataframe tbody tr th {\n",
       "        vertical-align: top;\n",
       "    }\n",
       "\n",
       "    .dataframe thead th {\n",
       "        text-align: right;\n",
       "    }\n",
       "</style>\n",
       "<table border=\"1\" class=\"dataframe\">\n",
       "  <thead>\n",
       "    <tr style=\"text-align: right;\">\n",
       "      <th></th>\n",
       "      <th>adult</th>\n",
       "      <th>belongs_to_collection</th>\n",
       "      <th>budget</th>\n",
       "      <th>genres</th>\n",
       "      <th>id</th>\n",
       "      <th>original_language</th>\n",
       "      <th>release_date</th>\n",
       "      <th>revenue</th>\n",
       "      <th>runtime</th>\n",
       "      <th>status</th>\n",
       "      <th>title</th>\n",
       "      <th>vote_average</th>\n",
       "      <th>vote_count</th>\n",
       "    </tr>\n",
       "  </thead>\n",
       "  <tbody>\n",
       "    <tr>\n",
       "      <th>0</th>\n",
       "      <td>False</td>\n",
       "      <td>{'id': 10194, 'name': 'Toy Story Collection', ...</td>\n",
       "      <td>30000000</td>\n",
       "      <td>[{'id': 16, 'name': 'Animation'}, {'id': 35, '...</td>\n",
       "      <td>862</td>\n",
       "      <td>en</td>\n",
       "      <td>1995-10-30</td>\n",
       "      <td>373554033.0</td>\n",
       "      <td>81.0</td>\n",
       "      <td>Released</td>\n",
       "      <td>Toy Story</td>\n",
       "      <td>7.7</td>\n",
       "      <td>5415.0</td>\n",
       "    </tr>\n",
       "    <tr>\n",
       "      <th>1</th>\n",
       "      <td>False</td>\n",
       "      <td>NaN</td>\n",
       "      <td>65000000</td>\n",
       "      <td>[{'id': 12, 'name': 'Adventure'}, {'id': 14, '...</td>\n",
       "      <td>8844</td>\n",
       "      <td>en</td>\n",
       "      <td>1995-12-15</td>\n",
       "      <td>262797249.0</td>\n",
       "      <td>104.0</td>\n",
       "      <td>Released</td>\n",
       "      <td>Jumanji</td>\n",
       "      <td>6.9</td>\n",
       "      <td>2413.0</td>\n",
       "    </tr>\n",
       "    <tr>\n",
       "      <th>2</th>\n",
       "      <td>False</td>\n",
       "      <td>{'id': 119050, 'name': 'Grumpy Old Men Collect...</td>\n",
       "      <td>0</td>\n",
       "      <td>[{'id': 10749, 'name': 'Romance'}, {'id': 35, ...</td>\n",
       "      <td>15602</td>\n",
       "      <td>en</td>\n",
       "      <td>1995-12-22</td>\n",
       "      <td>0.0</td>\n",
       "      <td>101.0</td>\n",
       "      <td>Released</td>\n",
       "      <td>Grumpier Old Men</td>\n",
       "      <td>6.5</td>\n",
       "      <td>92.0</td>\n",
       "    </tr>\n",
       "    <tr>\n",
       "      <th>3</th>\n",
       "      <td>False</td>\n",
       "      <td>NaN</td>\n",
       "      <td>16000000</td>\n",
       "      <td>[{'id': 35, 'name': 'Comedy'}, {'id': 18, 'nam...</td>\n",
       "      <td>31357</td>\n",
       "      <td>en</td>\n",
       "      <td>1995-12-22</td>\n",
       "      <td>81452156.0</td>\n",
       "      <td>127.0</td>\n",
       "      <td>Released</td>\n",
       "      <td>Waiting to Exhale</td>\n",
       "      <td>6.1</td>\n",
       "      <td>34.0</td>\n",
       "    </tr>\n",
       "    <tr>\n",
       "      <th>4</th>\n",
       "      <td>False</td>\n",
       "      <td>{'id': 96871, 'name': 'Father of the Bride Col...</td>\n",
       "      <td>0</td>\n",
       "      <td>[{'id': 35, 'name': 'Comedy'}]</td>\n",
       "      <td>11862</td>\n",
       "      <td>en</td>\n",
       "      <td>1995-02-10</td>\n",
       "      <td>76578911.0</td>\n",
       "      <td>106.0</td>\n",
       "      <td>Released</td>\n",
       "      <td>Father of the Bride Part II</td>\n",
       "      <td>5.7</td>\n",
       "      <td>173.0</td>\n",
       "    </tr>\n",
       "  </tbody>\n",
       "</table>\n",
       "</div>"
      ],
      "text/plain": [
       "   adult                              belongs_to_collection    budget  \\\n",
       "0  False  {'id': 10194, 'name': 'Toy Story Collection', ...  30000000   \n",
       "1  False                                                NaN  65000000   \n",
       "2  False  {'id': 119050, 'name': 'Grumpy Old Men Collect...         0   \n",
       "3  False                                                NaN  16000000   \n",
       "4  False  {'id': 96871, 'name': 'Father of the Bride Col...         0   \n",
       "\n",
       "                                              genres     id original_language  \\\n",
       "0  [{'id': 16, 'name': 'Animation'}, {'id': 35, '...    862                en   \n",
       "1  [{'id': 12, 'name': 'Adventure'}, {'id': 14, '...   8844                en   \n",
       "2  [{'id': 10749, 'name': 'Romance'}, {'id': 35, ...  15602                en   \n",
       "3  [{'id': 35, 'name': 'Comedy'}, {'id': 18, 'nam...  31357                en   \n",
       "4                     [{'id': 35, 'name': 'Comedy'}]  11862                en   \n",
       "\n",
       "  release_date      revenue  runtime    status                        title  \\\n",
       "0   1995-10-30  373554033.0     81.0  Released                    Toy Story   \n",
       "1   1995-12-15  262797249.0    104.0  Released                      Jumanji   \n",
       "2   1995-12-22          0.0    101.0  Released             Grumpier Old Men   \n",
       "3   1995-12-22   81452156.0    127.0  Released            Waiting to Exhale   \n",
       "4   1995-02-10   76578911.0    106.0  Released  Father of the Bride Part II   \n",
       "\n",
       "   vote_average  vote_count  \n",
       "0           7.7      5415.0  \n",
       "1           6.9      2413.0  \n",
       "2           6.5        92.0  \n",
       "3           6.1        34.0  \n",
       "4           5.7       173.0  "
      ]
     },
     "execution_count": 126,
     "metadata": {},
     "output_type": "execute_result"
    }
   ],
   "source": [
    "movies_dropped.head()"
   ]
  },
  {
   "cell_type": "code",
   "execution_count": 127,
   "metadata": {
    "scrolled": true
   },
   "outputs": [
    {
     "name": "stdout",
     "output_type": "stream",
     "text": [
      "<class 'pandas.core.frame.DataFrame'>\n",
      "RangeIndex: 45466 entries, 0 to 45465\n",
      "Data columns (total 13 columns):\n",
      "adult                    45466 non-null object\n",
      "belongs_to_collection    4494 non-null object\n",
      "budget                   45466 non-null object\n",
      "genres                   45466 non-null object\n",
      "id                       45466 non-null object\n",
      "original_language        45455 non-null object\n",
      "release_date             45379 non-null object\n",
      "revenue                  45460 non-null float64\n",
      "runtime                  45203 non-null float64\n",
      "status                   45379 non-null object\n",
      "title                    45460 non-null object\n",
      "vote_average             45460 non-null float64\n",
      "vote_count               45460 non-null float64\n",
      "dtypes: float64(4), object(9)\n",
      "memory usage: 4.5+ MB\n"
     ]
    }
   ],
   "source": [
    "#Look at data info\n",
    "movies_dropped.info()"
   ]
  },
  {
   "cell_type": "code",
   "execution_count": 128,
   "metadata": {},
   "outputs": [],
   "source": [
    "#Drop any duplicates in movies_dropped based on id\n",
    "movies_dropped = movies_dropped.drop_duplicates(subset=['id'])"
   ]
  },
  {
   "cell_type": "markdown",
   "metadata": {},
   "source": [
    "### Fix errors in column types for 'budget' and 'id' columns"
   ]
  },
  {
   "cell_type": "code",
   "execution_count": 129,
   "metadata": {},
   "outputs": [
    {
     "name": "stdout",
     "output_type": "stream",
     "text": [
      "<class 'pandas.core.frame.DataFrame'>\n",
      "Int64Index: 45436 entries, 0 to 45465\n",
      "Data columns (total 13 columns):\n",
      "adult                    45436 non-null object\n",
      "belongs_to_collection    4491 non-null object\n",
      "budget                   45433 non-null float64\n",
      "genres                   45436 non-null object\n",
      "id                       45433 non-null float64\n",
      "original_language        45425 non-null object\n",
      "release_date             45349 non-null object\n",
      "revenue                  45430 non-null float64\n",
      "runtime                  45173 non-null float64\n",
      "status                   45349 non-null object\n",
      "title                    45430 non-null object\n",
      "vote_average             45430 non-null float64\n",
      "vote_count               45430 non-null float64\n",
      "dtypes: float64(6), object(7)\n",
      "memory usage: 4.9+ MB\n"
     ]
    }
   ],
   "source": [
    "#Note that budget is not a numeric type. Convert budget to numeric.\n",
    "movies_dropped['budget'] = pd.to_numeric(movies_dropped['budget'], errors='coerce')\n",
    "\n",
    "#Note that id is also not a numeric type. Convert id to numeric\n",
    "movies_dropped['id'] = pd.to_numeric(movies_dropped['id'], errors='coerce')\n",
    "\n",
    "movies_dropped.info()"
   ]
  },
  {
   "cell_type": "markdown",
   "metadata": {},
   "source": [
    "### Identify missing revenue and budget values as null and drop rows will null values in these columns"
   ]
  },
  {
   "cell_type": "code",
   "execution_count": 130,
   "metadata": {},
   "outputs": [
    {
     "data": {
      "text/html": [
       "<div>\n",
       "<style scoped>\n",
       "    .dataframe tbody tr th:only-of-type {\n",
       "        vertical-align: middle;\n",
       "    }\n",
       "\n",
       "    .dataframe tbody tr th {\n",
       "        vertical-align: top;\n",
       "    }\n",
       "\n",
       "    .dataframe thead th {\n",
       "        text-align: right;\n",
       "    }\n",
       "</style>\n",
       "<table border=\"1\" class=\"dataframe\">\n",
       "  <thead>\n",
       "    <tr style=\"text-align: right;\">\n",
       "      <th></th>\n",
       "      <th>budget</th>\n",
       "      <th>id</th>\n",
       "      <th>revenue</th>\n",
       "      <th>runtime</th>\n",
       "      <th>vote_average</th>\n",
       "      <th>vote_count</th>\n",
       "    </tr>\n",
       "  </thead>\n",
       "  <tbody>\n",
       "    <tr>\n",
       "      <th>count</th>\n",
       "      <td>4.543300e+04</td>\n",
       "      <td>45433.000000</td>\n",
       "      <td>4.543000e+04</td>\n",
       "      <td>45173.00000</td>\n",
       "      <td>45430.000000</td>\n",
       "      <td>45430.000000</td>\n",
       "    </tr>\n",
       "    <tr>\n",
       "      <th>mean</th>\n",
       "      <td>4.224549e+06</td>\n",
       "      <td>108375.226179</td>\n",
       "      <td>1.121288e+07</td>\n",
       "      <td>94.12430</td>\n",
       "      <td>5.618329</td>\n",
       "      <td>109.935989</td>\n",
       "    </tr>\n",
       "    <tr>\n",
       "      <th>std</th>\n",
       "      <td>1.742799e+07</td>\n",
       "      <td>112479.760366</td>\n",
       "      <td>6.435213e+07</td>\n",
       "      <td>38.41554</td>\n",
       "      <td>1.924139</td>\n",
       "      <td>491.466335</td>\n",
       "    </tr>\n",
       "    <tr>\n",
       "      <th>min</th>\n",
       "      <td>0.000000e+00</td>\n",
       "      <td>2.000000</td>\n",
       "      <td>0.000000e+00</td>\n",
       "      <td>0.00000</td>\n",
       "      <td>0.000000</td>\n",
       "      <td>0.000000</td>\n",
       "    </tr>\n",
       "    <tr>\n",
       "      <th>25%</th>\n",
       "      <td>0.000000e+00</td>\n",
       "      <td>26461.000000</td>\n",
       "      <td>0.000000e+00</td>\n",
       "      <td>85.00000</td>\n",
       "      <td>5.000000</td>\n",
       "      <td>3.000000</td>\n",
       "    </tr>\n",
       "    <tr>\n",
       "      <th>50%</th>\n",
       "      <td>0.000000e+00</td>\n",
       "      <td>59996.000000</td>\n",
       "      <td>0.000000e+00</td>\n",
       "      <td>95.00000</td>\n",
       "      <td>6.000000</td>\n",
       "      <td>10.000000</td>\n",
       "    </tr>\n",
       "    <tr>\n",
       "      <th>75%</th>\n",
       "      <td>0.000000e+00</td>\n",
       "      <td>157351.000000</td>\n",
       "      <td>0.000000e+00</td>\n",
       "      <td>107.00000</td>\n",
       "      <td>6.800000</td>\n",
       "      <td>34.000000</td>\n",
       "    </tr>\n",
       "    <tr>\n",
       "      <th>max</th>\n",
       "      <td>3.800000e+08</td>\n",
       "      <td>469172.000000</td>\n",
       "      <td>2.787965e+09</td>\n",
       "      <td>1256.00000</td>\n",
       "      <td>10.000000</td>\n",
       "      <td>14075.000000</td>\n",
       "    </tr>\n",
       "  </tbody>\n",
       "</table>\n",
       "</div>"
      ],
      "text/plain": [
       "             budget             id       revenue      runtime  vote_average  \\\n",
       "count  4.543300e+04   45433.000000  4.543000e+04  45173.00000  45430.000000   \n",
       "mean   4.224549e+06  108375.226179  1.121288e+07     94.12430      5.618329   \n",
       "std    1.742799e+07  112479.760366  6.435213e+07     38.41554      1.924139   \n",
       "min    0.000000e+00       2.000000  0.000000e+00      0.00000      0.000000   \n",
       "25%    0.000000e+00   26461.000000  0.000000e+00     85.00000      5.000000   \n",
       "50%    0.000000e+00   59996.000000  0.000000e+00     95.00000      6.000000   \n",
       "75%    0.000000e+00  157351.000000  0.000000e+00    107.00000      6.800000   \n",
       "max    3.800000e+08  469172.000000  2.787965e+09   1256.00000     10.000000   \n",
       "\n",
       "         vote_count  \n",
       "count  45430.000000  \n",
       "mean     109.935989  \n",
       "std      491.466335  \n",
       "min        0.000000  \n",
       "25%        3.000000  \n",
       "50%       10.000000  \n",
       "75%       34.000000  \n",
       "max    14075.000000  "
      ]
     },
     "execution_count": 130,
     "metadata": {},
     "output_type": "execute_result"
    }
   ],
   "source": [
    "#Look at data statistics\n",
    "#Note that many movies are showing a budget and revenue of 0. There are also movies with a runtime of 0.\n",
    "movies_dropped.describe()"
   ]
  },
  {
   "cell_type": "code",
   "execution_count": 131,
   "metadata": {},
   "outputs": [
    {
     "data": {
      "text/plain": [
       "38032"
      ]
     },
     "execution_count": 131,
     "metadata": {},
     "output_type": "execute_result"
    }
   ],
   "source": [
    "#Number of movies with 0 revenue\n",
    "movies_dropped[movies_dropped.revenue==0]['revenue'].count()"
   ]
  },
  {
   "cell_type": "code",
   "execution_count": 132,
   "metadata": {},
   "outputs": [
    {
     "data": {
      "text/plain": [
       "36553"
      ]
     },
     "execution_count": 132,
     "metadata": {},
     "output_type": "execute_result"
    }
   ],
   "source": [
    "#Number of movies with 0 budget\n",
    "movies_dropped[movies_dropped.budget==0]['budget'].count()"
   ]
  },
  {
   "cell_type": "code",
   "execution_count": 133,
   "metadata": {},
   "outputs": [],
   "source": [
    "#Replace 0s in revenue and budget with null values\n",
    "movies_dropped['revenue'] = movies_dropped['revenue'].replace(0,np.nan)\n",
    "movies_dropped['budget'] = movies_dropped['budget'].replace(0,np.nan)\n",
    "\n",
    "#Drop rows with null revenue and budget\n",
    "movies_dropped = movies_dropped.dropna(subset=['revenue','budget'])"
   ]
  },
  {
   "cell_type": "markdown",
   "metadata": {},
   "source": [
    "### Similarly, identify missing runtime, vote_average, and vote_count values (0) as null and drop from dataframe"
   ]
  },
  {
   "cell_type": "code",
   "execution_count": 134,
   "metadata": {},
   "outputs": [
    {
     "data": {
      "text/plain": [
       "11"
      ]
     },
     "execution_count": 134,
     "metadata": {},
     "output_type": "execute_result"
    }
   ],
   "source": [
    "#Identify number of movies with runtime = 0\n",
    "movies_dropped[movies_dropped.runtime==0]['runtime'].count()"
   ]
  },
  {
   "cell_type": "code",
   "execution_count": 135,
   "metadata": {},
   "outputs": [
    {
     "data": {
      "text/plain": [
       "7"
      ]
     },
     "execution_count": 135,
     "metadata": {},
     "output_type": "execute_result"
    }
   ],
   "source": [
    "#Identify number of movies with runtime = 0\n",
    "movies_dropped[movies_dropped.vote_average==0]['vote_average'].count()"
   ]
  },
  {
   "cell_type": "code",
   "execution_count": 136,
   "metadata": {},
   "outputs": [
    {
     "data": {
      "text/plain": [
       "7"
      ]
     },
     "execution_count": 136,
     "metadata": {},
     "output_type": "execute_result"
    }
   ],
   "source": [
    "#Identify number of movies with runtime = 0\n",
    "movies_dropped[movies_dropped.vote_count==0]['vote_average'].count()"
   ]
  },
  {
   "cell_type": "code",
   "execution_count": 137,
   "metadata": {},
   "outputs": [],
   "source": [
    "#Set runtime=0,vote_average,vote_count values as null\n",
    "movies_dropped['runtime'] = movies_dropped['runtime'].replace(0,np.nan)\n",
    "movies_dropped['vote_average'] = movies_dropped['vote_average'].replace(0,np.nan)\n",
    "movies_dropped['vote_count'] = movies_dropped['vote_count'].replace(0,np.nan)"
   ]
  },
  {
   "cell_type": "code",
   "execution_count": 138,
   "metadata": {},
   "outputs": [],
   "source": [
    "#Drop rows with null runtime values\n",
    "movies_dropped = movies_dropped.dropna(subset = ['runtime','vote_average','vote_count'])"
   ]
  },
  {
   "cell_type": "code",
   "execution_count": 139,
   "metadata": {
    "scrolled": true
   },
   "outputs": [
    {
     "data": {
      "text/plain": [
       "adult                       0\n",
       "belongs_to_collection    4135\n",
       "budget                      0\n",
       "genres                      0\n",
       "id                          0\n",
       "original_language           0\n",
       "release_date                0\n",
       "revenue                     0\n",
       "runtime                     0\n",
       "status                      0\n",
       "title                       0\n",
       "vote_average                0\n",
       "vote_count                  0\n",
       "dtype: int64"
      ]
     },
     "execution_count": 139,
     "metadata": {},
     "output_type": "execute_result"
    }
   ],
   "source": [
    "#Check for null entries. 4135 null belongs_to_collection left, indicating the movies that don't belong to a \n",
    "#collection.\n",
    "movies_dropped.isnull().sum()"
   ]
  },
  {
   "cell_type": "markdown",
   "metadata": {},
   "source": [
    "### If the movie belongs to a collection (i.e. franchise), extract the name of the collection and replace any null values with 0s to indicate no collection."
   ]
  },
  {
   "cell_type": "code",
   "execution_count": 140,
   "metadata": {},
   "outputs": [],
   "source": [
    "#Convert 'belongs_to_collection' column to dictionaries and Nans\n",
    "movies_dropped.belongs_to_collection = movies_dropped.belongs_to_collection.apply(lambda x: ast.literal_eval(x) \n",
    "                                                                                  if type(x) != float else None)\n"
   ]
  },
  {
   "cell_type": "code",
   "execution_count": 141,
   "metadata": {},
   "outputs": [],
   "source": [
    "#Extract collection name in new column, 0 if none\n",
    "movies_dropped['collection'] = movies_dropped.belongs_to_collection.apply(lambda x: x['name'] \n",
    "                                                                          if type(x) == dict else 0)\n"
   ]
  },
  {
   "cell_type": "code",
   "execution_count": 142,
   "metadata": {},
   "outputs": [],
   "source": [
    "#Drop original 'belongs_to_collection' column\n",
    "movies_dropped = movies_dropped.drop(columns = ['belongs_to_collection'])"
   ]
  },
  {
   "cell_type": "code",
   "execution_count": 143,
   "metadata": {
    "scrolled": true
   },
   "outputs": [
    {
     "data": {
      "text/html": [
       "<div>\n",
       "<style scoped>\n",
       "    .dataframe tbody tr th:only-of-type {\n",
       "        vertical-align: middle;\n",
       "    }\n",
       "\n",
       "    .dataframe tbody tr th {\n",
       "        vertical-align: top;\n",
       "    }\n",
       "\n",
       "    .dataframe thead th {\n",
       "        text-align: right;\n",
       "    }\n",
       "</style>\n",
       "<table border=\"1\" class=\"dataframe\">\n",
       "  <thead>\n",
       "    <tr style=\"text-align: right;\">\n",
       "      <th></th>\n",
       "      <th>budget</th>\n",
       "      <th>id</th>\n",
       "      <th>revenue</th>\n",
       "      <th>runtime</th>\n",
       "      <th>vote_average</th>\n",
       "      <th>vote_count</th>\n",
       "    </tr>\n",
       "  </thead>\n",
       "  <tbody>\n",
       "    <tr>\n",
       "      <th>count</th>\n",
       "      <td>5.356000e+03</td>\n",
       "      <td>5356.000000</td>\n",
       "      <td>5.356000e+03</td>\n",
       "      <td>5356.000000</td>\n",
       "      <td>5356.000000</td>\n",
       "      <td>5356.000000</td>\n",
       "    </tr>\n",
       "    <tr>\n",
       "      <th>mean</th>\n",
       "      <td>3.119983e+07</td>\n",
       "      <td>60461.286221</td>\n",
       "      <td>9.069922e+07</td>\n",
       "      <td>110.047050</td>\n",
       "      <td>6.283943</td>\n",
       "      <td>735.556385</td>\n",
       "    </tr>\n",
       "    <tr>\n",
       "      <th>std</th>\n",
       "      <td>4.022028e+07</td>\n",
       "      <td>95592.121111</td>\n",
       "      <td>1.664321e+08</td>\n",
       "      <td>21.502907</td>\n",
       "      <td>0.896771</td>\n",
       "      <td>1253.526284</td>\n",
       "    </tr>\n",
       "    <tr>\n",
       "      <th>min</th>\n",
       "      <td>1.000000e+00</td>\n",
       "      <td>5.000000</td>\n",
       "      <td>1.000000e+00</td>\n",
       "      <td>26.000000</td>\n",
       "      <td>1.000000</td>\n",
       "      <td>1.000000</td>\n",
       "    </tr>\n",
       "    <tr>\n",
       "      <th>25%</th>\n",
       "      <td>5.207500e+06</td>\n",
       "      <td>8758.250000</td>\n",
       "      <td>7.125805e+06</td>\n",
       "      <td>95.000000</td>\n",
       "      <td>5.700000</td>\n",
       "      <td>78.000000</td>\n",
       "    </tr>\n",
       "    <tr>\n",
       "      <th>50%</th>\n",
       "      <td>1.700000e+07</td>\n",
       "      <td>14331.000000</td>\n",
       "      <td>3.000000e+07</td>\n",
       "      <td>106.000000</td>\n",
       "      <td>6.300000</td>\n",
       "      <td>278.500000</td>\n",
       "    </tr>\n",
       "    <tr>\n",
       "      <th>75%</th>\n",
       "      <td>4.000000e+07</td>\n",
       "      <td>59860.250000</td>\n",
       "      <td>1.000050e+08</td>\n",
       "      <td>120.000000</td>\n",
       "      <td>6.900000</td>\n",
       "      <td>807.000000</td>\n",
       "    </tr>\n",
       "    <tr>\n",
       "      <th>max</th>\n",
       "      <td>3.800000e+08</td>\n",
       "      <td>443319.000000</td>\n",
       "      <td>2.787965e+09</td>\n",
       "      <td>338.000000</td>\n",
       "      <td>9.100000</td>\n",
       "      <td>14075.000000</td>\n",
       "    </tr>\n",
       "  </tbody>\n",
       "</table>\n",
       "</div>"
      ],
      "text/plain": [
       "             budget             id       revenue      runtime  vote_average  \\\n",
       "count  5.356000e+03    5356.000000  5.356000e+03  5356.000000   5356.000000   \n",
       "mean   3.119983e+07   60461.286221  9.069922e+07   110.047050      6.283943   \n",
       "std    4.022028e+07   95592.121111  1.664321e+08    21.502907      0.896771   \n",
       "min    1.000000e+00       5.000000  1.000000e+00    26.000000      1.000000   \n",
       "25%    5.207500e+06    8758.250000  7.125805e+06    95.000000      5.700000   \n",
       "50%    1.700000e+07   14331.000000  3.000000e+07   106.000000      6.300000   \n",
       "75%    4.000000e+07   59860.250000  1.000050e+08   120.000000      6.900000   \n",
       "max    3.800000e+08  443319.000000  2.787965e+09   338.000000      9.100000   \n",
       "\n",
       "         vote_count  \n",
       "count   5356.000000  \n",
       "mean     735.556385  \n",
       "std     1253.526284  \n",
       "min        1.000000  \n",
       "25%       78.000000  \n",
       "50%      278.500000  \n",
       "75%      807.000000  \n",
       "max    14075.000000  "
      ]
     },
     "execution_count": 143,
     "metadata": {},
     "output_type": "execute_result"
    }
   ],
   "source": [
    "#Look at statistics for updated data\n",
    "#Note that now movies seem to have a budget and revenue of single digits ($1) which seems unlikely.\n",
    "movies_dropped.describe()"
   ]
  },
  {
   "cell_type": "markdown",
   "metadata": {},
   "source": [
    "### The table above shows single-digit revenue and budget values which is likely a result of erroneous data capture. Upon further inspection, multiple movies were found to have incorrectly low budget and revenue values. Since most movies are not made under 10,000 dollars and gross more than 1,500 dollars, these values were used as a budget cutoff and revenue cutoff, respectively, to safely exclude such erroneous values from the data."
   ]
  },
  {
   "cell_type": "code",
   "execution_count": 144,
   "metadata": {},
   "outputs": [
    {
     "data": {
      "text/plain": [
       "57"
      ]
     },
     "execution_count": 144,
     "metadata": {},
     "output_type": "execute_result"
    }
   ],
   "source": [
    "#Number of movies that have a budget of less than $10,000 = 57\n",
    "movies_dropped[movies_dropped.budget < 10000]['budget'].count()"
   ]
  },
  {
   "cell_type": "code",
   "execution_count": 145,
   "metadata": {},
   "outputs": [],
   "source": [
    "#Drop extremely low budget movies since data might not be reliable (single digit budgets) and it is only 59 movies\n",
    "movies_clean = movies_dropped[movies_dropped.budget>10000]"
   ]
  },
  {
   "cell_type": "code",
   "execution_count": 146,
   "metadata": {},
   "outputs": [
    {
     "data": {
      "text/html": [
       "<div>\n",
       "<style scoped>\n",
       "    .dataframe tbody tr th:only-of-type {\n",
       "        vertical-align: middle;\n",
       "    }\n",
       "\n",
       "    .dataframe tbody tr th {\n",
       "        vertical-align: top;\n",
       "    }\n",
       "\n",
       "    .dataframe thead th {\n",
       "        text-align: right;\n",
       "    }\n",
       "</style>\n",
       "<table border=\"1\" class=\"dataframe\">\n",
       "  <thead>\n",
       "    <tr style=\"text-align: right;\">\n",
       "      <th></th>\n",
       "      <th>budget</th>\n",
       "      <th>id</th>\n",
       "      <th>revenue</th>\n",
       "      <th>runtime</th>\n",
       "      <th>vote_average</th>\n",
       "      <th>vote_count</th>\n",
       "    </tr>\n",
       "  </thead>\n",
       "  <tbody>\n",
       "    <tr>\n",
       "      <th>count</th>\n",
       "      <td>5.297000e+03</td>\n",
       "      <td>5297.000000</td>\n",
       "      <td>5.297000e+03</td>\n",
       "      <td>5297.000000</td>\n",
       "      <td>5297.000000</td>\n",
       "      <td>5297.000000</td>\n",
       "    </tr>\n",
       "    <tr>\n",
       "      <th>mean</th>\n",
       "      <td>3.154734e+07</td>\n",
       "      <td>60326.669436</td>\n",
       "      <td>9.167072e+07</td>\n",
       "      <td>110.134038</td>\n",
       "      <td>6.282953</td>\n",
       "      <td>742.784406</td>\n",
       "    </tr>\n",
       "    <tr>\n",
       "      <th>std</th>\n",
       "      <td>4.030792e+07</td>\n",
       "      <td>95614.810333</td>\n",
       "      <td>1.670924e+08</td>\n",
       "      <td>21.501497</td>\n",
       "      <td>0.895977</td>\n",
       "      <td>1258.487144</td>\n",
       "    </tr>\n",
       "    <tr>\n",
       "      <th>min</th>\n",
       "      <td>1.117800e+04</td>\n",
       "      <td>5.000000</td>\n",
       "      <td>3.000000e+00</td>\n",
       "      <td>26.000000</td>\n",
       "      <td>1.000000</td>\n",
       "      <td>1.000000</td>\n",
       "    </tr>\n",
       "    <tr>\n",
       "      <th>25%</th>\n",
       "      <td>6.000000e+06</td>\n",
       "      <td>8653.000000</td>\n",
       "      <td>7.594693e+06</td>\n",
       "      <td>95.000000</td>\n",
       "      <td>5.700000</td>\n",
       "      <td>81.000000</td>\n",
       "    </tr>\n",
       "    <tr>\n",
       "      <th>50%</th>\n",
       "      <td>1.700000e+07</td>\n",
       "      <td>14194.000000</td>\n",
       "      <td>3.055339e+07</td>\n",
       "      <td>106.000000</td>\n",
       "      <td>6.300000</td>\n",
       "      <td>284.000000</td>\n",
       "    </tr>\n",
       "    <tr>\n",
       "      <th>75%</th>\n",
       "      <td>4.000000e+07</td>\n",
       "      <td>59797.000000</td>\n",
       "      <td>1.008538e+08</td>\n",
       "      <td>120.000000</td>\n",
       "      <td>6.900000</td>\n",
       "      <td>816.000000</td>\n",
       "    </tr>\n",
       "    <tr>\n",
       "      <th>max</th>\n",
       "      <td>3.800000e+08</td>\n",
       "      <td>443319.000000</td>\n",
       "      <td>2.787965e+09</td>\n",
       "      <td>338.000000</td>\n",
       "      <td>9.100000</td>\n",
       "      <td>14075.000000</td>\n",
       "    </tr>\n",
       "  </tbody>\n",
       "</table>\n",
       "</div>"
      ],
      "text/plain": [
       "             budget             id       revenue      runtime  vote_average  \\\n",
       "count  5.297000e+03    5297.000000  5.297000e+03  5297.000000   5297.000000   \n",
       "mean   3.154734e+07   60326.669436  9.167072e+07   110.134038      6.282953   \n",
       "std    4.030792e+07   95614.810333  1.670924e+08    21.501497      0.895977   \n",
       "min    1.117800e+04       5.000000  3.000000e+00    26.000000      1.000000   \n",
       "25%    6.000000e+06    8653.000000  7.594693e+06    95.000000      5.700000   \n",
       "50%    1.700000e+07   14194.000000  3.055339e+07   106.000000      6.300000   \n",
       "75%    4.000000e+07   59797.000000  1.008538e+08   120.000000      6.900000   \n",
       "max    3.800000e+08  443319.000000  2.787965e+09   338.000000      9.100000   \n",
       "\n",
       "         vote_count  \n",
       "count   5297.000000  \n",
       "mean     742.784406  \n",
       "std     1258.487144  \n",
       "min        1.000000  \n",
       "25%       81.000000  \n",
       "50%      284.000000  \n",
       "75%      816.000000  \n",
       "max    14075.000000  "
      ]
     },
     "execution_count": 146,
     "metadata": {},
     "output_type": "execute_result"
    }
   ],
   "source": [
    "#Revenue is still showing minimum values in single digits.\n",
    "movies_clean.describe()"
   ]
  },
  {
   "cell_type": "code",
   "execution_count": 147,
   "metadata": {},
   "outputs": [
    {
     "data": {
      "text/plain": [
       "57"
      ]
     },
     "execution_count": 147,
     "metadata": {},
     "output_type": "execute_result"
    }
   ],
   "source": [
    "#Number of movies that have a revenue of less than $1,500 = 57\n",
    "movies_dropped[movies_dropped.revenue < 1500]['revenue'].count()"
   ]
  },
  {
   "cell_type": "code",
   "execution_count": 148,
   "metadata": {},
   "outputs": [],
   "source": [
    "#Drop movies with revenue <$1500\n",
    "movies_clean = movies_clean[movies_clean.revenue>=1500]"
   ]
  },
  {
   "cell_type": "markdown",
   "metadata": {},
   "source": [
    "### Remove 'adult' column since all movies are categorized as 'False'. To merge the credits and movies dataframes, set 'id' column type as int to match the credits dataframe."
   ]
  },
  {
   "cell_type": "code",
   "execution_count": 149,
   "metadata": {},
   "outputs": [
    {
     "data": {
      "text/plain": [
       "False    5283\n",
       "Name: adult, dtype: int64"
      ]
     },
     "execution_count": 149,
     "metadata": {},
     "output_type": "execute_result"
    }
   ],
   "source": [
    "#Look at distribution in adult column\n",
    "movies_clean.adult.value_counts()"
   ]
  },
  {
   "cell_type": "code",
   "execution_count": 150,
   "metadata": {},
   "outputs": [],
   "source": [
    "#Since no movies are adult movies, remove adult column\n",
    "movies_clean = movies_clean.drop(columns = ['adult'])"
   ]
  },
  {
   "cell_type": "code",
   "execution_count": 151,
   "metadata": {},
   "outputs": [],
   "source": [
    "#Set id type as int to match credits dataframe\n",
    "movies_clean.id = movies_clean.id.astype('int')"
   ]
  },
  {
   "cell_type": "markdown",
   "metadata": {},
   "source": [
    "### Merge the credits and movies dataframes on the 'id' column. Check and drop any duplicate rows."
   ]
  },
  {
   "cell_type": "code",
   "execution_count": 152,
   "metadata": {},
   "outputs": [],
   "source": [
    "#Merge movies and credits dataframes on ID\n",
    "df = pd.merge(movies_clean,credits,on='id', how='left')"
   ]
  },
  {
   "cell_type": "code",
   "execution_count": 153,
   "metadata": {},
   "outputs": [
    {
     "data": {
      "text/html": [
       "<div>\n",
       "<style scoped>\n",
       "    .dataframe tbody tr th:only-of-type {\n",
       "        vertical-align: middle;\n",
       "    }\n",
       "\n",
       "    .dataframe tbody tr th {\n",
       "        vertical-align: top;\n",
       "    }\n",
       "\n",
       "    .dataframe thead th {\n",
       "        text-align: right;\n",
       "    }\n",
       "</style>\n",
       "<table border=\"1\" class=\"dataframe\">\n",
       "  <thead>\n",
       "    <tr style=\"text-align: right;\">\n",
       "      <th></th>\n",
       "      <th>budget</th>\n",
       "      <th>genres</th>\n",
       "      <th>id</th>\n",
       "      <th>original_language</th>\n",
       "      <th>release_date</th>\n",
       "      <th>revenue</th>\n",
       "      <th>runtime</th>\n",
       "      <th>status</th>\n",
       "      <th>title</th>\n",
       "      <th>vote_average</th>\n",
       "      <th>vote_count</th>\n",
       "      <th>collection</th>\n",
       "      <th>cast</th>\n",
       "      <th>crew</th>\n",
       "    </tr>\n",
       "  </thead>\n",
       "  <tbody>\n",
       "    <tr>\n",
       "      <th>0</th>\n",
       "      <td>30000000.0</td>\n",
       "      <td>[{'id': 16, 'name': 'Animation'}, {'id': 35, '...</td>\n",
       "      <td>862</td>\n",
       "      <td>en</td>\n",
       "      <td>1995-10-30</td>\n",
       "      <td>373554033.0</td>\n",
       "      <td>81.0</td>\n",
       "      <td>Released</td>\n",
       "      <td>Toy Story</td>\n",
       "      <td>7.7</td>\n",
       "      <td>5415.0</td>\n",
       "      <td>Toy Story Collection</td>\n",
       "      <td>[{'cast_id': 14, 'character': 'Woody (voice)',...</td>\n",
       "      <td>[{'credit_id': '52fe4284c3a36847f8024f49', 'de...</td>\n",
       "    </tr>\n",
       "    <tr>\n",
       "      <th>1</th>\n",
       "      <td>65000000.0</td>\n",
       "      <td>[{'id': 12, 'name': 'Adventure'}, {'id': 14, '...</td>\n",
       "      <td>8844</td>\n",
       "      <td>en</td>\n",
       "      <td>1995-12-15</td>\n",
       "      <td>262797249.0</td>\n",
       "      <td>104.0</td>\n",
       "      <td>Released</td>\n",
       "      <td>Jumanji</td>\n",
       "      <td>6.9</td>\n",
       "      <td>2413.0</td>\n",
       "      <td>0</td>\n",
       "      <td>[{'cast_id': 1, 'character': 'Alan Parrish', '...</td>\n",
       "      <td>[{'credit_id': '52fe44bfc3a36847f80a7cd1', 'de...</td>\n",
       "    </tr>\n",
       "    <tr>\n",
       "      <th>2</th>\n",
       "      <td>16000000.0</td>\n",
       "      <td>[{'id': 35, 'name': 'Comedy'}, {'id': 18, 'nam...</td>\n",
       "      <td>31357</td>\n",
       "      <td>en</td>\n",
       "      <td>1995-12-22</td>\n",
       "      <td>81452156.0</td>\n",
       "      <td>127.0</td>\n",
       "      <td>Released</td>\n",
       "      <td>Waiting to Exhale</td>\n",
       "      <td>6.1</td>\n",
       "      <td>34.0</td>\n",
       "      <td>0</td>\n",
       "      <td>[{'cast_id': 1, 'character': \"Savannah 'Vannah...</td>\n",
       "      <td>[{'credit_id': '52fe44779251416c91011acb', 'de...</td>\n",
       "    </tr>\n",
       "    <tr>\n",
       "      <th>3</th>\n",
       "      <td>60000000.0</td>\n",
       "      <td>[{'id': 28, 'name': 'Action'}, {'id': 80, 'nam...</td>\n",
       "      <td>949</td>\n",
       "      <td>en</td>\n",
       "      <td>1995-12-15</td>\n",
       "      <td>187436818.0</td>\n",
       "      <td>170.0</td>\n",
       "      <td>Released</td>\n",
       "      <td>Heat</td>\n",
       "      <td>7.7</td>\n",
       "      <td>1886.0</td>\n",
       "      <td>0</td>\n",
       "      <td>[{'cast_id': 25, 'character': 'Lt. Vincent Han...</td>\n",
       "      <td>[{'credit_id': '52fe4292c3a36847f802916d', 'de...</td>\n",
       "    </tr>\n",
       "    <tr>\n",
       "      <th>4</th>\n",
       "      <td>35000000.0</td>\n",
       "      <td>[{'id': 28, 'name': 'Action'}, {'id': 12, 'nam...</td>\n",
       "      <td>9091</td>\n",
       "      <td>en</td>\n",
       "      <td>1995-12-22</td>\n",
       "      <td>64350171.0</td>\n",
       "      <td>106.0</td>\n",
       "      <td>Released</td>\n",
       "      <td>Sudden Death</td>\n",
       "      <td>5.5</td>\n",
       "      <td>174.0</td>\n",
       "      <td>0</td>\n",
       "      <td>[{'cast_id': 1, 'character': 'Darren Francis T...</td>\n",
       "      <td>[{'credit_id': '52fe44dbc3a36847f80ae0f1', 'de...</td>\n",
       "    </tr>\n",
       "  </tbody>\n",
       "</table>\n",
       "</div>"
      ],
      "text/plain": [
       "       budget                                             genres     id  \\\n",
       "0  30000000.0  [{'id': 16, 'name': 'Animation'}, {'id': 35, '...    862   \n",
       "1  65000000.0  [{'id': 12, 'name': 'Adventure'}, {'id': 14, '...   8844   \n",
       "2  16000000.0  [{'id': 35, 'name': 'Comedy'}, {'id': 18, 'nam...  31357   \n",
       "3  60000000.0  [{'id': 28, 'name': 'Action'}, {'id': 80, 'nam...    949   \n",
       "4  35000000.0  [{'id': 28, 'name': 'Action'}, {'id': 12, 'nam...   9091   \n",
       "\n",
       "  original_language release_date      revenue  runtime    status  \\\n",
       "0                en   1995-10-30  373554033.0     81.0  Released   \n",
       "1                en   1995-12-15  262797249.0    104.0  Released   \n",
       "2                en   1995-12-22   81452156.0    127.0  Released   \n",
       "3                en   1995-12-15  187436818.0    170.0  Released   \n",
       "4                en   1995-12-22   64350171.0    106.0  Released   \n",
       "\n",
       "               title  vote_average  vote_count            collection  \\\n",
       "0          Toy Story           7.7      5415.0  Toy Story Collection   \n",
       "1            Jumanji           6.9      2413.0                     0   \n",
       "2  Waiting to Exhale           6.1        34.0                     0   \n",
       "3               Heat           7.7      1886.0                     0   \n",
       "4       Sudden Death           5.5       174.0                     0   \n",
       "\n",
       "                                                cast  \\\n",
       "0  [{'cast_id': 14, 'character': 'Woody (voice)',...   \n",
       "1  [{'cast_id': 1, 'character': 'Alan Parrish', '...   \n",
       "2  [{'cast_id': 1, 'character': \"Savannah 'Vannah...   \n",
       "3  [{'cast_id': 25, 'character': 'Lt. Vincent Han...   \n",
       "4  [{'cast_id': 1, 'character': 'Darren Francis T...   \n",
       "\n",
       "                                                crew  \n",
       "0  [{'credit_id': '52fe4284c3a36847f8024f49', 'de...  \n",
       "1  [{'credit_id': '52fe44bfc3a36847f80a7cd1', 'de...  \n",
       "2  [{'credit_id': '52fe44779251416c91011acb', 'de...  \n",
       "3  [{'credit_id': '52fe4292c3a36847f802916d', 'de...  \n",
       "4  [{'credit_id': '52fe44dbc3a36847f80ae0f1', 'de...  "
      ]
     },
     "execution_count": 153,
     "metadata": {},
     "output_type": "execute_result"
    }
   ],
   "source": [
    "#Look at merged dataframe\n",
    "df.head()"
   ]
  },
  {
   "cell_type": "markdown",
   "metadata": {},
   "source": [
    "### The data in cast, crew, genres columns are stored as strings. Convert type to lists or dictionaries, identifying missing data as null and removing rows with missing data in these columns."
   ]
  },
  {
   "cell_type": "code",
   "execution_count": 154,
   "metadata": {},
   "outputs": [],
   "source": [
    "#Turn cast column into list\n",
    "df['cast'] = df['cast'].apply(ast.literal_eval)"
   ]
  },
  {
   "cell_type": "code",
   "execution_count": 155,
   "metadata": {},
   "outputs": [],
   "source": [
    "#Turn crew column into list\n",
    "df['crew'] = df['crew'].apply(ast.literal_eval)"
   ]
  },
  {
   "cell_type": "code",
   "execution_count": 156,
   "metadata": {},
   "outputs": [],
   "source": [
    "#Turn genre column into a list\n",
    "df['genres'] = df.genres.apply(ast.literal_eval)"
   ]
  },
  {
   "cell_type": "code",
   "execution_count": 157,
   "metadata": {},
   "outputs": [],
   "source": [
    "#Identify rows with missing cast and set them to null\n",
    "df.cast = df.cast.apply(lambda x: np.nan if len(x)==0 else x)"
   ]
  },
  {
   "cell_type": "code",
   "execution_count": 158,
   "metadata": {},
   "outputs": [],
   "source": [
    "#Identify rows with missing crew and set them to null\n",
    "df.crew = df.crew.apply(lambda x: np.nan if len(x)==0 else x)"
   ]
  },
  {
   "cell_type": "code",
   "execution_count": 159,
   "metadata": {},
   "outputs": [],
   "source": [
    "#Identify movies with no genres and replace with null\n",
    "df.genres = df.genres.apply(lambda x: np.nan if len(x)==0 else x)"
   ]
  },
  {
   "cell_type": "code",
   "execution_count": 160,
   "metadata": {},
   "outputs": [],
   "source": [
    "#Drop rows with null values\n",
    "df = df.dropna(subset = ['crew', 'cast', 'genres'])"
   ]
  },
  {
   "cell_type": "markdown",
   "metadata": {},
   "source": [
    "### Extract the name of the lead actor as the first-listed actor in the 'cast' column, and the name of the director from the 'crew' column. Drop the original 'cast' and 'crew' columns."
   ]
  },
  {
   "cell_type": "code",
   "execution_count": 161,
   "metadata": {},
   "outputs": [],
   "source": [
    "#Get lead actor from cast column\n",
    "df['actor'] = df.cast.apply(lambda x: x[0]['name'])"
   ]
  },
  {
   "cell_type": "code",
   "execution_count": 162,
   "metadata": {},
   "outputs": [],
   "source": [
    "#Get director from crew column\n",
    "df['director'] = df.crew.apply(lambda row: next((item for item in row if item[\"job\"] == \"Director\"), np.nan)['name'])"
   ]
  },
  {
   "cell_type": "code",
   "execution_count": 163,
   "metadata": {},
   "outputs": [],
   "source": [
    "#Drop original cast, crew, genres columns\n",
    "df = df.drop(columns = ['cast', 'crew'])"
   ]
  },
  {
   "cell_type": "markdown",
   "metadata": {},
   "source": [
    "### Since each movie is typically associated with more than 1 genre, convert the genre variables into dummy/indicator variables (i.e. a binary column for each genre)"
   ]
  },
  {
   "cell_type": "code",
   "execution_count": 164,
   "metadata": {},
   "outputs": [],
   "source": [
    "#Function to convert list of dictionaries to list of genre names\n",
    "def genre_to_list(x):\n",
    "    lst = []\n",
    "    for i in range(len(x)):\n",
    "        lst.append(x[i]['name'])\n",
    "    return lst"
   ]
  },
  {
   "cell_type": "code",
   "execution_count": 165,
   "metadata": {},
   "outputs": [],
   "source": [
    "#Apply function to convert genre column and create binary genre columns\n",
    "df['genres'] = df.genres.apply(genre_to_list)\n",
    "genre_columns = pd.get_dummies(df.genres.apply(pd.Series).stack()).sum(level=0)"
   ]
  },
  {
   "cell_type": "code",
   "execution_count": 166,
   "metadata": {},
   "outputs": [],
   "source": [
    "#Add genre binary columns to df\n",
    "df = df.join(genre_columns)"
   ]
  },
  {
   "cell_type": "markdown",
   "metadata": {},
   "source": [
    "### Import IMDB list of highest-grossing actors and highest-grossing directors. Create binary columns indicating whether the lead actor and director are on the highest-grossing lists."
   ]
  },
  {
   "cell_type": "code",
   "execution_count": 167,
   "metadata": {},
   "outputs": [],
   "source": [
    "#Import highest grossing actors and directors databases\n",
    "top_actors = pd.read_csv('actors_highest_grossing.csv',encoding='ISO-8859-1', usecols = ['Name'])\n",
    "top_directors = pd.read_csv('directors_highest_grossing.csv',encoding='ISO-8859-1', usecols = ['Name'])"
   ]
  },
  {
   "cell_type": "code",
   "execution_count": 168,
   "metadata": {},
   "outputs": [],
   "source": [
    "#Binary top_actor column indicating whether lead actor is on highest-grossing list (1 if yes, 0 if no)\n",
    "df['top_actor'] = df.actor.isin(top_actors.Name).astype(int)"
   ]
  },
  {
   "cell_type": "code",
   "execution_count": 169,
   "metadata": {},
   "outputs": [],
   "source": [
    "#Binary top_director column indicating whether director is on highest-grossing list (1 if yes, 0 if no)\n",
    "df['top_director'] = df.director.isin(top_directors.Name).astype(int)"
   ]
  },
  {
   "cell_type": "markdown",
   "metadata": {},
   "source": [
    "### Only keep released movies to ensure accurate budget and revenue information"
   ]
  },
  {
   "cell_type": "code",
   "execution_count": 170,
   "metadata": {},
   "outputs": [],
   "source": [
    "#Remove rumored and post-production movies (n = 4) because revenue and budget are likely not reliable\n",
    "df = df[df.status == 'Released']"
   ]
  },
  {
   "cell_type": "code",
   "execution_count": 171,
   "metadata": {},
   "outputs": [],
   "source": [
    "#Drop status column since it is all released movies\n",
    "df = df.drop(columns = ['status'])"
   ]
  },
  {
   "cell_type": "markdown",
   "metadata": {},
   "source": [
    "### Convert the release_date column into a datetime column and categorize the dates into seasons, holidays, and months. "
   ]
  },
  {
   "cell_type": "code",
   "execution_count": 172,
   "metadata": {},
   "outputs": [],
   "source": [
    "#Convert release_date to datetime\n",
    "df['release_date'] = pd.to_datetime(df['release_date'])"
   ]
  },
  {
   "cell_type": "code",
   "execution_count": 173,
   "metadata": {},
   "outputs": [],
   "source": [
    "#Define function to convert release dates into holidays/seasons\n",
    "def season(x):\n",
    "    #if february and close to valentines day = Valentine's day\n",
    "    if (x.month == 2) and (10 <= x.day <= 20):\n",
    "        return '''Valentine's Day'''\n",
    "    #if late november or december = Holiday Season\n",
    "    elif (x.month == 11 and x.day >= 15) or (x.month == 12):\n",
    "        return 'Holiday Season'\n",
    "    #if in May, June, or July = Summer\n",
    "    elif (5 <= x.month <= 7):\n",
    "        return \"Summer\"\n",
    "    #if september and close to labor day\n",
    "    elif (x.month == 9) and (1 <= x.day <= 7):\n",
    "        return 'Labor Day'\n",
    "    #if january and close to mlk day\n",
    "    elif (x.month == 1) and (15 <= x.day <= 21):\n",
    "        return 'MLK Day'\n",
    "    #else just return month\n",
    "    else:\n",
    "        return x.strftime(\"%B\")"
   ]
  },
  {
   "cell_type": "code",
   "execution_count": 174,
   "metadata": {},
   "outputs": [],
   "source": [
    "#Add column for release season\n",
    "df['release_season'] = df['release_date'].apply(season)"
   ]
  },
  {
   "cell_type": "markdown",
   "metadata": {},
   "source": [
    "### Add a column to define success as a categorical variable (e.g. break-even, hit, flop) based on the ratio of revenue to budget."
   ]
  },
  {
   "cell_type": "code",
   "execution_count": 175,
   "metadata": {},
   "outputs": [],
   "source": [
    "#Add temporary ratio column (revenue/budget) to determine success\n",
    "df['ratio'] = df.revenue/df.budget"
   ]
  },
  {
   "cell_type": "code",
   "execution_count": 176,
   "metadata": {},
   "outputs": [],
   "source": [
    "#Define function to convert ratio to categorical variables\n",
    "def success(x):\n",
    "    if x >= 5:\n",
    "        return 'Blockbuster'\n",
    "    elif (x < 5) and (x >= 2.5):\n",
    "        return 'Hit'\n",
    "    elif (x < 2.5) and (x >= 1):\n",
    "        return 'Break Even'\n",
    "    elif (x < 1) and (x >= 0.25):\n",
    "        return 'Flop'\n",
    "    else:\n",
    "        return 'Disaster'"
   ]
  },
  {
   "cell_type": "code",
   "execution_count": 177,
   "metadata": {},
   "outputs": [],
   "source": [
    "#Add column of categorial variables\n",
    "df['success_cat'] = df.ratio.apply(success)"
   ]
  },
  {
   "cell_type": "code",
   "execution_count": 178,
   "metadata": {},
   "outputs": [],
   "source": [
    "#Drop ratio column\n",
    "df = df.drop(columns='ratio')"
   ]
  },
  {
   "cell_type": "markdown",
   "metadata": {},
   "source": [
    "### Add column for return-on-investment (ROI)"
   ]
  },
  {
   "cell_type": "code",
   "execution_count": 179,
   "metadata": {},
   "outputs": [],
   "source": [
    "#Add column for return (revenue - budget)/budget\n",
    "df['roi'] = (df.revenue-df.budget)/df.budget"
   ]
  },
  {
   "cell_type": "markdown",
   "metadata": {},
   "source": [
    "### Reset index and rearrange columns, ensuring all column names are lowercase and have no spaces"
   ]
  },
  {
   "cell_type": "code",
   "execution_count": 180,
   "metadata": {},
   "outputs": [],
   "source": [
    "#reset index\n",
    "df = df.reset_index(drop=True)"
   ]
  },
  {
   "cell_type": "code",
   "execution_count": 181,
   "metadata": {},
   "outputs": [],
   "source": [
    "#Rearrange columns and change all column names to lowercase with no spaces\n",
    "cols = df.columns.tolist()\n",
    "cols = ['title','id','collection','budget','genres','release_date','runtime','vote_average','vote_count',\n",
    "        'original_language','actor','director','Action','Adventure','Animation','Comedy','Crime','Documentary','Drama',\n",
    "        'Family','Fantasy','Foreign','History','Horror','Music','Mystery','Romance','Science Fiction','TV Movie',\n",
    "        'Thriller','War','Western','top_actor','top_director','release_season','revenue','roi','success_cat']\n",
    "df = df[cols]"
   ]
  },
  {
   "cell_type": "code",
   "execution_count": 182,
   "metadata": {},
   "outputs": [],
   "source": [
    "df.columns = df.columns.str.lower().str.replace(' ', '_')"
   ]
  },
  {
   "cell_type": "code",
   "execution_count": 183,
   "metadata": {
    "scrolled": true
   },
   "outputs": [
    {
     "data": {
      "text/html": [
       "<div>\n",
       "<style scoped>\n",
       "    .dataframe tbody tr th:only-of-type {\n",
       "        vertical-align: middle;\n",
       "    }\n",
       "\n",
       "    .dataframe tbody tr th {\n",
       "        vertical-align: top;\n",
       "    }\n",
       "\n",
       "    .dataframe thead th {\n",
       "        text-align: right;\n",
       "    }\n",
       "</style>\n",
       "<table border=\"1\" class=\"dataframe\">\n",
       "  <thead>\n",
       "    <tr style=\"text-align: right;\">\n",
       "      <th></th>\n",
       "      <th>title</th>\n",
       "      <th>id</th>\n",
       "      <th>collection</th>\n",
       "      <th>budget</th>\n",
       "      <th>genres</th>\n",
       "      <th>release_date</th>\n",
       "      <th>runtime</th>\n",
       "      <th>vote_average</th>\n",
       "      <th>vote_count</th>\n",
       "      <th>original_language</th>\n",
       "      <th>...</th>\n",
       "      <th>tv_movie</th>\n",
       "      <th>thriller</th>\n",
       "      <th>war</th>\n",
       "      <th>western</th>\n",
       "      <th>top_actor</th>\n",
       "      <th>top_director</th>\n",
       "      <th>release_season</th>\n",
       "      <th>revenue</th>\n",
       "      <th>roi</th>\n",
       "      <th>success_cat</th>\n",
       "    </tr>\n",
       "  </thead>\n",
       "  <tbody>\n",
       "    <tr>\n",
       "      <th>0</th>\n",
       "      <td>Toy Story</td>\n",
       "      <td>862</td>\n",
       "      <td>Toy Story Collection</td>\n",
       "      <td>30000000.0</td>\n",
       "      <td>[Animation, Comedy, Family]</td>\n",
       "      <td>1995-10-30</td>\n",
       "      <td>81.0</td>\n",
       "      <td>7.7</td>\n",
       "      <td>5415.0</td>\n",
       "      <td>en</td>\n",
       "      <td>...</td>\n",
       "      <td>0</td>\n",
       "      <td>0</td>\n",
       "      <td>0</td>\n",
       "      <td>0</td>\n",
       "      <td>1</td>\n",
       "      <td>1</td>\n",
       "      <td>October</td>\n",
       "      <td>373554033.0</td>\n",
       "      <td>11.451801</td>\n",
       "      <td>Blockbuster</td>\n",
       "    </tr>\n",
       "    <tr>\n",
       "      <th>1</th>\n",
       "      <td>Jumanji</td>\n",
       "      <td>8844</td>\n",
       "      <td>0</td>\n",
       "      <td>65000000.0</td>\n",
       "      <td>[Adventure, Fantasy, Family]</td>\n",
       "      <td>1995-12-15</td>\n",
       "      <td>104.0</td>\n",
       "      <td>6.9</td>\n",
       "      <td>2413.0</td>\n",
       "      <td>en</td>\n",
       "      <td>...</td>\n",
       "      <td>0</td>\n",
       "      <td>0</td>\n",
       "      <td>0</td>\n",
       "      <td>0</td>\n",
       "      <td>1</td>\n",
       "      <td>0</td>\n",
       "      <td>Holiday Season</td>\n",
       "      <td>262797249.0</td>\n",
       "      <td>3.043035</td>\n",
       "      <td>Hit</td>\n",
       "    </tr>\n",
       "    <tr>\n",
       "      <th>2</th>\n",
       "      <td>Waiting to Exhale</td>\n",
       "      <td>31357</td>\n",
       "      <td>0</td>\n",
       "      <td>16000000.0</td>\n",
       "      <td>[Comedy, Drama, Romance]</td>\n",
       "      <td>1995-12-22</td>\n",
       "      <td>127.0</td>\n",
       "      <td>6.1</td>\n",
       "      <td>34.0</td>\n",
       "      <td>en</td>\n",
       "      <td>...</td>\n",
       "      <td>0</td>\n",
       "      <td>0</td>\n",
       "      <td>0</td>\n",
       "      <td>0</td>\n",
       "      <td>0</td>\n",
       "      <td>0</td>\n",
       "      <td>Holiday Season</td>\n",
       "      <td>81452156.0</td>\n",
       "      <td>4.090760</td>\n",
       "      <td>Blockbuster</td>\n",
       "    </tr>\n",
       "    <tr>\n",
       "      <th>3</th>\n",
       "      <td>Heat</td>\n",
       "      <td>949</td>\n",
       "      <td>0</td>\n",
       "      <td>60000000.0</td>\n",
       "      <td>[Action, Crime, Drama, Thriller]</td>\n",
       "      <td>1995-12-15</td>\n",
       "      <td>170.0</td>\n",
       "      <td>7.7</td>\n",
       "      <td>1886.0</td>\n",
       "      <td>en</td>\n",
       "      <td>...</td>\n",
       "      <td>0</td>\n",
       "      <td>1</td>\n",
       "      <td>0</td>\n",
       "      <td>0</td>\n",
       "      <td>0</td>\n",
       "      <td>0</td>\n",
       "      <td>Holiday Season</td>\n",
       "      <td>187436818.0</td>\n",
       "      <td>2.123947</td>\n",
       "      <td>Hit</td>\n",
       "    </tr>\n",
       "    <tr>\n",
       "      <th>4</th>\n",
       "      <td>Sudden Death</td>\n",
       "      <td>9091</td>\n",
       "      <td>0</td>\n",
       "      <td>35000000.0</td>\n",
       "      <td>[Action, Adventure, Thriller]</td>\n",
       "      <td>1995-12-22</td>\n",
       "      <td>106.0</td>\n",
       "      <td>5.5</td>\n",
       "      <td>174.0</td>\n",
       "      <td>en</td>\n",
       "      <td>...</td>\n",
       "      <td>0</td>\n",
       "      <td>1</td>\n",
       "      <td>0</td>\n",
       "      <td>0</td>\n",
       "      <td>0</td>\n",
       "      <td>0</td>\n",
       "      <td>Holiday Season</td>\n",
       "      <td>64350171.0</td>\n",
       "      <td>0.838576</td>\n",
       "      <td>Break Even</td>\n",
       "    </tr>\n",
       "  </tbody>\n",
       "</table>\n",
       "<p>5 rows × 38 columns</p>\n",
       "</div>"
      ],
      "text/plain": [
       "               title     id            collection      budget  \\\n",
       "0          Toy Story    862  Toy Story Collection  30000000.0   \n",
       "1            Jumanji   8844                     0  65000000.0   \n",
       "2  Waiting to Exhale  31357                     0  16000000.0   \n",
       "3               Heat    949                     0  60000000.0   \n",
       "4       Sudden Death   9091                     0  35000000.0   \n",
       "\n",
       "                             genres release_date  runtime  vote_average  \\\n",
       "0       [Animation, Comedy, Family]   1995-10-30     81.0           7.7   \n",
       "1      [Adventure, Fantasy, Family]   1995-12-15    104.0           6.9   \n",
       "2          [Comedy, Drama, Romance]   1995-12-22    127.0           6.1   \n",
       "3  [Action, Crime, Drama, Thriller]   1995-12-15    170.0           7.7   \n",
       "4     [Action, Adventure, Thriller]   1995-12-22    106.0           5.5   \n",
       "\n",
       "   vote_count original_language     ...      tv_movie thriller  war  western  \\\n",
       "0      5415.0                en     ...             0        0    0        0   \n",
       "1      2413.0                en     ...             0        0    0        0   \n",
       "2        34.0                en     ...             0        0    0        0   \n",
       "3      1886.0                en     ...             0        1    0        0   \n",
       "4       174.0                en     ...             0        1    0        0   \n",
       "\n",
       "   top_actor  top_director  release_season      revenue        roi  \\\n",
       "0          1             1         October  373554033.0  11.451801   \n",
       "1          1             0  Holiday Season  262797249.0   3.043035   \n",
       "2          0             0  Holiday Season   81452156.0   4.090760   \n",
       "3          0             0  Holiday Season  187436818.0   2.123947   \n",
       "4          0             0  Holiday Season   64350171.0   0.838576   \n",
       "\n",
       "   success_cat  \n",
       "0  Blockbuster  \n",
       "1          Hit  \n",
       "2  Blockbuster  \n",
       "3          Hit  \n",
       "4   Break Even  \n",
       "\n",
       "[5 rows x 38 columns]"
      ]
     },
     "execution_count": 183,
     "metadata": {},
     "output_type": "execute_result"
    }
   ],
   "source": [
    "#Visualize final data\n",
    "df.head()"
   ]
  },
  {
   "cell_type": "code",
   "execution_count": 184,
   "metadata": {
    "scrolled": true
   },
   "outputs": [
    {
     "name": "stdout",
     "output_type": "stream",
     "text": [
      "<class 'pandas.core.frame.DataFrame'>\n",
      "RangeIndex: 5262 entries, 0 to 5261\n",
      "Data columns (total 38 columns):\n",
      "title                5262 non-null object\n",
      "id                   5262 non-null int64\n",
      "collection           5262 non-null object\n",
      "budget               5262 non-null float64\n",
      "genres               5262 non-null object\n",
      "release_date         5262 non-null datetime64[ns]\n",
      "runtime              5262 non-null float64\n",
      "vote_average         5262 non-null float64\n",
      "vote_count           5262 non-null float64\n",
      "original_language    5262 non-null object\n",
      "actor                5262 non-null object\n",
      "director             5262 non-null object\n",
      "action               5262 non-null uint8\n",
      "adventure            5262 non-null uint8\n",
      "animation            5262 non-null uint8\n",
      "comedy               5262 non-null uint8\n",
      "crime                5262 non-null uint8\n",
      "documentary          5262 non-null uint8\n",
      "drama                5262 non-null uint8\n",
      "family               5262 non-null uint8\n",
      "fantasy              5262 non-null uint8\n",
      "foreign              5262 non-null uint8\n",
      "history              5262 non-null uint8\n",
      "horror               5262 non-null uint8\n",
      "music                5262 non-null uint8\n",
      "mystery              5262 non-null uint8\n",
      "romance              5262 non-null uint8\n",
      "science_fiction      5262 non-null uint8\n",
      "tv_movie             5262 non-null uint8\n",
      "thriller             5262 non-null uint8\n",
      "war                  5262 non-null uint8\n",
      "western              5262 non-null uint8\n",
      "top_actor            5262 non-null int64\n",
      "top_director         5262 non-null int64\n",
      "release_season       5262 non-null object\n",
      "revenue              5262 non-null float64\n",
      "roi                  5262 non-null float64\n",
      "success_cat          5262 non-null object\n",
      "dtypes: datetime64[ns](1), float64(6), int64(3), object(8), uint8(20)\n",
      "memory usage: 842.8+ KB\n"
     ]
    }
   ],
   "source": [
    "#Confirm all columns are of the right type and have no null values\n",
    "df.info()"
   ]
  },
  {
   "cell_type": "code",
   "execution_count": 185,
   "metadata": {},
   "outputs": [
    {
     "data": {
      "text/html": [
       "<div>\n",
       "<style scoped>\n",
       "    .dataframe tbody tr th:only-of-type {\n",
       "        vertical-align: middle;\n",
       "    }\n",
       "\n",
       "    .dataframe tbody tr th {\n",
       "        vertical-align: top;\n",
       "    }\n",
       "\n",
       "    .dataframe thead th {\n",
       "        text-align: right;\n",
       "    }\n",
       "</style>\n",
       "<table border=\"1\" class=\"dataframe\">\n",
       "  <thead>\n",
       "    <tr style=\"text-align: right;\">\n",
       "      <th></th>\n",
       "      <th>id</th>\n",
       "      <th>budget</th>\n",
       "      <th>runtime</th>\n",
       "      <th>vote_average</th>\n",
       "      <th>vote_count</th>\n",
       "      <th>action</th>\n",
       "      <th>adventure</th>\n",
       "      <th>animation</th>\n",
       "      <th>comedy</th>\n",
       "      <th>crime</th>\n",
       "      <th>...</th>\n",
       "      <th>romance</th>\n",
       "      <th>science_fiction</th>\n",
       "      <th>tv_movie</th>\n",
       "      <th>thriller</th>\n",
       "      <th>war</th>\n",
       "      <th>western</th>\n",
       "      <th>top_actor</th>\n",
       "      <th>top_director</th>\n",
       "      <th>revenue</th>\n",
       "      <th>roi</th>\n",
       "    </tr>\n",
       "  </thead>\n",
       "  <tbody>\n",
       "    <tr>\n",
       "      <th>count</th>\n",
       "      <td>5262.000000</td>\n",
       "      <td>5.262000e+03</td>\n",
       "      <td>5262.000000</td>\n",
       "      <td>5262.000000</td>\n",
       "      <td>5262.000000</td>\n",
       "      <td>5262.000000</td>\n",
       "      <td>5262.000000</td>\n",
       "      <td>5262.000000</td>\n",
       "      <td>5262.000000</td>\n",
       "      <td>5262.000000</td>\n",
       "      <td>...</td>\n",
       "      <td>5262.000000</td>\n",
       "      <td>5262.000000</td>\n",
       "      <td>5262.000000</td>\n",
       "      <td>5262.000000</td>\n",
       "      <td>5262.000000</td>\n",
       "      <td>5262.000000</td>\n",
       "      <td>5262.000000</td>\n",
       "      <td>5262.000000</td>\n",
       "      <td>5.262000e+03</td>\n",
       "      <td>5262.000000</td>\n",
       "    </tr>\n",
       "    <tr>\n",
       "      <th>mean</th>\n",
       "      <td>60112.900608</td>\n",
       "      <td>3.172721e+07</td>\n",
       "      <td>110.200304</td>\n",
       "      <td>6.287723</td>\n",
       "      <td>747.364690</td>\n",
       "      <td>0.265108</td>\n",
       "      <td>0.180160</td>\n",
       "      <td>0.054922</td>\n",
       "      <td>0.343216</td>\n",
       "      <td>0.160965</td>\n",
       "      <td>...</td>\n",
       "      <td>0.186811</td>\n",
       "      <td>0.119156</td>\n",
       "      <td>0.000190</td>\n",
       "      <td>0.281072</td>\n",
       "      <td>0.038008</td>\n",
       "      <td>0.016914</td>\n",
       "      <td>0.120487</td>\n",
       "      <td>0.075827</td>\n",
       "      <td>9.223473e+07</td>\n",
       "      <td>7.548629</td>\n",
       "    </tr>\n",
       "    <tr>\n",
       "      <th>std</th>\n",
       "      <td>95596.536029</td>\n",
       "      <td>4.037863e+07</td>\n",
       "      <td>21.505426</td>\n",
       "      <td>0.891516</td>\n",
       "      <td>1261.375204</td>\n",
       "      <td>0.441433</td>\n",
       "      <td>0.384357</td>\n",
       "      <td>0.227850</td>\n",
       "      <td>0.474828</td>\n",
       "      <td>0.367534</td>\n",
       "      <td>...</td>\n",
       "      <td>0.389797</td>\n",
       "      <td>0.324003</td>\n",
       "      <td>0.013786</td>\n",
       "      <td>0.449565</td>\n",
       "      <td>0.191235</td>\n",
       "      <td>0.128960</td>\n",
       "      <td>0.325561</td>\n",
       "      <td>0.264746</td>\n",
       "      <td>1.674949e+08</td>\n",
       "      <td>187.682173</td>\n",
       "    </tr>\n",
       "    <tr>\n",
       "      <th>min</th>\n",
       "      <td>5.000000</td>\n",
       "      <td>1.117800e+04</td>\n",
       "      <td>26.000000</td>\n",
       "      <td>1.000000</td>\n",
       "      <td>1.000000</td>\n",
       "      <td>0.000000</td>\n",
       "      <td>0.000000</td>\n",
       "      <td>0.000000</td>\n",
       "      <td>0.000000</td>\n",
       "      <td>0.000000</td>\n",
       "      <td>...</td>\n",
       "      <td>0.000000</td>\n",
       "      <td>0.000000</td>\n",
       "      <td>0.000000</td>\n",
       "      <td>0.000000</td>\n",
       "      <td>0.000000</td>\n",
       "      <td>0.000000</td>\n",
       "      <td>0.000000</td>\n",
       "      <td>0.000000</td>\n",
       "      <td>1.596000e+03</td>\n",
       "      <td>-0.999790</td>\n",
       "    </tr>\n",
       "    <tr>\n",
       "      <th>25%</th>\n",
       "      <td>8584.750000</td>\n",
       "      <td>6.000000e+06</td>\n",
       "      <td>95.000000</td>\n",
       "      <td>5.700000</td>\n",
       "      <td>83.000000</td>\n",
       "      <td>0.000000</td>\n",
       "      <td>0.000000</td>\n",
       "      <td>0.000000</td>\n",
       "      <td>0.000000</td>\n",
       "      <td>0.000000</td>\n",
       "      <td>...</td>\n",
       "      <td>0.000000</td>\n",
       "      <td>0.000000</td>\n",
       "      <td>0.000000</td>\n",
       "      <td>0.000000</td>\n",
       "      <td>0.000000</td>\n",
       "      <td>0.000000</td>\n",
       "      <td>0.000000</td>\n",
       "      <td>0.000000</td>\n",
       "      <td>7.900000e+06</td>\n",
       "      <td>-0.197273</td>\n",
       "    </tr>\n",
       "    <tr>\n",
       "      <th>50%</th>\n",
       "      <td>14085.000000</td>\n",
       "      <td>1.750000e+07</td>\n",
       "      <td>106.000000</td>\n",
       "      <td>6.300000</td>\n",
       "      <td>287.000000</td>\n",
       "      <td>0.000000</td>\n",
       "      <td>0.000000</td>\n",
       "      <td>0.000000</td>\n",
       "      <td>0.000000</td>\n",
       "      <td>0.000000</td>\n",
       "      <td>...</td>\n",
       "      <td>0.000000</td>\n",
       "      <td>0.000000</td>\n",
       "      <td>0.000000</td>\n",
       "      <td>0.000000</td>\n",
       "      <td>0.000000</td>\n",
       "      <td>0.000000</td>\n",
       "      <td>0.000000</td>\n",
       "      <td>0.000000</td>\n",
       "      <td>3.106662e+07</td>\n",
       "      <td>1.077324</td>\n",
       "    </tr>\n",
       "    <tr>\n",
       "      <th>75%</th>\n",
       "      <td>59184.500000</td>\n",
       "      <td>4.000000e+07</td>\n",
       "      <td>120.000000</td>\n",
       "      <td>6.900000</td>\n",
       "      <td>830.500000</td>\n",
       "      <td>1.000000</td>\n",
       "      <td>0.000000</td>\n",
       "      <td>0.000000</td>\n",
       "      <td>1.000000</td>\n",
       "      <td>0.000000</td>\n",
       "      <td>...</td>\n",
       "      <td>0.000000</td>\n",
       "      <td>0.000000</td>\n",
       "      <td>0.000000</td>\n",
       "      <td>1.000000</td>\n",
       "      <td>0.000000</td>\n",
       "      <td>0.000000</td>\n",
       "      <td>0.000000</td>\n",
       "      <td>0.000000</td>\n",
       "      <td>1.015876e+08</td>\n",
       "      <td>3.239585</td>\n",
       "    </tr>\n",
       "    <tr>\n",
       "      <th>max</th>\n",
       "      <td>443319.000000</td>\n",
       "      <td>3.800000e+08</td>\n",
       "      <td>338.000000</td>\n",
       "      <td>9.100000</td>\n",
       "      <td>14075.000000</td>\n",
       "      <td>1.000000</td>\n",
       "      <td>1.000000</td>\n",
       "      <td>1.000000</td>\n",
       "      <td>1.000000</td>\n",
       "      <td>1.000000</td>\n",
       "      <td>...</td>\n",
       "      <td>1.000000</td>\n",
       "      <td>1.000000</td>\n",
       "      <td>1.000000</td>\n",
       "      <td>1.000000</td>\n",
       "      <td>1.000000</td>\n",
       "      <td>1.000000</td>\n",
       "      <td>1.000000</td>\n",
       "      <td>1.000000</td>\n",
       "      <td>2.787965e+09</td>\n",
       "      <td>12889.386667</td>\n",
       "    </tr>\n",
       "  </tbody>\n",
       "</table>\n",
       "<p>8 rows × 29 columns</p>\n",
       "</div>"
      ],
      "text/plain": [
       "                  id        budget      runtime  vote_average    vote_count  \\\n",
       "count    5262.000000  5.262000e+03  5262.000000   5262.000000   5262.000000   \n",
       "mean    60112.900608  3.172721e+07   110.200304      6.287723    747.364690   \n",
       "std     95596.536029  4.037863e+07    21.505426      0.891516   1261.375204   \n",
       "min         5.000000  1.117800e+04    26.000000      1.000000      1.000000   \n",
       "25%      8584.750000  6.000000e+06    95.000000      5.700000     83.000000   \n",
       "50%     14085.000000  1.750000e+07   106.000000      6.300000    287.000000   \n",
       "75%     59184.500000  4.000000e+07   120.000000      6.900000    830.500000   \n",
       "max    443319.000000  3.800000e+08   338.000000      9.100000  14075.000000   \n",
       "\n",
       "            action    adventure    animation       comedy        crime  \\\n",
       "count  5262.000000  5262.000000  5262.000000  5262.000000  5262.000000   \n",
       "mean      0.265108     0.180160     0.054922     0.343216     0.160965   \n",
       "std       0.441433     0.384357     0.227850     0.474828     0.367534   \n",
       "min       0.000000     0.000000     0.000000     0.000000     0.000000   \n",
       "25%       0.000000     0.000000     0.000000     0.000000     0.000000   \n",
       "50%       0.000000     0.000000     0.000000     0.000000     0.000000   \n",
       "75%       1.000000     0.000000     0.000000     1.000000     0.000000   \n",
       "max       1.000000     1.000000     1.000000     1.000000     1.000000   \n",
       "\n",
       "           ...           romance  science_fiction     tv_movie     thriller  \\\n",
       "count      ...       5262.000000      5262.000000  5262.000000  5262.000000   \n",
       "mean       ...          0.186811         0.119156     0.000190     0.281072   \n",
       "std        ...          0.389797         0.324003     0.013786     0.449565   \n",
       "min        ...          0.000000         0.000000     0.000000     0.000000   \n",
       "25%        ...          0.000000         0.000000     0.000000     0.000000   \n",
       "50%        ...          0.000000         0.000000     0.000000     0.000000   \n",
       "75%        ...          0.000000         0.000000     0.000000     1.000000   \n",
       "max        ...          1.000000         1.000000     1.000000     1.000000   \n",
       "\n",
       "               war      western    top_actor  top_director       revenue  \\\n",
       "count  5262.000000  5262.000000  5262.000000   5262.000000  5.262000e+03   \n",
       "mean      0.038008     0.016914     0.120487      0.075827  9.223473e+07   \n",
       "std       0.191235     0.128960     0.325561      0.264746  1.674949e+08   \n",
       "min       0.000000     0.000000     0.000000      0.000000  1.596000e+03   \n",
       "25%       0.000000     0.000000     0.000000      0.000000  7.900000e+06   \n",
       "50%       0.000000     0.000000     0.000000      0.000000  3.106662e+07   \n",
       "75%       0.000000     0.000000     0.000000      0.000000  1.015876e+08   \n",
       "max       1.000000     1.000000     1.000000      1.000000  2.787965e+09   \n",
       "\n",
       "                roi  \n",
       "count   5262.000000  \n",
       "mean       7.548629  \n",
       "std      187.682173  \n",
       "min       -0.999790  \n",
       "25%       -0.197273  \n",
       "50%        1.077324  \n",
       "75%        3.239585  \n",
       "max    12889.386667  \n",
       "\n",
       "[8 rows x 29 columns]"
      ]
     },
     "execution_count": 185,
     "metadata": {},
     "output_type": "execute_result"
    }
   ],
   "source": [
    "df.describe()"
   ]
  },
  {
   "cell_type": "markdown",
   "metadata": {},
   "source": [
    "### Write cleaned dataframe to csv file"
   ]
  },
  {
   "cell_type": "code",
   "execution_count": 186,
   "metadata": {},
   "outputs": [],
   "source": [
    "#Write to csv\n",
    "df.to_csv('cleaned.csv',index=False)"
   ]
  },
  {
   "cell_type": "code",
   "execution_count": null,
   "metadata": {},
   "outputs": [],
   "source": []
  },
  {
   "cell_type": "code",
   "execution_count": null,
   "metadata": {},
   "outputs": [],
   "source": []
  }
 ],
 "metadata": {
  "kernelspec": {
   "display_name": "Python 3",
   "language": "python",
   "name": "python3"
  },
  "language_info": {
   "codemirror_mode": {
    "name": "ipython",
    "version": 3
   },
   "file_extension": ".py",
   "mimetype": "text/x-python",
   "name": "python",
   "nbconvert_exporter": "python",
   "pygments_lexer": "ipython3",
   "version": "3.7.1"
  }
 },
 "nbformat": 4,
 "nbformat_minor": 2
}
