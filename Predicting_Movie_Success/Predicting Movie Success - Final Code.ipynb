{
 "cells": [
  {
   "cell_type": "markdown",
   "metadata": {},
   "source": [
    "### Import relevant modules"
   ]
  },
  {
   "cell_type": "code",
   "execution_count": 1,
   "metadata": {},
   "outputs": [],
   "source": [
    "import pandas as pd\n",
    "import numpy as np\n",
    "import matplotlib.pyplot as plt\n",
    "import seaborn as sns\n",
    "import ast\n",
    "from datetime import datetime\n",
    "pd.options.mode.chained_assignment = None  # default='warn'"
   ]
  },
  {
   "cell_type": "markdown",
   "metadata": {},
   "source": [
    "### Access the movies dataset here: https://www.kaggle.com/rounakbanik/the-movies-dataset"
   ]
  },
  {
   "cell_type": "markdown",
   "metadata": {},
   "source": [
    " ### Import data files and start exploring data at a high-level"
   ]
  },
  {
   "cell_type": "code",
   "execution_count": 2,
   "metadata": {},
   "outputs": [],
   "source": [
    "#import credits csv files into dataframes\n",
    "credits = pd.read_csv('credits.csv')"
   ]
  },
  {
   "cell_type": "code",
   "execution_count": 3,
   "metadata": {},
   "outputs": [
    {
     "data": {
      "text/html": [
       "<div>\n",
       "<style scoped>\n",
       "    .dataframe tbody tr th:only-of-type {\n",
       "        vertical-align: middle;\n",
       "    }\n",
       "\n",
       "    .dataframe tbody tr th {\n",
       "        vertical-align: top;\n",
       "    }\n",
       "\n",
       "    .dataframe thead th {\n",
       "        text-align: right;\n",
       "    }\n",
       "</style>\n",
       "<table border=\"1\" class=\"dataframe\">\n",
       "  <thead>\n",
       "    <tr style=\"text-align: right;\">\n",
       "      <th></th>\n",
       "      <th>cast</th>\n",
       "      <th>crew</th>\n",
       "      <th>id</th>\n",
       "    </tr>\n",
       "  </thead>\n",
       "  <tbody>\n",
       "    <tr>\n",
       "      <th>0</th>\n",
       "      <td>[{'cast_id': 14, 'character': 'Woody (voice)',...</td>\n",
       "      <td>[{'credit_id': '52fe4284c3a36847f8024f49', 'de...</td>\n",
       "      <td>862</td>\n",
       "    </tr>\n",
       "    <tr>\n",
       "      <th>1</th>\n",
       "      <td>[{'cast_id': 1, 'character': 'Alan Parrish', '...</td>\n",
       "      <td>[{'credit_id': '52fe44bfc3a36847f80a7cd1', 'de...</td>\n",
       "      <td>8844</td>\n",
       "    </tr>\n",
       "    <tr>\n",
       "      <th>2</th>\n",
       "      <td>[{'cast_id': 2, 'character': 'Max Goldman', 'c...</td>\n",
       "      <td>[{'credit_id': '52fe466a9251416c75077a89', 'de...</td>\n",
       "      <td>15602</td>\n",
       "    </tr>\n",
       "    <tr>\n",
       "      <th>3</th>\n",
       "      <td>[{'cast_id': 1, 'character': \"Savannah 'Vannah...</td>\n",
       "      <td>[{'credit_id': '52fe44779251416c91011acb', 'de...</td>\n",
       "      <td>31357</td>\n",
       "    </tr>\n",
       "    <tr>\n",
       "      <th>4</th>\n",
       "      <td>[{'cast_id': 1, 'character': 'George Banks', '...</td>\n",
       "      <td>[{'credit_id': '52fe44959251416c75039ed7', 'de...</td>\n",
       "      <td>11862</td>\n",
       "    </tr>\n",
       "  </tbody>\n",
       "</table>\n",
       "</div>"
      ],
      "text/plain": [
       "                                                cast  \\\n",
       "0  [{'cast_id': 14, 'character': 'Woody (voice)',...   \n",
       "1  [{'cast_id': 1, 'character': 'Alan Parrish', '...   \n",
       "2  [{'cast_id': 2, 'character': 'Max Goldman', 'c...   \n",
       "3  [{'cast_id': 1, 'character': \"Savannah 'Vannah...   \n",
       "4  [{'cast_id': 1, 'character': 'George Banks', '...   \n",
       "\n",
       "                                                crew     id  \n",
       "0  [{'credit_id': '52fe4284c3a36847f8024f49', 'de...    862  \n",
       "1  [{'credit_id': '52fe44bfc3a36847f80a7cd1', 'de...   8844  \n",
       "2  [{'credit_id': '52fe466a9251416c75077a89', 'de...  15602  \n",
       "3  [{'credit_id': '52fe44779251416c91011acb', 'de...  31357  \n",
       "4  [{'credit_id': '52fe44959251416c75039ed7', 'de...  11862  "
      ]
     },
     "execution_count": 3,
     "metadata": {},
     "output_type": "execute_result"
    }
   ],
   "source": [
    "#see dataframe\n",
    "credits.head()"
   ]
  },
  {
   "cell_type": "code",
   "execution_count": 4,
   "metadata": {},
   "outputs": [
    {
     "name": "stdout",
     "output_type": "stream",
     "text": [
      "<class 'pandas.core.frame.DataFrame'>\n",
      "RangeIndex: 45476 entries, 0 to 45475\n",
      "Data columns (total 3 columns):\n",
      "cast    45476 non-null object\n",
      "crew    45476 non-null object\n",
      "id      45476 non-null int64\n",
      "dtypes: int64(1), object(2)\n",
      "memory usage: 1.0+ MB\n"
     ]
    }
   ],
   "source": [
    "#get info\n",
    "credits.info()"
   ]
  },
  {
   "cell_type": "code",
   "execution_count": 5,
   "metadata": {},
   "outputs": [],
   "source": [
    "#Drop any duplicates in credits based on id\n",
    "credits = credits.drop_duplicates(subset=['id'])"
   ]
  },
  {
   "cell_type": "code",
   "execution_count": 6,
   "metadata": {},
   "outputs": [],
   "source": [
    "#import movies csv file into dataframes\n",
    "movies = pd.read_csv('movies_metadata.csv',low_memory=False)"
   ]
  },
  {
   "cell_type": "code",
   "execution_count": 7,
   "metadata": {},
   "outputs": [],
   "source": [
    "#drop irrelevant columns: 'homepage','overview', 'original_title', 'imdb_id', 'spoken_languages', \n",
    "#'production_companies', 'production_countries','poster_path','popularity','tagline','video'\n",
    "movies_dropped = movies.drop(columns = ['homepage','overview', 'original_title', 'spoken_languages',\n",
    "                                        'production_companies', 'production_countries','imdb_id',\n",
    "                                        'poster_path','popularity','tagline','video'])\n"
   ]
  },
  {
   "cell_type": "code",
   "execution_count": 8,
   "metadata": {
    "scrolled": true
   },
   "outputs": [
    {
     "data": {
      "text/html": [
       "<div>\n",
       "<style scoped>\n",
       "    .dataframe tbody tr th:only-of-type {\n",
       "        vertical-align: middle;\n",
       "    }\n",
       "\n",
       "    .dataframe tbody tr th {\n",
       "        vertical-align: top;\n",
       "    }\n",
       "\n",
       "    .dataframe thead th {\n",
       "        text-align: right;\n",
       "    }\n",
       "</style>\n",
       "<table border=\"1\" class=\"dataframe\">\n",
       "  <thead>\n",
       "    <tr style=\"text-align: right;\">\n",
       "      <th></th>\n",
       "      <th>adult</th>\n",
       "      <th>belongs_to_collection</th>\n",
       "      <th>budget</th>\n",
       "      <th>genres</th>\n",
       "      <th>id</th>\n",
       "      <th>original_language</th>\n",
       "      <th>release_date</th>\n",
       "      <th>revenue</th>\n",
       "      <th>runtime</th>\n",
       "      <th>status</th>\n",
       "      <th>title</th>\n",
       "      <th>vote_average</th>\n",
       "      <th>vote_count</th>\n",
       "    </tr>\n",
       "  </thead>\n",
       "  <tbody>\n",
       "    <tr>\n",
       "      <th>0</th>\n",
       "      <td>False</td>\n",
       "      <td>{'id': 10194, 'name': 'Toy Story Collection', ...</td>\n",
       "      <td>30000000</td>\n",
       "      <td>[{'id': 16, 'name': 'Animation'}, {'id': 35, '...</td>\n",
       "      <td>862</td>\n",
       "      <td>en</td>\n",
       "      <td>1995-10-30</td>\n",
       "      <td>373554033.0</td>\n",
       "      <td>81.0</td>\n",
       "      <td>Released</td>\n",
       "      <td>Toy Story</td>\n",
       "      <td>7.7</td>\n",
       "      <td>5415.0</td>\n",
       "    </tr>\n",
       "    <tr>\n",
       "      <th>1</th>\n",
       "      <td>False</td>\n",
       "      <td>NaN</td>\n",
       "      <td>65000000</td>\n",
       "      <td>[{'id': 12, 'name': 'Adventure'}, {'id': 14, '...</td>\n",
       "      <td>8844</td>\n",
       "      <td>en</td>\n",
       "      <td>1995-12-15</td>\n",
       "      <td>262797249.0</td>\n",
       "      <td>104.0</td>\n",
       "      <td>Released</td>\n",
       "      <td>Jumanji</td>\n",
       "      <td>6.9</td>\n",
       "      <td>2413.0</td>\n",
       "    </tr>\n",
       "    <tr>\n",
       "      <th>2</th>\n",
       "      <td>False</td>\n",
       "      <td>{'id': 119050, 'name': 'Grumpy Old Men Collect...</td>\n",
       "      <td>0</td>\n",
       "      <td>[{'id': 10749, 'name': 'Romance'}, {'id': 35, ...</td>\n",
       "      <td>15602</td>\n",
       "      <td>en</td>\n",
       "      <td>1995-12-22</td>\n",
       "      <td>0.0</td>\n",
       "      <td>101.0</td>\n",
       "      <td>Released</td>\n",
       "      <td>Grumpier Old Men</td>\n",
       "      <td>6.5</td>\n",
       "      <td>92.0</td>\n",
       "    </tr>\n",
       "    <tr>\n",
       "      <th>3</th>\n",
       "      <td>False</td>\n",
       "      <td>NaN</td>\n",
       "      <td>16000000</td>\n",
       "      <td>[{'id': 35, 'name': 'Comedy'}, {'id': 18, 'nam...</td>\n",
       "      <td>31357</td>\n",
       "      <td>en</td>\n",
       "      <td>1995-12-22</td>\n",
       "      <td>81452156.0</td>\n",
       "      <td>127.0</td>\n",
       "      <td>Released</td>\n",
       "      <td>Waiting to Exhale</td>\n",
       "      <td>6.1</td>\n",
       "      <td>34.0</td>\n",
       "    </tr>\n",
       "    <tr>\n",
       "      <th>4</th>\n",
       "      <td>False</td>\n",
       "      <td>{'id': 96871, 'name': 'Father of the Bride Col...</td>\n",
       "      <td>0</td>\n",
       "      <td>[{'id': 35, 'name': 'Comedy'}]</td>\n",
       "      <td>11862</td>\n",
       "      <td>en</td>\n",
       "      <td>1995-02-10</td>\n",
       "      <td>76578911.0</td>\n",
       "      <td>106.0</td>\n",
       "      <td>Released</td>\n",
       "      <td>Father of the Bride Part II</td>\n",
       "      <td>5.7</td>\n",
       "      <td>173.0</td>\n",
       "    </tr>\n",
       "  </tbody>\n",
       "</table>\n",
       "</div>"
      ],
      "text/plain": [
       "   adult                              belongs_to_collection    budget  \\\n",
       "0  False  {'id': 10194, 'name': 'Toy Story Collection', ...  30000000   \n",
       "1  False                                                NaN  65000000   \n",
       "2  False  {'id': 119050, 'name': 'Grumpy Old Men Collect...         0   \n",
       "3  False                                                NaN  16000000   \n",
       "4  False  {'id': 96871, 'name': 'Father of the Bride Col...         0   \n",
       "\n",
       "                                              genres     id original_language  \\\n",
       "0  [{'id': 16, 'name': 'Animation'}, {'id': 35, '...    862                en   \n",
       "1  [{'id': 12, 'name': 'Adventure'}, {'id': 14, '...   8844                en   \n",
       "2  [{'id': 10749, 'name': 'Romance'}, {'id': 35, ...  15602                en   \n",
       "3  [{'id': 35, 'name': 'Comedy'}, {'id': 18, 'nam...  31357                en   \n",
       "4                     [{'id': 35, 'name': 'Comedy'}]  11862                en   \n",
       "\n",
       "  release_date      revenue  runtime    status                        title  \\\n",
       "0   1995-10-30  373554033.0     81.0  Released                    Toy Story   \n",
       "1   1995-12-15  262797249.0    104.0  Released                      Jumanji   \n",
       "2   1995-12-22          0.0    101.0  Released             Grumpier Old Men   \n",
       "3   1995-12-22   81452156.0    127.0  Released            Waiting to Exhale   \n",
       "4   1995-02-10   76578911.0    106.0  Released  Father of the Bride Part II   \n",
       "\n",
       "   vote_average  vote_count  \n",
       "0           7.7      5415.0  \n",
       "1           6.9      2413.0  \n",
       "2           6.5        92.0  \n",
       "3           6.1        34.0  \n",
       "4           5.7       173.0  "
      ]
     },
     "execution_count": 8,
     "metadata": {},
     "output_type": "execute_result"
    }
   ],
   "source": [
    "movies_dropped.head()"
   ]
  },
  {
   "cell_type": "code",
   "execution_count": 9,
   "metadata": {
    "scrolled": true
   },
   "outputs": [
    {
     "name": "stdout",
     "output_type": "stream",
     "text": [
      "<class 'pandas.core.frame.DataFrame'>\n",
      "RangeIndex: 45466 entries, 0 to 45465\n",
      "Data columns (total 13 columns):\n",
      "adult                    45466 non-null object\n",
      "belongs_to_collection    4494 non-null object\n",
      "budget                   45466 non-null object\n",
      "genres                   45466 non-null object\n",
      "id                       45466 non-null object\n",
      "original_language        45455 non-null object\n",
      "release_date             45379 non-null object\n",
      "revenue                  45460 non-null float64\n",
      "runtime                  45203 non-null float64\n",
      "status                   45379 non-null object\n",
      "title                    45460 non-null object\n",
      "vote_average             45460 non-null float64\n",
      "vote_count               45460 non-null float64\n",
      "dtypes: float64(4), object(9)\n",
      "memory usage: 4.5+ MB\n"
     ]
    }
   ],
   "source": [
    "#Look at data info\n",
    "movies_dropped.info()"
   ]
  },
  {
   "cell_type": "code",
   "execution_count": 10,
   "metadata": {},
   "outputs": [],
   "source": [
    "#Drop any duplicates in movies_dropped based on id\n",
    "movies_dropped = movies_dropped.drop_duplicates(subset=['id'])"
   ]
  },
  {
   "cell_type": "markdown",
   "metadata": {},
   "source": [
    "### Fix errors in column types for 'budget' and 'id' columns"
   ]
  },
  {
   "cell_type": "code",
   "execution_count": 11,
   "metadata": {},
   "outputs": [
    {
     "name": "stdout",
     "output_type": "stream",
     "text": [
      "<class 'pandas.core.frame.DataFrame'>\n",
      "Int64Index: 45436 entries, 0 to 45465\n",
      "Data columns (total 13 columns):\n",
      "adult                    45436 non-null object\n",
      "belongs_to_collection    4491 non-null object\n",
      "budget                   45433 non-null float64\n",
      "genres                   45436 non-null object\n",
      "id                       45433 non-null float64\n",
      "original_language        45425 non-null object\n",
      "release_date             45349 non-null object\n",
      "revenue                  45430 non-null float64\n",
      "runtime                  45173 non-null float64\n",
      "status                   45349 non-null object\n",
      "title                    45430 non-null object\n",
      "vote_average             45430 non-null float64\n",
      "vote_count               45430 non-null float64\n",
      "dtypes: float64(6), object(7)\n",
      "memory usage: 4.9+ MB\n"
     ]
    }
   ],
   "source": [
    "#Note that budget is not a numeric type. Convert budget to numeric.\n",
    "movies_dropped['budget'] = pd.to_numeric(movies_dropped['budget'], errors='coerce')\n",
    "\n",
    "#Note that id is also not a numeric type. Convert id to numeric\n",
    "movies_dropped['id'] = pd.to_numeric(movies_dropped['id'], errors='coerce')\n",
    "\n",
    "movies_dropped.info()"
   ]
  },
  {
   "cell_type": "markdown",
   "metadata": {},
   "source": [
    "### Identify missing revenue and budget values as null and drop rows will null values in these columns"
   ]
  },
  {
   "cell_type": "code",
   "execution_count": 12,
   "metadata": {},
   "outputs": [
    {
     "data": {
      "text/html": [
       "<div>\n",
       "<style scoped>\n",
       "    .dataframe tbody tr th:only-of-type {\n",
       "        vertical-align: middle;\n",
       "    }\n",
       "\n",
       "    .dataframe tbody tr th {\n",
       "        vertical-align: top;\n",
       "    }\n",
       "\n",
       "    .dataframe thead th {\n",
       "        text-align: right;\n",
       "    }\n",
       "</style>\n",
       "<table border=\"1\" class=\"dataframe\">\n",
       "  <thead>\n",
       "    <tr style=\"text-align: right;\">\n",
       "      <th></th>\n",
       "      <th>budget</th>\n",
       "      <th>id</th>\n",
       "      <th>revenue</th>\n",
       "      <th>runtime</th>\n",
       "      <th>vote_average</th>\n",
       "      <th>vote_count</th>\n",
       "    </tr>\n",
       "  </thead>\n",
       "  <tbody>\n",
       "    <tr>\n",
       "      <th>count</th>\n",
       "      <td>4.543300e+04</td>\n",
       "      <td>45433.000000</td>\n",
       "      <td>4.543000e+04</td>\n",
       "      <td>45173.00000</td>\n",
       "      <td>45430.000000</td>\n",
       "      <td>45430.000000</td>\n",
       "    </tr>\n",
       "    <tr>\n",
       "      <th>mean</th>\n",
       "      <td>4.224549e+06</td>\n",
       "      <td>108375.226179</td>\n",
       "      <td>1.121288e+07</td>\n",
       "      <td>94.12430</td>\n",
       "      <td>5.618329</td>\n",
       "      <td>109.935989</td>\n",
       "    </tr>\n",
       "    <tr>\n",
       "      <th>std</th>\n",
       "      <td>1.742799e+07</td>\n",
       "      <td>112479.760366</td>\n",
       "      <td>6.435213e+07</td>\n",
       "      <td>38.41554</td>\n",
       "      <td>1.924139</td>\n",
       "      <td>491.466335</td>\n",
       "    </tr>\n",
       "    <tr>\n",
       "      <th>min</th>\n",
       "      <td>0.000000e+00</td>\n",
       "      <td>2.000000</td>\n",
       "      <td>0.000000e+00</td>\n",
       "      <td>0.00000</td>\n",
       "      <td>0.000000</td>\n",
       "      <td>0.000000</td>\n",
       "    </tr>\n",
       "    <tr>\n",
       "      <th>25%</th>\n",
       "      <td>0.000000e+00</td>\n",
       "      <td>26461.000000</td>\n",
       "      <td>0.000000e+00</td>\n",
       "      <td>85.00000</td>\n",
       "      <td>5.000000</td>\n",
       "      <td>3.000000</td>\n",
       "    </tr>\n",
       "    <tr>\n",
       "      <th>50%</th>\n",
       "      <td>0.000000e+00</td>\n",
       "      <td>59996.000000</td>\n",
       "      <td>0.000000e+00</td>\n",
       "      <td>95.00000</td>\n",
       "      <td>6.000000</td>\n",
       "      <td>10.000000</td>\n",
       "    </tr>\n",
       "    <tr>\n",
       "      <th>75%</th>\n",
       "      <td>0.000000e+00</td>\n",
       "      <td>157351.000000</td>\n",
       "      <td>0.000000e+00</td>\n",
       "      <td>107.00000</td>\n",
       "      <td>6.800000</td>\n",
       "      <td>34.000000</td>\n",
       "    </tr>\n",
       "    <tr>\n",
       "      <th>max</th>\n",
       "      <td>3.800000e+08</td>\n",
       "      <td>469172.000000</td>\n",
       "      <td>2.787965e+09</td>\n",
       "      <td>1256.00000</td>\n",
       "      <td>10.000000</td>\n",
       "      <td>14075.000000</td>\n",
       "    </tr>\n",
       "  </tbody>\n",
       "</table>\n",
       "</div>"
      ],
      "text/plain": [
       "             budget             id       revenue      runtime  vote_average  \\\n",
       "count  4.543300e+04   45433.000000  4.543000e+04  45173.00000  45430.000000   \n",
       "mean   4.224549e+06  108375.226179  1.121288e+07     94.12430      5.618329   \n",
       "std    1.742799e+07  112479.760366  6.435213e+07     38.41554      1.924139   \n",
       "min    0.000000e+00       2.000000  0.000000e+00      0.00000      0.000000   \n",
       "25%    0.000000e+00   26461.000000  0.000000e+00     85.00000      5.000000   \n",
       "50%    0.000000e+00   59996.000000  0.000000e+00     95.00000      6.000000   \n",
       "75%    0.000000e+00  157351.000000  0.000000e+00    107.00000      6.800000   \n",
       "max    3.800000e+08  469172.000000  2.787965e+09   1256.00000     10.000000   \n",
       "\n",
       "         vote_count  \n",
       "count  45430.000000  \n",
       "mean     109.935989  \n",
       "std      491.466335  \n",
       "min        0.000000  \n",
       "25%        3.000000  \n",
       "50%       10.000000  \n",
       "75%       34.000000  \n",
       "max    14075.000000  "
      ]
     },
     "execution_count": 12,
     "metadata": {},
     "output_type": "execute_result"
    }
   ],
   "source": [
    "#Look at data statistics\n",
    "#Note that many movies are showing a budget and revenue of 0. There are also movies with a runtime of 0.\n",
    "movies_dropped.describe()"
   ]
  },
  {
   "cell_type": "code",
   "execution_count": 13,
   "metadata": {},
   "outputs": [
    {
     "data": {
      "text/plain": [
       "38032"
      ]
     },
     "execution_count": 13,
     "metadata": {},
     "output_type": "execute_result"
    }
   ],
   "source": [
    "#Number of movies with 0 revenue\n",
    "movies_dropped[movies_dropped.revenue==0]['revenue'].count()"
   ]
  },
  {
   "cell_type": "code",
   "execution_count": 14,
   "metadata": {},
   "outputs": [
    {
     "data": {
      "text/plain": [
       "36553"
      ]
     },
     "execution_count": 14,
     "metadata": {},
     "output_type": "execute_result"
    }
   ],
   "source": [
    "#Number of movies with 0 budget\n",
    "movies_dropped[movies_dropped.budget==0]['budget'].count()"
   ]
  },
  {
   "cell_type": "code",
   "execution_count": 15,
   "metadata": {},
   "outputs": [],
   "source": [
    "#Replace 0s in revenue and budget with null values\n",
    "movies_dropped['revenue'] = movies_dropped['revenue'].replace(0,np.nan)\n",
    "movies_dropped['budget'] = movies_dropped['budget'].replace(0,np.nan)\n",
    "\n",
    "#Drop rows with null revenue and budget\n",
    "movies_dropped = movies_dropped.dropna(subset=['revenue','budget'])"
   ]
  },
  {
   "cell_type": "markdown",
   "metadata": {},
   "source": [
    "### Similarly, identify missing runtime, vote_average, and vote_count values (0) as null and drop from dataframe"
   ]
  },
  {
   "cell_type": "code",
   "execution_count": 16,
   "metadata": {},
   "outputs": [
    {
     "data": {
      "text/plain": [
       "11"
      ]
     },
     "execution_count": 16,
     "metadata": {},
     "output_type": "execute_result"
    }
   ],
   "source": [
    "#Identify number of movies with runtime = 0\n",
    "movies_dropped[movies_dropped.runtime==0]['runtime'].count()"
   ]
  },
  {
   "cell_type": "code",
   "execution_count": 17,
   "metadata": {},
   "outputs": [
    {
     "data": {
      "text/plain": [
       "7"
      ]
     },
     "execution_count": 17,
     "metadata": {},
     "output_type": "execute_result"
    }
   ],
   "source": [
    "#Identify number of movies with runtime = 0\n",
    "movies_dropped[movies_dropped.vote_average==0]['vote_average'].count()"
   ]
  },
  {
   "cell_type": "code",
   "execution_count": 18,
   "metadata": {},
   "outputs": [
    {
     "data": {
      "text/plain": [
       "7"
      ]
     },
     "execution_count": 18,
     "metadata": {},
     "output_type": "execute_result"
    }
   ],
   "source": [
    "#Identify number of movies with runtime = 0\n",
    "movies_dropped[movies_dropped.vote_count==0]['vote_average'].count()"
   ]
  },
  {
   "cell_type": "code",
   "execution_count": 19,
   "metadata": {},
   "outputs": [],
   "source": [
    "#Set runtime=0,vote_average,vote_count values as null\n",
    "movies_dropped['runtime'] = movies_dropped['runtime'].replace(0,np.nan)\n",
    "movies_dropped['vote_average'] = movies_dropped['vote_average'].replace(0,np.nan)\n",
    "movies_dropped['vote_count'] = movies_dropped['vote_count'].replace(0,np.nan)"
   ]
  },
  {
   "cell_type": "code",
   "execution_count": 20,
   "metadata": {},
   "outputs": [],
   "source": [
    "#Drop rows with null runtime values\n",
    "movies_dropped = movies_dropped.dropna(subset = ['runtime','vote_average','vote_count'])"
   ]
  },
  {
   "cell_type": "code",
   "execution_count": 21,
   "metadata": {
    "scrolled": true
   },
   "outputs": [
    {
     "data": {
      "text/plain": [
       "adult                       0\n",
       "belongs_to_collection    4135\n",
       "budget                      0\n",
       "genres                      0\n",
       "id                          0\n",
       "original_language           0\n",
       "release_date                0\n",
       "revenue                     0\n",
       "runtime                     0\n",
       "status                      0\n",
       "title                       0\n",
       "vote_average                0\n",
       "vote_count                  0\n",
       "dtype: int64"
      ]
     },
     "execution_count": 21,
     "metadata": {},
     "output_type": "execute_result"
    }
   ],
   "source": [
    "#Check for null entries. 4135 null belongs_to_collection left, indicating the movies that don't belong to a \n",
    "#collection.\n",
    "movies_dropped.isnull().sum()"
   ]
  },
  {
   "cell_type": "markdown",
   "metadata": {},
   "source": [
    "### If the movie belongs to a collection (i.e. franchise), extract the name of the collection and replace any null values with 0s to indicate no collection."
   ]
  },
  {
   "cell_type": "code",
   "execution_count": 22,
   "metadata": {},
   "outputs": [],
   "source": [
    "#Convert 'belongs_to_collection' column to dictionaries and Nans\n",
    "movies_dropped.belongs_to_collection = movies_dropped.belongs_to_collection.apply(lambda x: ast.literal_eval(x) \n",
    "                                                                                  if type(x) != float else None)\n"
   ]
  },
  {
   "cell_type": "code",
   "execution_count": 23,
   "metadata": {},
   "outputs": [],
   "source": [
    "#Extract collection name in new column, 0 if none\n",
    "movies_dropped['collection'] = movies_dropped.belongs_to_collection.apply(lambda x: x['name'] \n",
    "                                                                          if type(x) == dict else 0)\n"
   ]
  },
  {
   "cell_type": "code",
   "execution_count": 24,
   "metadata": {},
   "outputs": [],
   "source": [
    "#Drop original 'belongs_to_collection' column\n",
    "movies_dropped = movies_dropped.drop(columns = ['belongs_to_collection'])"
   ]
  },
  {
   "cell_type": "code",
   "execution_count": 25,
   "metadata": {
    "scrolled": true
   },
   "outputs": [
    {
     "data": {
      "text/html": [
       "<div>\n",
       "<style scoped>\n",
       "    .dataframe tbody tr th:only-of-type {\n",
       "        vertical-align: middle;\n",
       "    }\n",
       "\n",
       "    .dataframe tbody tr th {\n",
       "        vertical-align: top;\n",
       "    }\n",
       "\n",
       "    .dataframe thead th {\n",
       "        text-align: right;\n",
       "    }\n",
       "</style>\n",
       "<table border=\"1\" class=\"dataframe\">\n",
       "  <thead>\n",
       "    <tr style=\"text-align: right;\">\n",
       "      <th></th>\n",
       "      <th>budget</th>\n",
       "      <th>id</th>\n",
       "      <th>revenue</th>\n",
       "      <th>runtime</th>\n",
       "      <th>vote_average</th>\n",
       "      <th>vote_count</th>\n",
       "    </tr>\n",
       "  </thead>\n",
       "  <tbody>\n",
       "    <tr>\n",
       "      <th>count</th>\n",
       "      <td>5.356000e+03</td>\n",
       "      <td>5356.000000</td>\n",
       "      <td>5.356000e+03</td>\n",
       "      <td>5356.000000</td>\n",
       "      <td>5356.000000</td>\n",
       "      <td>5356.000000</td>\n",
       "    </tr>\n",
       "    <tr>\n",
       "      <th>mean</th>\n",
       "      <td>3.119983e+07</td>\n",
       "      <td>60461.286221</td>\n",
       "      <td>9.069922e+07</td>\n",
       "      <td>110.047050</td>\n",
       "      <td>6.283943</td>\n",
       "      <td>735.556385</td>\n",
       "    </tr>\n",
       "    <tr>\n",
       "      <th>std</th>\n",
       "      <td>4.022028e+07</td>\n",
       "      <td>95592.121111</td>\n",
       "      <td>1.664321e+08</td>\n",
       "      <td>21.502907</td>\n",
       "      <td>0.896771</td>\n",
       "      <td>1253.526284</td>\n",
       "    </tr>\n",
       "    <tr>\n",
       "      <th>min</th>\n",
       "      <td>1.000000e+00</td>\n",
       "      <td>5.000000</td>\n",
       "      <td>1.000000e+00</td>\n",
       "      <td>26.000000</td>\n",
       "      <td>1.000000</td>\n",
       "      <td>1.000000</td>\n",
       "    </tr>\n",
       "    <tr>\n",
       "      <th>25%</th>\n",
       "      <td>5.207500e+06</td>\n",
       "      <td>8758.250000</td>\n",
       "      <td>7.125805e+06</td>\n",
       "      <td>95.000000</td>\n",
       "      <td>5.700000</td>\n",
       "      <td>78.000000</td>\n",
       "    </tr>\n",
       "    <tr>\n",
       "      <th>50%</th>\n",
       "      <td>1.700000e+07</td>\n",
       "      <td>14331.000000</td>\n",
       "      <td>3.000000e+07</td>\n",
       "      <td>106.000000</td>\n",
       "      <td>6.300000</td>\n",
       "      <td>278.500000</td>\n",
       "    </tr>\n",
       "    <tr>\n",
       "      <th>75%</th>\n",
       "      <td>4.000000e+07</td>\n",
       "      <td>59860.250000</td>\n",
       "      <td>1.000050e+08</td>\n",
       "      <td>120.000000</td>\n",
       "      <td>6.900000</td>\n",
       "      <td>807.000000</td>\n",
       "    </tr>\n",
       "    <tr>\n",
       "      <th>max</th>\n",
       "      <td>3.800000e+08</td>\n",
       "      <td>443319.000000</td>\n",
       "      <td>2.787965e+09</td>\n",
       "      <td>338.000000</td>\n",
       "      <td>9.100000</td>\n",
       "      <td>14075.000000</td>\n",
       "    </tr>\n",
       "  </tbody>\n",
       "</table>\n",
       "</div>"
      ],
      "text/plain": [
       "             budget             id       revenue      runtime  vote_average  \\\n",
       "count  5.356000e+03    5356.000000  5.356000e+03  5356.000000   5356.000000   \n",
       "mean   3.119983e+07   60461.286221  9.069922e+07   110.047050      6.283943   \n",
       "std    4.022028e+07   95592.121111  1.664321e+08    21.502907      0.896771   \n",
       "min    1.000000e+00       5.000000  1.000000e+00    26.000000      1.000000   \n",
       "25%    5.207500e+06    8758.250000  7.125805e+06    95.000000      5.700000   \n",
       "50%    1.700000e+07   14331.000000  3.000000e+07   106.000000      6.300000   \n",
       "75%    4.000000e+07   59860.250000  1.000050e+08   120.000000      6.900000   \n",
       "max    3.800000e+08  443319.000000  2.787965e+09   338.000000      9.100000   \n",
       "\n",
       "         vote_count  \n",
       "count   5356.000000  \n",
       "mean     735.556385  \n",
       "std     1253.526284  \n",
       "min        1.000000  \n",
       "25%       78.000000  \n",
       "50%      278.500000  \n",
       "75%      807.000000  \n",
       "max    14075.000000  "
      ]
     },
     "execution_count": 25,
     "metadata": {},
     "output_type": "execute_result"
    }
   ],
   "source": [
    "#Look at statistics for updated data\n",
    "#Note that now movies seem to have a budget and revenue of single digits ($1) which seems unlikely.\n",
    "movies_dropped.describe()"
   ]
  },
  {
   "cell_type": "markdown",
   "metadata": {},
   "source": [
    "### The table above shows single-digit revenue and budget values which is likely a result of erroneous data capture. Upon further inspection, multiple movies were found to have incorrectly low budget and revenue values. Since most movies are not made under 10,000 dollars and gross more than 1,500 dollars, these values were used as a budget cutoff and revenue cutoff, respectively, to safely exclude such erroneous values from the data."
   ]
  },
  {
   "cell_type": "code",
   "execution_count": 26,
   "metadata": {},
   "outputs": [
    {
     "data": {
      "text/plain": [
       "57"
      ]
     },
     "execution_count": 26,
     "metadata": {},
     "output_type": "execute_result"
    }
   ],
   "source": [
    "#Number of movies that have a budget of less than $10,000 = 57\n",
    "movies_dropped[movies_dropped.budget < 10000]['budget'].count()"
   ]
  },
  {
   "cell_type": "code",
   "execution_count": 27,
   "metadata": {},
   "outputs": [],
   "source": [
    "#Drop extremely low budget movies since data might not be reliable (single digit budgets) and it is only 59 movies\n",
    "movies_clean = movies_dropped[movies_dropped.budget>10000]"
   ]
  },
  {
   "cell_type": "code",
   "execution_count": 28,
   "metadata": {},
   "outputs": [
    {
     "data": {
      "text/html": [
       "<div>\n",
       "<style scoped>\n",
       "    .dataframe tbody tr th:only-of-type {\n",
       "        vertical-align: middle;\n",
       "    }\n",
       "\n",
       "    .dataframe tbody tr th {\n",
       "        vertical-align: top;\n",
       "    }\n",
       "\n",
       "    .dataframe thead th {\n",
       "        text-align: right;\n",
       "    }\n",
       "</style>\n",
       "<table border=\"1\" class=\"dataframe\">\n",
       "  <thead>\n",
       "    <tr style=\"text-align: right;\">\n",
       "      <th></th>\n",
       "      <th>budget</th>\n",
       "      <th>id</th>\n",
       "      <th>revenue</th>\n",
       "      <th>runtime</th>\n",
       "      <th>vote_average</th>\n",
       "      <th>vote_count</th>\n",
       "    </tr>\n",
       "  </thead>\n",
       "  <tbody>\n",
       "    <tr>\n",
       "      <th>count</th>\n",
       "      <td>5.297000e+03</td>\n",
       "      <td>5297.000000</td>\n",
       "      <td>5.297000e+03</td>\n",
       "      <td>5297.000000</td>\n",
       "      <td>5297.000000</td>\n",
       "      <td>5297.000000</td>\n",
       "    </tr>\n",
       "    <tr>\n",
       "      <th>mean</th>\n",
       "      <td>3.154734e+07</td>\n",
       "      <td>60326.669436</td>\n",
       "      <td>9.167072e+07</td>\n",
       "      <td>110.134038</td>\n",
       "      <td>6.282953</td>\n",
       "      <td>742.784406</td>\n",
       "    </tr>\n",
       "    <tr>\n",
       "      <th>std</th>\n",
       "      <td>4.030792e+07</td>\n",
       "      <td>95614.810333</td>\n",
       "      <td>1.670924e+08</td>\n",
       "      <td>21.501497</td>\n",
       "      <td>0.895977</td>\n",
       "      <td>1258.487144</td>\n",
       "    </tr>\n",
       "    <tr>\n",
       "      <th>min</th>\n",
       "      <td>1.117800e+04</td>\n",
       "      <td>5.000000</td>\n",
       "      <td>3.000000e+00</td>\n",
       "      <td>26.000000</td>\n",
       "      <td>1.000000</td>\n",
       "      <td>1.000000</td>\n",
       "    </tr>\n",
       "    <tr>\n",
       "      <th>25%</th>\n",
       "      <td>6.000000e+06</td>\n",
       "      <td>8653.000000</td>\n",
       "      <td>7.594693e+06</td>\n",
       "      <td>95.000000</td>\n",
       "      <td>5.700000</td>\n",
       "      <td>81.000000</td>\n",
       "    </tr>\n",
       "    <tr>\n",
       "      <th>50%</th>\n",
       "      <td>1.700000e+07</td>\n",
       "      <td>14194.000000</td>\n",
       "      <td>3.055339e+07</td>\n",
       "      <td>106.000000</td>\n",
       "      <td>6.300000</td>\n",
       "      <td>284.000000</td>\n",
       "    </tr>\n",
       "    <tr>\n",
       "      <th>75%</th>\n",
       "      <td>4.000000e+07</td>\n",
       "      <td>59797.000000</td>\n",
       "      <td>1.008538e+08</td>\n",
       "      <td>120.000000</td>\n",
       "      <td>6.900000</td>\n",
       "      <td>816.000000</td>\n",
       "    </tr>\n",
       "    <tr>\n",
       "      <th>max</th>\n",
       "      <td>3.800000e+08</td>\n",
       "      <td>443319.000000</td>\n",
       "      <td>2.787965e+09</td>\n",
       "      <td>338.000000</td>\n",
       "      <td>9.100000</td>\n",
       "      <td>14075.000000</td>\n",
       "    </tr>\n",
       "  </tbody>\n",
       "</table>\n",
       "</div>"
      ],
      "text/plain": [
       "             budget             id       revenue      runtime  vote_average  \\\n",
       "count  5.297000e+03    5297.000000  5.297000e+03  5297.000000   5297.000000   \n",
       "mean   3.154734e+07   60326.669436  9.167072e+07   110.134038      6.282953   \n",
       "std    4.030792e+07   95614.810333  1.670924e+08    21.501497      0.895977   \n",
       "min    1.117800e+04       5.000000  3.000000e+00    26.000000      1.000000   \n",
       "25%    6.000000e+06    8653.000000  7.594693e+06    95.000000      5.700000   \n",
       "50%    1.700000e+07   14194.000000  3.055339e+07   106.000000      6.300000   \n",
       "75%    4.000000e+07   59797.000000  1.008538e+08   120.000000      6.900000   \n",
       "max    3.800000e+08  443319.000000  2.787965e+09   338.000000      9.100000   \n",
       "\n",
       "         vote_count  \n",
       "count   5297.000000  \n",
       "mean     742.784406  \n",
       "std     1258.487144  \n",
       "min        1.000000  \n",
       "25%       81.000000  \n",
       "50%      284.000000  \n",
       "75%      816.000000  \n",
       "max    14075.000000  "
      ]
     },
     "execution_count": 28,
     "metadata": {},
     "output_type": "execute_result"
    }
   ],
   "source": [
    "#Revenue is still showing minimum values in single digits.\n",
    "movies_clean.describe()"
   ]
  },
  {
   "cell_type": "code",
   "execution_count": 29,
   "metadata": {},
   "outputs": [
    {
     "data": {
      "text/plain": [
       "57"
      ]
     },
     "execution_count": 29,
     "metadata": {},
     "output_type": "execute_result"
    }
   ],
   "source": [
    "#Number of movies that have a revenue of less than $1,500 = 57\n",
    "movies_dropped[movies_dropped.revenue < 1500]['revenue'].count()"
   ]
  },
  {
   "cell_type": "code",
   "execution_count": 30,
   "metadata": {},
   "outputs": [],
   "source": [
    "#Drop movies with revenue <$1500\n",
    "movies_clean = movies_clean[movies_clean.revenue>=1500]"
   ]
  },
  {
   "cell_type": "markdown",
   "metadata": {},
   "source": [
    "### Remove 'adult' column since all movies are categorized as 'False'."
   ]
  },
  {
   "cell_type": "code",
   "execution_count": 31,
   "metadata": {},
   "outputs": [
    {
     "data": {
      "text/plain": [
       "False    5283\n",
       "Name: adult, dtype: int64"
      ]
     },
     "execution_count": 31,
     "metadata": {},
     "output_type": "execute_result"
    }
   ],
   "source": [
    "#Look at distribution in adult column\n",
    "movies_clean.adult.value_counts()"
   ]
  },
  {
   "cell_type": "code",
   "execution_count": 32,
   "metadata": {},
   "outputs": [],
   "source": [
    "#Since no movies are adult movies, remove adult column\n",
    "movies_clean = movies_clean.drop(columns = ['adult'])"
   ]
  },
  {
   "cell_type": "markdown",
   "metadata": {},
   "source": [
    "### To merge the credits and movies dataframes, set 'id' column type as int to match the credits dataframe."
   ]
  },
  {
   "cell_type": "code",
   "execution_count": 33,
   "metadata": {},
   "outputs": [],
   "source": [
    "#Set id type as int to match credits dataframe\n",
    "movies_clean.id = movies_clean.id.astype('int')"
   ]
  },
  {
   "cell_type": "markdown",
   "metadata": {},
   "source": [
    "### Merge the credits and movies dataframes on the 'id' column."
   ]
  },
  {
   "cell_type": "code",
   "execution_count": 34,
   "metadata": {},
   "outputs": [],
   "source": [
    "#Merge movies and credits dataframes on ID\n",
    "df = pd.merge(movies_clean,credits,on='id', how='left')"
   ]
  },
  {
   "cell_type": "code",
   "execution_count": 35,
   "metadata": {},
   "outputs": [
    {
     "data": {
      "text/html": [
       "<div>\n",
       "<style scoped>\n",
       "    .dataframe tbody tr th:only-of-type {\n",
       "        vertical-align: middle;\n",
       "    }\n",
       "\n",
       "    .dataframe tbody tr th {\n",
       "        vertical-align: top;\n",
       "    }\n",
       "\n",
       "    .dataframe thead th {\n",
       "        text-align: right;\n",
       "    }\n",
       "</style>\n",
       "<table border=\"1\" class=\"dataframe\">\n",
       "  <thead>\n",
       "    <tr style=\"text-align: right;\">\n",
       "      <th></th>\n",
       "      <th>budget</th>\n",
       "      <th>genres</th>\n",
       "      <th>id</th>\n",
       "      <th>original_language</th>\n",
       "      <th>release_date</th>\n",
       "      <th>revenue</th>\n",
       "      <th>runtime</th>\n",
       "      <th>status</th>\n",
       "      <th>title</th>\n",
       "      <th>vote_average</th>\n",
       "      <th>vote_count</th>\n",
       "      <th>collection</th>\n",
       "      <th>cast</th>\n",
       "      <th>crew</th>\n",
       "    </tr>\n",
       "  </thead>\n",
       "  <tbody>\n",
       "    <tr>\n",
       "      <th>0</th>\n",
       "      <td>30000000.0</td>\n",
       "      <td>[{'id': 16, 'name': 'Animation'}, {'id': 35, '...</td>\n",
       "      <td>862</td>\n",
       "      <td>en</td>\n",
       "      <td>1995-10-30</td>\n",
       "      <td>373554033.0</td>\n",
       "      <td>81.0</td>\n",
       "      <td>Released</td>\n",
       "      <td>Toy Story</td>\n",
       "      <td>7.7</td>\n",
       "      <td>5415.0</td>\n",
       "      <td>Toy Story Collection</td>\n",
       "      <td>[{'cast_id': 14, 'character': 'Woody (voice)',...</td>\n",
       "      <td>[{'credit_id': '52fe4284c3a36847f8024f49', 'de...</td>\n",
       "    </tr>\n",
       "    <tr>\n",
       "      <th>1</th>\n",
       "      <td>65000000.0</td>\n",
       "      <td>[{'id': 12, 'name': 'Adventure'}, {'id': 14, '...</td>\n",
       "      <td>8844</td>\n",
       "      <td>en</td>\n",
       "      <td>1995-12-15</td>\n",
       "      <td>262797249.0</td>\n",
       "      <td>104.0</td>\n",
       "      <td>Released</td>\n",
       "      <td>Jumanji</td>\n",
       "      <td>6.9</td>\n",
       "      <td>2413.0</td>\n",
       "      <td>0</td>\n",
       "      <td>[{'cast_id': 1, 'character': 'Alan Parrish', '...</td>\n",
       "      <td>[{'credit_id': '52fe44bfc3a36847f80a7cd1', 'de...</td>\n",
       "    </tr>\n",
       "    <tr>\n",
       "      <th>2</th>\n",
       "      <td>16000000.0</td>\n",
       "      <td>[{'id': 35, 'name': 'Comedy'}, {'id': 18, 'nam...</td>\n",
       "      <td>31357</td>\n",
       "      <td>en</td>\n",
       "      <td>1995-12-22</td>\n",
       "      <td>81452156.0</td>\n",
       "      <td>127.0</td>\n",
       "      <td>Released</td>\n",
       "      <td>Waiting to Exhale</td>\n",
       "      <td>6.1</td>\n",
       "      <td>34.0</td>\n",
       "      <td>0</td>\n",
       "      <td>[{'cast_id': 1, 'character': \"Savannah 'Vannah...</td>\n",
       "      <td>[{'credit_id': '52fe44779251416c91011acb', 'de...</td>\n",
       "    </tr>\n",
       "    <tr>\n",
       "      <th>3</th>\n",
       "      <td>60000000.0</td>\n",
       "      <td>[{'id': 28, 'name': 'Action'}, {'id': 80, 'nam...</td>\n",
       "      <td>949</td>\n",
       "      <td>en</td>\n",
       "      <td>1995-12-15</td>\n",
       "      <td>187436818.0</td>\n",
       "      <td>170.0</td>\n",
       "      <td>Released</td>\n",
       "      <td>Heat</td>\n",
       "      <td>7.7</td>\n",
       "      <td>1886.0</td>\n",
       "      <td>0</td>\n",
       "      <td>[{'cast_id': 25, 'character': 'Lt. Vincent Han...</td>\n",
       "      <td>[{'credit_id': '52fe4292c3a36847f802916d', 'de...</td>\n",
       "    </tr>\n",
       "    <tr>\n",
       "      <th>4</th>\n",
       "      <td>35000000.0</td>\n",
       "      <td>[{'id': 28, 'name': 'Action'}, {'id': 12, 'nam...</td>\n",
       "      <td>9091</td>\n",
       "      <td>en</td>\n",
       "      <td>1995-12-22</td>\n",
       "      <td>64350171.0</td>\n",
       "      <td>106.0</td>\n",
       "      <td>Released</td>\n",
       "      <td>Sudden Death</td>\n",
       "      <td>5.5</td>\n",
       "      <td>174.0</td>\n",
       "      <td>0</td>\n",
       "      <td>[{'cast_id': 1, 'character': 'Darren Francis T...</td>\n",
       "      <td>[{'credit_id': '52fe44dbc3a36847f80ae0f1', 'de...</td>\n",
       "    </tr>\n",
       "  </tbody>\n",
       "</table>\n",
       "</div>"
      ],
      "text/plain": [
       "       budget                                             genres     id  \\\n",
       "0  30000000.0  [{'id': 16, 'name': 'Animation'}, {'id': 35, '...    862   \n",
       "1  65000000.0  [{'id': 12, 'name': 'Adventure'}, {'id': 14, '...   8844   \n",
       "2  16000000.0  [{'id': 35, 'name': 'Comedy'}, {'id': 18, 'nam...  31357   \n",
       "3  60000000.0  [{'id': 28, 'name': 'Action'}, {'id': 80, 'nam...    949   \n",
       "4  35000000.0  [{'id': 28, 'name': 'Action'}, {'id': 12, 'nam...   9091   \n",
       "\n",
       "  original_language release_date      revenue  runtime    status  \\\n",
       "0                en   1995-10-30  373554033.0     81.0  Released   \n",
       "1                en   1995-12-15  262797249.0    104.0  Released   \n",
       "2                en   1995-12-22   81452156.0    127.0  Released   \n",
       "3                en   1995-12-15  187436818.0    170.0  Released   \n",
       "4                en   1995-12-22   64350171.0    106.0  Released   \n",
       "\n",
       "               title  vote_average  vote_count            collection  \\\n",
       "0          Toy Story           7.7      5415.0  Toy Story Collection   \n",
       "1            Jumanji           6.9      2413.0                     0   \n",
       "2  Waiting to Exhale           6.1        34.0                     0   \n",
       "3               Heat           7.7      1886.0                     0   \n",
       "4       Sudden Death           5.5       174.0                     0   \n",
       "\n",
       "                                                cast  \\\n",
       "0  [{'cast_id': 14, 'character': 'Woody (voice)',...   \n",
       "1  [{'cast_id': 1, 'character': 'Alan Parrish', '...   \n",
       "2  [{'cast_id': 1, 'character': \"Savannah 'Vannah...   \n",
       "3  [{'cast_id': 25, 'character': 'Lt. Vincent Han...   \n",
       "4  [{'cast_id': 1, 'character': 'Darren Francis T...   \n",
       "\n",
       "                                                crew  \n",
       "0  [{'credit_id': '52fe4284c3a36847f8024f49', 'de...  \n",
       "1  [{'credit_id': '52fe44bfc3a36847f80a7cd1', 'de...  \n",
       "2  [{'credit_id': '52fe44779251416c91011acb', 'de...  \n",
       "3  [{'credit_id': '52fe4292c3a36847f802916d', 'de...  \n",
       "4  [{'credit_id': '52fe44dbc3a36847f80ae0f1', 'de...  "
      ]
     },
     "execution_count": 35,
     "metadata": {},
     "output_type": "execute_result"
    }
   ],
   "source": [
    "#Look at merged dataframe\n",
    "df.head()"
   ]
  },
  {
   "cell_type": "markdown",
   "metadata": {},
   "source": [
    "### The data in cast, crew, genres columns are stored as strings. Convert type to lists or dictionaries, identifying missing data as null and removing rows with missing data in these columns."
   ]
  },
  {
   "cell_type": "code",
   "execution_count": 36,
   "metadata": {},
   "outputs": [],
   "source": [
    "#Turn cast column into list\n",
    "df['cast'] = df['cast'].apply(ast.literal_eval)"
   ]
  },
  {
   "cell_type": "code",
   "execution_count": 37,
   "metadata": {},
   "outputs": [],
   "source": [
    "#Turn crew column into list\n",
    "df['crew'] = df['crew'].apply(ast.literal_eval)"
   ]
  },
  {
   "cell_type": "code",
   "execution_count": 38,
   "metadata": {},
   "outputs": [],
   "source": [
    "#Turn genre column into a list\n",
    "df['genres'] = df.genres.apply(ast.literal_eval)"
   ]
  },
  {
   "cell_type": "code",
   "execution_count": 39,
   "metadata": {},
   "outputs": [],
   "source": [
    "#Identify rows with missing cast and set them to null\n",
    "df.cast = df.cast.apply(lambda x: np.nan if len(x)==0 else x)"
   ]
  },
  {
   "cell_type": "code",
   "execution_count": 40,
   "metadata": {},
   "outputs": [],
   "source": [
    "#Identify rows with missing crew and set them to null\n",
    "df.crew = df.crew.apply(lambda x: np.nan if len(x)==0 else x)"
   ]
  },
  {
   "cell_type": "code",
   "execution_count": 41,
   "metadata": {},
   "outputs": [],
   "source": [
    "#Identify movies with no genres and replace with null\n",
    "df.genres = df.genres.apply(lambda x: np.nan if len(x)==0 else x)"
   ]
  },
  {
   "cell_type": "code",
   "execution_count": 42,
   "metadata": {},
   "outputs": [],
   "source": [
    "#Drop rows with null values\n",
    "df = df.dropna(subset = ['crew', 'cast', 'genres'])"
   ]
  },
  {
   "cell_type": "markdown",
   "metadata": {},
   "source": [
    "### Extract the name of the lead actor as the first-listed actor in the 'cast' column, and the name of the director from the 'crew' column. Drop the original 'cast' and 'crew' columns."
   ]
  },
  {
   "cell_type": "code",
   "execution_count": 43,
   "metadata": {},
   "outputs": [],
   "source": [
    "#Get lead actor from cast column\n",
    "df['actor'] = df.cast.apply(lambda x: x[0]['name'])"
   ]
  },
  {
   "cell_type": "code",
   "execution_count": 44,
   "metadata": {},
   "outputs": [],
   "source": [
    "#Get director from crew column\n",
    "df['director'] = df.crew.apply(lambda row: next((item for item in row if item[\"job\"] == \"Director\"), np.nan)['name'])"
   ]
  },
  {
   "cell_type": "code",
   "execution_count": 45,
   "metadata": {},
   "outputs": [],
   "source": [
    "#Drop original cast, crew, genres columns\n",
    "df = df.drop(columns = ['cast', 'crew'])"
   ]
  },
  {
   "cell_type": "markdown",
   "metadata": {},
   "source": [
    "### Since each movie is typically associated with more than 1 genre, convert the genre variables into dummy/indicator variables (i.e. a binary column for each genre)"
   ]
  },
  {
   "cell_type": "code",
   "execution_count": 46,
   "metadata": {},
   "outputs": [],
   "source": [
    "#Function to convert list of dictionaries to list of genre names\n",
    "def genre_to_list(x):\n",
    "    lst = []\n",
    "    for i in range(len(x)):\n",
    "        lst.append(x[i]['name'])\n",
    "    return lst"
   ]
  },
  {
   "cell_type": "code",
   "execution_count": 47,
   "metadata": {},
   "outputs": [],
   "source": [
    "#Apply function to convert genre column and create binary genre columns\n",
    "df['genres'] = df.genres.apply(genre_to_list)\n",
    "genre_columns = pd.get_dummies(df.genres.apply(pd.Series).stack()).sum(level=0)"
   ]
  },
  {
   "cell_type": "code",
   "execution_count": 48,
   "metadata": {},
   "outputs": [],
   "source": [
    "#Add genre binary columns to df\n",
    "df = df.join(genre_columns)"
   ]
  },
  {
   "cell_type": "markdown",
   "metadata": {},
   "source": [
    "### Import IMDB list of highest-grossing actors and highest-grossing directors. Create binary columns indicating whether the lead actor and director are on the highest-grossing lists."
   ]
  },
  {
   "cell_type": "code",
   "execution_count": 49,
   "metadata": {},
   "outputs": [],
   "source": [
    "#Import highest grossing actors and directors databases\n",
    "top_actors = pd.read_csv('actors_highest_grossing.csv',encoding='ISO-8859-1', usecols = ['Name'])\n",
    "top_directors = pd.read_csv('directors_highest_grossing.csv',encoding='ISO-8859-1', usecols = ['Name'])"
   ]
  },
  {
   "cell_type": "code",
   "execution_count": 50,
   "metadata": {},
   "outputs": [],
   "source": [
    "#Binary top_actor column indicating whether lead actor is on highest-grossing list (1 if yes, 0 if no)\n",
    "df['top_actor'] = df.actor.isin(top_actors.Name).astype(int)"
   ]
  },
  {
   "cell_type": "code",
   "execution_count": 51,
   "metadata": {},
   "outputs": [],
   "source": [
    "#Binary top_director column indicating whether director is on highest-grossing list (1 if yes, 0 if no)\n",
    "df['top_director'] = df.director.isin(top_directors.Name).astype(int)"
   ]
  },
  {
   "cell_type": "markdown",
   "metadata": {},
   "source": [
    "### Only keep released movies to ensure accurate budget and revenue information"
   ]
  },
  {
   "cell_type": "code",
   "execution_count": 52,
   "metadata": {},
   "outputs": [],
   "source": [
    "#Remove rumored and post-production movies (n = 4) because revenue and budget are likely not reliable\n",
    "df = df[df.status == 'Released']"
   ]
  },
  {
   "cell_type": "code",
   "execution_count": 53,
   "metadata": {},
   "outputs": [],
   "source": [
    "#Drop status column since it is all released movies\n",
    "df = df.drop(columns = ['status'])"
   ]
  },
  {
   "cell_type": "markdown",
   "metadata": {},
   "source": [
    "### Convert the release_date column into a datetime column and categorize the dates into seasons, holidays, and months. "
   ]
  },
  {
   "cell_type": "code",
   "execution_count": 54,
   "metadata": {},
   "outputs": [],
   "source": [
    "#Convert release_date to datetime\n",
    "df['release_date'] = pd.to_datetime(df['release_date'])"
   ]
  },
  {
   "cell_type": "code",
   "execution_count": 55,
   "metadata": {},
   "outputs": [],
   "source": [
    "#Define function to convert release dates into holidays/seasons\n",
    "def season(x):\n",
    "    #if february and close to valentines day = Valentine's day\n",
    "    if (x.month == 2) and (10 <= x.day <= 20):\n",
    "        return '''Valentine's Day'''\n",
    "    #if late november or december = Holiday Season\n",
    "    elif (x.month == 11 and x.day >= 15) or (x.month == 12):\n",
    "        return 'Holiday Season'\n",
    "    #if in May, June, or July = Summer\n",
    "    elif (5 <= x.month <= 7):\n",
    "        return \"Summer\"\n",
    "    #if september and close to labor day\n",
    "    elif (x.month == 9) and (1 <= x.day <= 7):\n",
    "        return 'Labor Day'\n",
    "    #if january and close to mlk day\n",
    "    elif (x.month == 1) and (15 <= x.day <= 21):\n",
    "        return 'MLK Day'\n",
    "    #else just return month\n",
    "    else:\n",
    "        #return x.strftime(\"%B\")\n",
    "        return 'Off_Season'"
   ]
  },
  {
   "cell_type": "code",
   "execution_count": 56,
   "metadata": {},
   "outputs": [],
   "source": [
    "#Add column for release season\n",
    "df['release_season'] = df['release_date'].apply(season)"
   ]
  },
  {
   "cell_type": "markdown",
   "metadata": {},
   "source": [
    "### Add a column to define success as a categorical variable (e.g. break-even, hit, flop) based on the ROI. ROI, in this case, is defined as the ratio of revenue to budget."
   ]
  },
  {
   "cell_type": "code",
   "execution_count": 57,
   "metadata": {},
   "outputs": [],
   "source": [
    "#Add ROI column (revenue/budget) to determine success\n",
    "df['roi'] = df.revenue/df.budget"
   ]
  },
  {
   "cell_type": "code",
   "execution_count": 58,
   "metadata": {},
   "outputs": [],
   "source": [
    "#Define function to convert ratio to categorical variables\n",
    "def success(x):\n",
    "    if x >= 3.5:\n",
    "        return 'Hit'\n",
    "    elif (x < 3.5) and (x >= 1.2):\n",
    "        return 'Break Even'\n",
    "    else:\n",
    "        return 'Flop'"
   ]
  },
  {
   "cell_type": "code",
   "execution_count": 59,
   "metadata": {},
   "outputs": [],
   "source": [
    "#Add column of categorial variables\n",
    "df['success_cat'] = df.roi.apply(success)"
   ]
  },
  {
   "cell_type": "code",
   "execution_count": 60,
   "metadata": {},
   "outputs": [
    {
     "data": {
      "text/plain": [
       "Break Even    1837\n",
       "Flop          1804\n",
       "Hit           1621\n",
       "Name: success_cat, dtype: int64"
      ]
     },
     "execution_count": 60,
     "metadata": {},
     "output_type": "execute_result"
    }
   ],
   "source": [
    "df.success_cat.value_counts()"
   ]
  },
  {
   "cell_type": "markdown",
   "metadata": {},
   "source": [
    "### Reset index and rearrange columns, ensuring all column names are lowercase and have no spaces"
   ]
  },
  {
   "cell_type": "code",
   "execution_count": 61,
   "metadata": {},
   "outputs": [],
   "source": [
    "#reset index\n",
    "df = df.reset_index(drop=True)"
   ]
  },
  {
   "cell_type": "code",
   "execution_count": 62,
   "metadata": {},
   "outputs": [],
   "source": [
    "#Rearrange columns and change all column names to lowercase with no spaces\n",
    "cols = df.columns.tolist()\n",
    "cols = ['title','id','collection','budget','genres','release_date','runtime','vote_average','vote_count',\n",
    "        'original_language','actor','director','Action','Adventure','Animation','Comedy','Crime','Documentary','Drama',\n",
    "        'Family','Fantasy','Foreign','History','Horror','Music','Mystery','Romance','Science Fiction','TV Movie',\n",
    "        'Thriller','War','Western','top_actor','top_director','release_season','revenue','roi','success_cat']\n",
    "df = df[cols]"
   ]
  },
  {
   "cell_type": "code",
   "execution_count": 63,
   "metadata": {},
   "outputs": [],
   "source": [
    "df.columns = df.columns.str.lower().str.replace(' ', '_')"
   ]
  },
  {
   "cell_type": "code",
   "execution_count": 64,
   "metadata": {
    "scrolled": true
   },
   "outputs": [
    {
     "data": {
      "text/html": [
       "<div>\n",
       "<style scoped>\n",
       "    .dataframe tbody tr th:only-of-type {\n",
       "        vertical-align: middle;\n",
       "    }\n",
       "\n",
       "    .dataframe tbody tr th {\n",
       "        vertical-align: top;\n",
       "    }\n",
       "\n",
       "    .dataframe thead th {\n",
       "        text-align: right;\n",
       "    }\n",
       "</style>\n",
       "<table border=\"1\" class=\"dataframe\">\n",
       "  <thead>\n",
       "    <tr style=\"text-align: right;\">\n",
       "      <th></th>\n",
       "      <th>title</th>\n",
       "      <th>id</th>\n",
       "      <th>collection</th>\n",
       "      <th>budget</th>\n",
       "      <th>genres</th>\n",
       "      <th>release_date</th>\n",
       "      <th>runtime</th>\n",
       "      <th>vote_average</th>\n",
       "      <th>vote_count</th>\n",
       "      <th>original_language</th>\n",
       "      <th>...</th>\n",
       "      <th>tv_movie</th>\n",
       "      <th>thriller</th>\n",
       "      <th>war</th>\n",
       "      <th>western</th>\n",
       "      <th>top_actor</th>\n",
       "      <th>top_director</th>\n",
       "      <th>release_season</th>\n",
       "      <th>revenue</th>\n",
       "      <th>roi</th>\n",
       "      <th>success_cat</th>\n",
       "    </tr>\n",
       "  </thead>\n",
       "  <tbody>\n",
       "    <tr>\n",
       "      <th>0</th>\n",
       "      <td>Toy Story</td>\n",
       "      <td>862</td>\n",
       "      <td>Toy Story Collection</td>\n",
       "      <td>30000000.0</td>\n",
       "      <td>[Animation, Comedy, Family]</td>\n",
       "      <td>1995-10-30</td>\n",
       "      <td>81.0</td>\n",
       "      <td>7.7</td>\n",
       "      <td>5415.0</td>\n",
       "      <td>en</td>\n",
       "      <td>...</td>\n",
       "      <td>0</td>\n",
       "      <td>0</td>\n",
       "      <td>0</td>\n",
       "      <td>0</td>\n",
       "      <td>1</td>\n",
       "      <td>1</td>\n",
       "      <td>Off_Season</td>\n",
       "      <td>373554033.0</td>\n",
       "      <td>12.451801</td>\n",
       "      <td>Hit</td>\n",
       "    </tr>\n",
       "    <tr>\n",
       "      <th>1</th>\n",
       "      <td>Jumanji</td>\n",
       "      <td>8844</td>\n",
       "      <td>0</td>\n",
       "      <td>65000000.0</td>\n",
       "      <td>[Adventure, Fantasy, Family]</td>\n",
       "      <td>1995-12-15</td>\n",
       "      <td>104.0</td>\n",
       "      <td>6.9</td>\n",
       "      <td>2413.0</td>\n",
       "      <td>en</td>\n",
       "      <td>...</td>\n",
       "      <td>0</td>\n",
       "      <td>0</td>\n",
       "      <td>0</td>\n",
       "      <td>0</td>\n",
       "      <td>1</td>\n",
       "      <td>0</td>\n",
       "      <td>Holiday Season</td>\n",
       "      <td>262797249.0</td>\n",
       "      <td>4.043035</td>\n",
       "      <td>Hit</td>\n",
       "    </tr>\n",
       "    <tr>\n",
       "      <th>2</th>\n",
       "      <td>Waiting to Exhale</td>\n",
       "      <td>31357</td>\n",
       "      <td>0</td>\n",
       "      <td>16000000.0</td>\n",
       "      <td>[Comedy, Drama, Romance]</td>\n",
       "      <td>1995-12-22</td>\n",
       "      <td>127.0</td>\n",
       "      <td>6.1</td>\n",
       "      <td>34.0</td>\n",
       "      <td>en</td>\n",
       "      <td>...</td>\n",
       "      <td>0</td>\n",
       "      <td>0</td>\n",
       "      <td>0</td>\n",
       "      <td>0</td>\n",
       "      <td>0</td>\n",
       "      <td>0</td>\n",
       "      <td>Holiday Season</td>\n",
       "      <td>81452156.0</td>\n",
       "      <td>5.090760</td>\n",
       "      <td>Hit</td>\n",
       "    </tr>\n",
       "    <tr>\n",
       "      <th>3</th>\n",
       "      <td>Heat</td>\n",
       "      <td>949</td>\n",
       "      <td>0</td>\n",
       "      <td>60000000.0</td>\n",
       "      <td>[Action, Crime, Drama, Thriller]</td>\n",
       "      <td>1995-12-15</td>\n",
       "      <td>170.0</td>\n",
       "      <td>7.7</td>\n",
       "      <td>1886.0</td>\n",
       "      <td>en</td>\n",
       "      <td>...</td>\n",
       "      <td>0</td>\n",
       "      <td>1</td>\n",
       "      <td>0</td>\n",
       "      <td>0</td>\n",
       "      <td>0</td>\n",
       "      <td>0</td>\n",
       "      <td>Holiday Season</td>\n",
       "      <td>187436818.0</td>\n",
       "      <td>3.123947</td>\n",
       "      <td>Break Even</td>\n",
       "    </tr>\n",
       "    <tr>\n",
       "      <th>4</th>\n",
       "      <td>Sudden Death</td>\n",
       "      <td>9091</td>\n",
       "      <td>0</td>\n",
       "      <td>35000000.0</td>\n",
       "      <td>[Action, Adventure, Thriller]</td>\n",
       "      <td>1995-12-22</td>\n",
       "      <td>106.0</td>\n",
       "      <td>5.5</td>\n",
       "      <td>174.0</td>\n",
       "      <td>en</td>\n",
       "      <td>...</td>\n",
       "      <td>0</td>\n",
       "      <td>1</td>\n",
       "      <td>0</td>\n",
       "      <td>0</td>\n",
       "      <td>0</td>\n",
       "      <td>0</td>\n",
       "      <td>Holiday Season</td>\n",
       "      <td>64350171.0</td>\n",
       "      <td>1.838576</td>\n",
       "      <td>Break Even</td>\n",
       "    </tr>\n",
       "  </tbody>\n",
       "</table>\n",
       "<p>5 rows × 38 columns</p>\n",
       "</div>"
      ],
      "text/plain": [
       "               title     id            collection      budget  \\\n",
       "0          Toy Story    862  Toy Story Collection  30000000.0   \n",
       "1            Jumanji   8844                     0  65000000.0   \n",
       "2  Waiting to Exhale  31357                     0  16000000.0   \n",
       "3               Heat    949                     0  60000000.0   \n",
       "4       Sudden Death   9091                     0  35000000.0   \n",
       "\n",
       "                             genres release_date  runtime  vote_average  \\\n",
       "0       [Animation, Comedy, Family]   1995-10-30     81.0           7.7   \n",
       "1      [Adventure, Fantasy, Family]   1995-12-15    104.0           6.9   \n",
       "2          [Comedy, Drama, Romance]   1995-12-22    127.0           6.1   \n",
       "3  [Action, Crime, Drama, Thriller]   1995-12-15    170.0           7.7   \n",
       "4     [Action, Adventure, Thriller]   1995-12-22    106.0           5.5   \n",
       "\n",
       "   vote_count original_language     ...      tv_movie thriller  war  western  \\\n",
       "0      5415.0                en     ...             0        0    0        0   \n",
       "1      2413.0                en     ...             0        0    0        0   \n",
       "2        34.0                en     ...             0        0    0        0   \n",
       "3      1886.0                en     ...             0        1    0        0   \n",
       "4       174.0                en     ...             0        1    0        0   \n",
       "\n",
       "   top_actor  top_director  release_season      revenue        roi  \\\n",
       "0          1             1      Off_Season  373554033.0  12.451801   \n",
       "1          1             0  Holiday Season  262797249.0   4.043035   \n",
       "2          0             0  Holiday Season   81452156.0   5.090760   \n",
       "3          0             0  Holiday Season  187436818.0   3.123947   \n",
       "4          0             0  Holiday Season   64350171.0   1.838576   \n",
       "\n",
       "   success_cat  \n",
       "0          Hit  \n",
       "1          Hit  \n",
       "2          Hit  \n",
       "3   Break Even  \n",
       "4   Break Even  \n",
       "\n",
       "[5 rows x 38 columns]"
      ]
     },
     "execution_count": 64,
     "metadata": {},
     "output_type": "execute_result"
    }
   ],
   "source": [
    "#Visualize final data\n",
    "df.head()"
   ]
  },
  {
   "cell_type": "code",
   "execution_count": 65,
   "metadata": {
    "scrolled": true
   },
   "outputs": [
    {
     "name": "stdout",
     "output_type": "stream",
     "text": [
      "<class 'pandas.core.frame.DataFrame'>\n",
      "RangeIndex: 5262 entries, 0 to 5261\n",
      "Data columns (total 38 columns):\n",
      "title                5262 non-null object\n",
      "id                   5262 non-null int64\n",
      "collection           5262 non-null object\n",
      "budget               5262 non-null float64\n",
      "genres               5262 non-null object\n",
      "release_date         5262 non-null datetime64[ns]\n",
      "runtime              5262 non-null float64\n",
      "vote_average         5262 non-null float64\n",
      "vote_count           5262 non-null float64\n",
      "original_language    5262 non-null object\n",
      "actor                5262 non-null object\n",
      "director             5262 non-null object\n",
      "action               5262 non-null uint8\n",
      "adventure            5262 non-null uint8\n",
      "animation            5262 non-null uint8\n",
      "comedy               5262 non-null uint8\n",
      "crime                5262 non-null uint8\n",
      "documentary          5262 non-null uint8\n",
      "drama                5262 non-null uint8\n",
      "family               5262 non-null uint8\n",
      "fantasy              5262 non-null uint8\n",
      "foreign              5262 non-null uint8\n",
      "history              5262 non-null uint8\n",
      "horror               5262 non-null uint8\n",
      "music                5262 non-null uint8\n",
      "mystery              5262 non-null uint8\n",
      "romance              5262 non-null uint8\n",
      "science_fiction      5262 non-null uint8\n",
      "tv_movie             5262 non-null uint8\n",
      "thriller             5262 non-null uint8\n",
      "war                  5262 non-null uint8\n",
      "western              5262 non-null uint8\n",
      "top_actor            5262 non-null int64\n",
      "top_director         5262 non-null int64\n",
      "release_season       5262 non-null object\n",
      "revenue              5262 non-null float64\n",
      "roi                  5262 non-null float64\n",
      "success_cat          5262 non-null object\n",
      "dtypes: datetime64[ns](1), float64(6), int64(3), object(8), uint8(20)\n",
      "memory usage: 842.8+ KB\n"
     ]
    }
   ],
   "source": [
    "#Confirm all columns are of the right type and have no null values\n",
    "df.info()"
   ]
  },
  {
   "cell_type": "code",
   "execution_count": 66,
   "metadata": {
    "scrolled": true
   },
   "outputs": [
    {
     "data": {
      "text/html": [
       "<div>\n",
       "<style scoped>\n",
       "    .dataframe tbody tr th:only-of-type {\n",
       "        vertical-align: middle;\n",
       "    }\n",
       "\n",
       "    .dataframe tbody tr th {\n",
       "        vertical-align: top;\n",
       "    }\n",
       "\n",
       "    .dataframe thead th {\n",
       "        text-align: right;\n",
       "    }\n",
       "</style>\n",
       "<table border=\"1\" class=\"dataframe\">\n",
       "  <thead>\n",
       "    <tr style=\"text-align: right;\">\n",
       "      <th></th>\n",
       "      <th>id</th>\n",
       "      <th>budget</th>\n",
       "      <th>runtime</th>\n",
       "      <th>vote_average</th>\n",
       "      <th>vote_count</th>\n",
       "      <th>action</th>\n",
       "      <th>adventure</th>\n",
       "      <th>animation</th>\n",
       "      <th>comedy</th>\n",
       "      <th>crime</th>\n",
       "      <th>...</th>\n",
       "      <th>romance</th>\n",
       "      <th>science_fiction</th>\n",
       "      <th>tv_movie</th>\n",
       "      <th>thriller</th>\n",
       "      <th>war</th>\n",
       "      <th>western</th>\n",
       "      <th>top_actor</th>\n",
       "      <th>top_director</th>\n",
       "      <th>revenue</th>\n",
       "      <th>roi</th>\n",
       "    </tr>\n",
       "  </thead>\n",
       "  <tbody>\n",
       "    <tr>\n",
       "      <th>count</th>\n",
       "      <td>5262.000000</td>\n",
       "      <td>5.262000e+03</td>\n",
       "      <td>5262.000000</td>\n",
       "      <td>5262.000000</td>\n",
       "      <td>5262.000000</td>\n",
       "      <td>5262.000000</td>\n",
       "      <td>5262.000000</td>\n",
       "      <td>5262.000000</td>\n",
       "      <td>5262.000000</td>\n",
       "      <td>5262.000000</td>\n",
       "      <td>...</td>\n",
       "      <td>5262.000000</td>\n",
       "      <td>5262.000000</td>\n",
       "      <td>5262.000000</td>\n",
       "      <td>5262.000000</td>\n",
       "      <td>5262.000000</td>\n",
       "      <td>5262.000000</td>\n",
       "      <td>5262.000000</td>\n",
       "      <td>5262.000000</td>\n",
       "      <td>5.262000e+03</td>\n",
       "      <td>5262.000000</td>\n",
       "    </tr>\n",
       "    <tr>\n",
       "      <th>mean</th>\n",
       "      <td>60112.900608</td>\n",
       "      <td>3.172721e+07</td>\n",
       "      <td>110.200304</td>\n",
       "      <td>6.287723</td>\n",
       "      <td>747.364690</td>\n",
       "      <td>0.265108</td>\n",
       "      <td>0.180160</td>\n",
       "      <td>0.054922</td>\n",
       "      <td>0.343216</td>\n",
       "      <td>0.160965</td>\n",
       "      <td>...</td>\n",
       "      <td>0.186811</td>\n",
       "      <td>0.119156</td>\n",
       "      <td>0.000190</td>\n",
       "      <td>0.281072</td>\n",
       "      <td>0.038008</td>\n",
       "      <td>0.016914</td>\n",
       "      <td>0.120487</td>\n",
       "      <td>0.075827</td>\n",
       "      <td>9.223473e+07</td>\n",
       "      <td>8.548629</td>\n",
       "    </tr>\n",
       "    <tr>\n",
       "      <th>std</th>\n",
       "      <td>95596.536029</td>\n",
       "      <td>4.037863e+07</td>\n",
       "      <td>21.505426</td>\n",
       "      <td>0.891516</td>\n",
       "      <td>1261.375204</td>\n",
       "      <td>0.441433</td>\n",
       "      <td>0.384357</td>\n",
       "      <td>0.227850</td>\n",
       "      <td>0.474828</td>\n",
       "      <td>0.367534</td>\n",
       "      <td>...</td>\n",
       "      <td>0.389797</td>\n",
       "      <td>0.324003</td>\n",
       "      <td>0.013786</td>\n",
       "      <td>0.449565</td>\n",
       "      <td>0.191235</td>\n",
       "      <td>0.128960</td>\n",
       "      <td>0.325561</td>\n",
       "      <td>0.264746</td>\n",
       "      <td>1.674949e+08</td>\n",
       "      <td>187.682173</td>\n",
       "    </tr>\n",
       "    <tr>\n",
       "      <th>min</th>\n",
       "      <td>5.000000</td>\n",
       "      <td>1.117800e+04</td>\n",
       "      <td>26.000000</td>\n",
       "      <td>1.000000</td>\n",
       "      <td>1.000000</td>\n",
       "      <td>0.000000</td>\n",
       "      <td>0.000000</td>\n",
       "      <td>0.000000</td>\n",
       "      <td>0.000000</td>\n",
       "      <td>0.000000</td>\n",
       "      <td>...</td>\n",
       "      <td>0.000000</td>\n",
       "      <td>0.000000</td>\n",
       "      <td>0.000000</td>\n",
       "      <td>0.000000</td>\n",
       "      <td>0.000000</td>\n",
       "      <td>0.000000</td>\n",
       "      <td>0.000000</td>\n",
       "      <td>0.000000</td>\n",
       "      <td>1.596000e+03</td>\n",
       "      <td>0.000210</td>\n",
       "    </tr>\n",
       "    <tr>\n",
       "      <th>25%</th>\n",
       "      <td>8584.750000</td>\n",
       "      <td>6.000000e+06</td>\n",
       "      <td>95.000000</td>\n",
       "      <td>5.700000</td>\n",
       "      <td>83.000000</td>\n",
       "      <td>0.000000</td>\n",
       "      <td>0.000000</td>\n",
       "      <td>0.000000</td>\n",
       "      <td>0.000000</td>\n",
       "      <td>0.000000</td>\n",
       "      <td>...</td>\n",
       "      <td>0.000000</td>\n",
       "      <td>0.000000</td>\n",
       "      <td>0.000000</td>\n",
       "      <td>0.000000</td>\n",
       "      <td>0.000000</td>\n",
       "      <td>0.000000</td>\n",
       "      <td>0.000000</td>\n",
       "      <td>0.000000</td>\n",
       "      <td>7.900000e+06</td>\n",
       "      <td>0.802727</td>\n",
       "    </tr>\n",
       "    <tr>\n",
       "      <th>50%</th>\n",
       "      <td>14085.000000</td>\n",
       "      <td>1.750000e+07</td>\n",
       "      <td>106.000000</td>\n",
       "      <td>6.300000</td>\n",
       "      <td>287.000000</td>\n",
       "      <td>0.000000</td>\n",
       "      <td>0.000000</td>\n",
       "      <td>0.000000</td>\n",
       "      <td>0.000000</td>\n",
       "      <td>0.000000</td>\n",
       "      <td>...</td>\n",
       "      <td>0.000000</td>\n",
       "      <td>0.000000</td>\n",
       "      <td>0.000000</td>\n",
       "      <td>0.000000</td>\n",
       "      <td>0.000000</td>\n",
       "      <td>0.000000</td>\n",
       "      <td>0.000000</td>\n",
       "      <td>0.000000</td>\n",
       "      <td>3.106662e+07</td>\n",
       "      <td>2.077324</td>\n",
       "    </tr>\n",
       "    <tr>\n",
       "      <th>75%</th>\n",
       "      <td>59184.500000</td>\n",
       "      <td>4.000000e+07</td>\n",
       "      <td>120.000000</td>\n",
       "      <td>6.900000</td>\n",
       "      <td>830.500000</td>\n",
       "      <td>1.000000</td>\n",
       "      <td>0.000000</td>\n",
       "      <td>0.000000</td>\n",
       "      <td>1.000000</td>\n",
       "      <td>0.000000</td>\n",
       "      <td>...</td>\n",
       "      <td>0.000000</td>\n",
       "      <td>0.000000</td>\n",
       "      <td>0.000000</td>\n",
       "      <td>1.000000</td>\n",
       "      <td>0.000000</td>\n",
       "      <td>0.000000</td>\n",
       "      <td>0.000000</td>\n",
       "      <td>0.000000</td>\n",
       "      <td>1.015876e+08</td>\n",
       "      <td>4.239585</td>\n",
       "    </tr>\n",
       "    <tr>\n",
       "      <th>max</th>\n",
       "      <td>443319.000000</td>\n",
       "      <td>3.800000e+08</td>\n",
       "      <td>338.000000</td>\n",
       "      <td>9.100000</td>\n",
       "      <td>14075.000000</td>\n",
       "      <td>1.000000</td>\n",
       "      <td>1.000000</td>\n",
       "      <td>1.000000</td>\n",
       "      <td>1.000000</td>\n",
       "      <td>1.000000</td>\n",
       "      <td>...</td>\n",
       "      <td>1.000000</td>\n",
       "      <td>1.000000</td>\n",
       "      <td>1.000000</td>\n",
       "      <td>1.000000</td>\n",
       "      <td>1.000000</td>\n",
       "      <td>1.000000</td>\n",
       "      <td>1.000000</td>\n",
       "      <td>1.000000</td>\n",
       "      <td>2.787965e+09</td>\n",
       "      <td>12890.386667</td>\n",
       "    </tr>\n",
       "  </tbody>\n",
       "</table>\n",
       "<p>8 rows × 29 columns</p>\n",
       "</div>"
      ],
      "text/plain": [
       "                  id        budget      runtime  vote_average    vote_count  \\\n",
       "count    5262.000000  5.262000e+03  5262.000000   5262.000000   5262.000000   \n",
       "mean    60112.900608  3.172721e+07   110.200304      6.287723    747.364690   \n",
       "std     95596.536029  4.037863e+07    21.505426      0.891516   1261.375204   \n",
       "min         5.000000  1.117800e+04    26.000000      1.000000      1.000000   \n",
       "25%      8584.750000  6.000000e+06    95.000000      5.700000     83.000000   \n",
       "50%     14085.000000  1.750000e+07   106.000000      6.300000    287.000000   \n",
       "75%     59184.500000  4.000000e+07   120.000000      6.900000    830.500000   \n",
       "max    443319.000000  3.800000e+08   338.000000      9.100000  14075.000000   \n",
       "\n",
       "            action    adventure    animation       comedy        crime  \\\n",
       "count  5262.000000  5262.000000  5262.000000  5262.000000  5262.000000   \n",
       "mean      0.265108     0.180160     0.054922     0.343216     0.160965   \n",
       "std       0.441433     0.384357     0.227850     0.474828     0.367534   \n",
       "min       0.000000     0.000000     0.000000     0.000000     0.000000   \n",
       "25%       0.000000     0.000000     0.000000     0.000000     0.000000   \n",
       "50%       0.000000     0.000000     0.000000     0.000000     0.000000   \n",
       "75%       1.000000     0.000000     0.000000     1.000000     0.000000   \n",
       "max       1.000000     1.000000     1.000000     1.000000     1.000000   \n",
       "\n",
       "           ...           romance  science_fiction     tv_movie     thriller  \\\n",
       "count      ...       5262.000000      5262.000000  5262.000000  5262.000000   \n",
       "mean       ...          0.186811         0.119156     0.000190     0.281072   \n",
       "std        ...          0.389797         0.324003     0.013786     0.449565   \n",
       "min        ...          0.000000         0.000000     0.000000     0.000000   \n",
       "25%        ...          0.000000         0.000000     0.000000     0.000000   \n",
       "50%        ...          0.000000         0.000000     0.000000     0.000000   \n",
       "75%        ...          0.000000         0.000000     0.000000     1.000000   \n",
       "max        ...          1.000000         1.000000     1.000000     1.000000   \n",
       "\n",
       "               war      western    top_actor  top_director       revenue  \\\n",
       "count  5262.000000  5262.000000  5262.000000   5262.000000  5.262000e+03   \n",
       "mean      0.038008     0.016914     0.120487      0.075827  9.223473e+07   \n",
       "std       0.191235     0.128960     0.325561      0.264746  1.674949e+08   \n",
       "min       0.000000     0.000000     0.000000      0.000000  1.596000e+03   \n",
       "25%       0.000000     0.000000     0.000000      0.000000  7.900000e+06   \n",
       "50%       0.000000     0.000000     0.000000      0.000000  3.106662e+07   \n",
       "75%       0.000000     0.000000     0.000000      0.000000  1.015876e+08   \n",
       "max       1.000000     1.000000     1.000000      1.000000  2.787965e+09   \n",
       "\n",
       "                roi  \n",
       "count   5262.000000  \n",
       "mean       8.548629  \n",
       "std      187.682173  \n",
       "min        0.000210  \n",
       "25%        0.802727  \n",
       "50%        2.077324  \n",
       "75%        4.239585  \n",
       "max    12890.386667  \n",
       "\n",
       "[8 rows x 29 columns]"
      ]
     },
     "execution_count": 66,
     "metadata": {},
     "output_type": "execute_result"
    }
   ],
   "source": [
    "df.describe()"
   ]
  },
  {
   "cell_type": "code",
   "execution_count": 67,
   "metadata": {},
   "outputs": [],
   "source": [
    "#Write to file\n",
    "df.to_csv('cleaned.csv',index=False)"
   ]
  },
  {
   "cell_type": "markdown",
   "metadata": {},
   "source": [
    "# Data Visualization & Statistical Analysis"
   ]
  },
  {
   "cell_type": "code",
   "execution_count": 68,
   "metadata": {},
   "outputs": [],
   "source": [
    "#Import modules for statistical analysis\n",
    "from scipy import stats\n",
    "from statsmodels.graphics.gofplots import qqplot"
   ]
  },
  {
   "cell_type": "markdown",
   "metadata": {},
   "source": [
    "### Copy df to cleaned for data visualization (to avoid overwriting cleaned df)"
   ]
  },
  {
   "cell_type": "code",
   "execution_count": 69,
   "metadata": {},
   "outputs": [],
   "source": [
    "cleaned = df"
   ]
  },
  {
   "cell_type": "markdown",
   "metadata": {},
   "source": [
    "### Specify the default seaborn style"
   ]
  },
  {
   "cell_type": "code",
   "execution_count": 70,
   "metadata": {},
   "outputs": [],
   "source": [
    "sns.set(style=\"darkgrid\", color_codes=True)"
   ]
  },
  {
   "cell_type": "markdown",
   "metadata": {},
   "source": [
    "### Visualize any outliers in ROI, Revenue and Budget"
   ]
  },
  {
   "cell_type": "code",
   "execution_count": 147,
   "metadata": {},
   "outputs": [
    {
     "data": {
      "image/png": "[encoded data removed]",
      "text/plain": [
       "<Figure size 1008x360 with 3 Axes>"
      ]
     },
     "metadata": {},
     "output_type": "display_data"
    }
   ],
   "source": [
    "fig, axs = plt.subplots(1,3,figsize=(14,5))\n",
    "_ = axs[0].boxplot(cleaned.roi)\n",
    "axs[0].set_title('roi')\n",
    "_ = axs[1].boxplot(cleaned.revenue)\n",
    "axs[1].set_title('revenue')\n",
    "_ = axs[2].boxplot(cleaned.budget)\n",
    "axs[2].set_title('budget')\n",
    "fig.subplots_adjust(left=0.08, right=0.98, bottom=0.05, top=0.9,\n",
    "                    hspace=1.5, wspace=0.2)"
   ]
  },
  {
   "cell_type": "markdown",
   "metadata": {},
   "source": [
    "The boxplot for ROI shows a number of extreme outliers with high ROI values. These points are reflective of movies made on smaller budgets that performed exceedingly well at the box-office (e.g. Paranormal Activity). "
   ]
  },
  {
   "cell_type": "markdown",
   "metadata": {},
   "source": [
    "The boxplot for revenue shows a large number of outliers on the high end (greater than ~200 M USD). These refer to movies that are often categorized as blockbusters (e.g. Star Wars, Jurassic Park). Since movie revenues are increasing (see below), these movies will still be taken into account in the initial analysis."
   ]
  },
  {
   "cell_type": "markdown",
   "metadata": {},
   "source": [
    "The budget boxplot shows a large number of outliers with high budgets (greater than ~100M USD). With the budget of movies increasing (see below), these high-budget movies will also be included in the initial analysis."
   ]
  },
  {
   "cell_type": "markdown",
   "metadata": {},
   "source": [
    "### What does the distribution of budgets, revenue and ROI look like?"
   ]
  },
  {
   "cell_type": "code",
   "execution_count": 146,
   "metadata": {},
   "outputs": [
    {
     "data": {
      "image/png": "[encoded data removed]",
      "text/plain": [
       "<Figure size 1008x360 with 3 Axes>"
      ]
     },
     "metadata": {},
     "output_type": "display_data"
    }
   ],
   "source": [
    "#Distribution of budgets\n",
    "fig, axs = plt.subplots(1,3,figsize=(14,5))\n",
    "axs[0].hist(cleaned.budget.apply(lambda x: x/1e6),bins=50)\n",
    "axs[0].set_xlabel('Budget in millions')\n",
    "axs[0].set_ylabel('Number of movies')\n",
    "axs[0].set_title('Budget')\n",
    "\n",
    "axs[1].hist(cleaned.revenue.apply(lambda x: x/1e6),bins=50)\n",
    "axs[1].set_xlabel('Revenue in millions')\n",
    "axs[1].set_ylabel('Number of movies')\n",
    "axs[1].set_title('Revenue Distribution')\n",
    "\n",
    "axs[2].hist(cleaned.roi,bins=50)\n",
    "axs[2].set_xlabel('ROI')\n",
    "axs[2].set_ylabel('Number of movies')\n",
    "axs[2].set_title('ROI Distribution')\n",
    "\n",
    "fig.subplots_adjust(left=0.08, right=0.98, bottom=0.05, top=0.9,\n",
    "                    hspace=1.5, wspace=0.2)"
   ]
  },
  {
   "cell_type": "markdown",
   "metadata": {},
   "source": [
    "#### The majority of movies have a budget of less than 50 million USD, with the largest budget group being less than 10 M USD. The distribution is not normal. Most movies have a revenue of less than 200 million USD with the majority grossing less than 50-100 million USD. The distribution does not appear to be normal. The distribution for ROI is so heavily skewed due to outliers that the shape of the distribution cannot even be determined. In such cases, log transformation of the variable can yield better results"
   ]
  },
  {
   "cell_type": "code",
   "execution_count": 144,
   "metadata": {
    "scrolled": true
   },
   "outputs": [
    {
     "data": {
      "text/plain": [
       "Text(0.5,1,'Log(ROI) Distribution')"
      ]
     },
     "execution_count": 144,
     "metadata": {},
     "output_type": "execute_result"
    },
    {
     "data": {
      "image/png": "[encoded data removed]",
      "text/plain": [
       "<Figure size 432x288 with 1 Axes>"
      ]
     },
     "metadata": {},
     "output_type": "display_data"
    }
   ],
   "source": [
    "_ = plt.hist(np.log(cleaned.roi),bins=50)\n",
    "plt.xlabel('Log(ROI)')\n",
    "plt.ylabel('Number of movies')\n",
    "plt.title('Log(ROI) Distribution')"
   ]
  },
  {
   "cell_type": "markdown",
   "metadata": {},
   "source": [
    "Indeed, after taking the log of ROI, the distribution more closely resembles a normal distribution. "
   ]
  },
  {
   "cell_type": "markdown",
   "metadata": {},
   "source": [
    "### What does the distribution of categorial success look like?"
   ]
  },
  {
   "cell_type": "code",
   "execution_count": 89,
   "metadata": {},
   "outputs": [
    {
     "data": {
      "image/png": "[encoded data removed]",
      "text/plain": [
       "<Figure size 432x288 with 1 Axes>"
      ]
     },
     "metadata": {},
     "output_type": "display_data"
    }
   ],
   "source": [
    "_ = sns.countplot(x=\"success_cat\", data=cleaned,order=['Flop','Break Even','Hit'])\n",
    "_ = plt.xlabel('')\n",
    "_ = plt.ylabel('Number of Movies')\n",
    "_ = plt.title('Distribution of categorical success')"
   ]
  },
  {
   "cell_type": "markdown",
   "metadata": {},
   "source": [
    "#### The distribution of categorical success is fairly even with the number of hits being slightly slower than flops or break-evens."
   ]
  },
  {
   "cell_type": "markdown",
   "metadata": {},
   "source": [
    "### Relationship between categorical success and budget"
   ]
  },
  {
   "cell_type": "code",
   "execution_count": 93,
   "metadata": {},
   "outputs": [
    {
     "data": {
      "image/png": "[encoded data removed]",
      "text/plain": [
       "<Figure size 432x288 with 1 Axes>"
      ]
     },
     "metadata": {},
     "output_type": "display_data"
    }
   ],
   "source": [
    "#Relationship between average budget and cat success\n",
    "_ = cleaned[['success_cat','budget']].groupby('success_cat').mean().apply(lambda x: x/1e6).sort_values('budget').plot(kind='bar',legend=None)\n",
    "_ = plt.title('Average budget of movies by categorical success')\n",
    "_ = plt.ylabel('Average Budget in millions')\n",
    "_ = plt.xlabel('Outcome')\n"
   ]
  },
  {
   "cell_type": "markdown",
   "metadata": {},
   "source": [
    "#### The budget is lowest for movies that are disasters or blockbusters (i.e. extremes). Having too low of a budget can affect the quality, reputation, and star power of a movie, thus resulting in lower revenue (disasters). On the other hand, having a lower budget can also allow the movie to recover their costs more easily and be categorized as a blockbuster (classified as movies that gross 5 times their budget). Whether a lower-budget movie is a disaster or blockbuster likely depends on other factors such as genre, star power, release season etc."
   ]
  },
  {
   "cell_type": "markdown",
   "metadata": {},
   "source": [
    "### Which release season typically results in the highest movie revenues?"
   ]
  },
  {
   "cell_type": "code",
   "execution_count": 94,
   "metadata": {},
   "outputs": [
    {
     "data": {
      "image/png": "[encoded data removed]",
      "text/plain": [
       "<Figure size 432x288 with 1 Axes>"
      ]
     },
     "metadata": {},
     "output_type": "display_data"
    }
   ],
   "source": [
    "#Relationship between release_season and average revenue\n",
    "_ = cleaned[['release_season','revenue']].groupby('release_season').mean().apply(lambda x: x/1e6).sort_values('revenue').plot(kind='bar')\n",
    "_ = plt.title('Average revenue by release season')\n",
    "_ = plt.xlabel('Release Season or Month')\n",
    "_ = plt.ylabel('Average Revenue in millions')"
   ]
  },
  {
   "cell_type": "markdown",
   "metadata": {},
   "source": [
    "#### Movies released in the summer make the most money on average followed by the holiday season. Holidays like Labor Day and MLK Day don't appear to have much of an impact. Outside of the holidays and summer, movies that have grossed the highest are typically released in November, March and April."
   ]
  },
  {
   "cell_type": "markdown",
   "metadata": {},
   "source": [
    "### How has movie revenue and budgets changed over the years?"
   ]
  },
  {
   "cell_type": "code",
   "execution_count": 150,
   "metadata": {
    "scrolled": true
   },
   "outputs": [
    {
     "data": {
      "text/plain": [
       "Text(0.5,0,'Year')"
      ]
     },
     "execution_count": 150,
     "metadata": {},
     "output_type": "execute_result"
    },
    {
     "data": {
      "image/png": "[encoded data removed]",
      "text/plain": [
       "<Figure size 1008x360 with 2 Axes>"
      ]
     },
     "metadata": {},
     "output_type": "display_data"
    }
   ],
   "source": [
    "fig, axs = plt.subplots(1,2,figsize=(14,5))\n",
    "\n",
    "temp = cleaned[['release_date','revenue']].sort_values('release_date')\n",
    "axs[0].plot(temp.release_date, temp.revenue)\n",
    "axs[0].set_title('Movie revenues over the years')\n",
    "axs[0].set_ylabel('Revenue')\n",
    "axs[0].set_xlabel('Year')\n",
    "\n",
    "temp = cleaned[['release_date','budget']].sort_values('release_date')\n",
    "axs[1].plot(temp.release_date, temp.budget)\n",
    "axs[1].set_title('Movie budgets over the years')\n",
    "axs[1].set_ylabel('Budget')\n",
    "axs[1].set_xlabel('Year')"
   ]
  },
  {
   "cell_type": "markdown",
   "metadata": {},
   "source": [
    "#### Overall, movie revenues have been steadily increasing since the 1980s. Movie budgets have also increased dramatically over the past few decades."
   ]
  },
  {
   "cell_type": "markdown",
   "metadata": {},
   "source": [
    "### Do movies that belong to a collection typically gross higher than movies that do not?"
   ]
  },
  {
   "cell_type": "code",
   "execution_count": 114,
   "metadata": {
    "scrolled": false
   },
   "outputs": [
    {
     "data": {
      "image/png": "[encoded data removed]",
      "text/plain": [
       "<Figure size 432x288 with 1 Axes>"
      ]
     },
     "metadata": {},
     "output_type": "display_data"
    }
   ],
   "source": [
    "#Average revenue when belonging to a collection vs when not\n",
    "no_collection = cleaned[cleaned.collection == 0].revenue.mean()\n",
    "#Average revenue when belonging to a collection vs when not\n",
    "collection = cleaned[cleaned.collection != 0].revenue.mean()\n",
    "\n",
    "_ = plt.bar(['No Collection', 'Collection'],[no_collection/1e6,collection/1e6],align='center')\n",
    "_ = plt.ylabel('Average Revenue in millions')\n",
    "_ = plt.title('Revenue dependency on belonging to a collection')"
   ]
  },
  {
   "cell_type": "markdown",
   "metadata": {},
   "source": [
    "#### Is there a statistically significant difference in mean revenue between movies that belong to a collection and movies that don't?"
   ]
  },
  {
   "cell_type": "markdown",
   "metadata": {},
   "source": [
    "#### t-test"
   ]
  },
  {
   "cell_type": "code",
   "execution_count": 115,
   "metadata": {},
   "outputs": [
    {
     "name": "stdout",
     "output_type": "stream",
     "text": [
      "test-statistic: -26.412\n",
      "p-value: 1.817e-144\n",
      "Reject null hypothesis: Sample means are not equal\n"
     ]
    }
   ],
   "source": [
    "#Null hypothesis: Mean revenues are equal for movies that belong to a collection and movies that don't\n",
    "#Alternate hypothesis: Mean revenues are not equal for movies that belong to a collection and movies that don't\n",
    "\n",
    "stat,p = stats.ttest_ind(cleaned[cleaned.collection == 0].revenue,cleaned[cleaned.collection != 0].revenue)\n",
    "print('test-statistic:', format(stat,'.3f'))\n",
    "print('p-value:', format(p,'.3e'))\n",
    "if p < 0.01:\n",
    "    print('Reject null hypothesis: Sample means are not equal')\n",
    "else:\n",
    "    print('Fail to reject null hypothesis: Sample means are equal')"
   ]
  },
  {
   "cell_type": "markdown",
   "metadata": {},
   "source": [
    "Movies that belong to a collection (i.e. franchise) gross, on average, almost 4 times higher than movies that do not belong to a collection. Statistically, this difference in mean revenue is significant as observed by the t-test."
   ]
  },
  {
   "cell_type": "markdown",
   "metadata": {},
   "source": [
    "### Does having a top actor as the lead have an impact on movie revenue and/or ROI?"
   ]
  },
  {
   "cell_type": "markdown",
   "metadata": {},
   "source": [
    "### Revenue"
   ]
  },
  {
   "cell_type": "code",
   "execution_count": 161,
   "metadata": {
    "scrolled": false
   },
   "outputs": [
    {
     "data": {
      "image/png": "[encoded data removed]",
      "text/plain": [
       "<Figure size 432x288 with 1 Axes>"
      ]
     },
     "metadata": {},
     "output_type": "display_data"
    }
   ],
   "source": [
    "#Relationship between having a top actor and roi\n",
    "_ = cleaned[['top_actor','revenue']].groupby('top_actor').mean().plot(kind='bar')\n",
    "_ = plt.title('Relationship between roi and top actor')\n",
    "_ = plt.ylabel('Average ROI')"
   ]
  },
  {
   "cell_type": "markdown",
   "metadata": {},
   "source": [
    "### ROI"
   ]
  },
  {
   "cell_type": "code",
   "execution_count": 119,
   "metadata": {
    "scrolled": false
   },
   "outputs": [
    {
     "data": {
      "image/png": "[encoded data removed]",
      "text/plain": [
       "<Figure size 432x288 with 1 Axes>"
      ]
     },
     "metadata": {},
     "output_type": "display_data"
    }
   ],
   "source": [
    "#Relationship between having a top actor and roi\n",
    "_= cleaned[['top_actor','roi']].groupby('top_actor').mean().plot(kind='bar')\n",
    "_ = plt.title('Relationship between roi and top actor')\n",
    "_ = plt.ylabel('Average ROI')"
   ]
  },
  {
   "cell_type": "markdown",
   "metadata": {},
   "source": [
    "A top actor is defined as any actor appearing on highest grossing actors list on IMDB. While having a top actor as a lead does result in a much higher revenue on average (~200M vs 50M USD), it also results in a lower ROI (~75% decrease), likely due to the higher compensation top actors demand. "
   ]
  },
  {
   "cell_type": "markdown",
   "metadata": {},
   "source": [
    "#### Are these observed differences in average revenue/ROI between movies with top actors and movies without top actors statistically significant?"
   ]
  },
  {
   "cell_type": "markdown",
   "metadata": {},
   "source": [
    "#### Mann_Whitney U Test"
   ]
  },
  {
   "cell_type": "markdown",
   "metadata": {},
   "source": [
    "#### Are the revenue distributions statistically different?"
   ]
  },
  {
   "cell_type": "code",
   "execution_count": 127,
   "metadata": {
    "scrolled": true
   },
   "outputs": [
    {
     "name": "stdout",
     "output_type": "stream",
     "text": [
      "test-statistic: 793807.500\n",
      "p-value: 6.884e-79\n",
      "Reject null hypothesis: Distributions of both samples are not equal\n"
     ]
    }
   ],
   "source": [
    "#H0: the distributions of both samples are equal.\n",
    "#H1: the distributions of both samples are not equal.\n",
    "\n",
    "stat,p = stats.mannwhitneyu(cleaned[cleaned.top_actor == 0].revenue,cleaned[cleaned.top_actor == 1].revenue)\n",
    "print('test-statistic:', format(stat,'.3f'))\n",
    "print('p-value:', format(p,'.3e'))\n",
    "if p < 0.05:\n",
    "    print('Reject null hypothesis: Distributions of both samples are not equal')\n",
    "else:\n",
    "    print('Fail to reject null hypothesis: Distributions of both samples are equal')"
   ]
  },
  {
   "cell_type": "markdown",
   "metadata": {},
   "source": [
    "#### Are the ROI distributions statistically different?"
   ]
  },
  {
   "cell_type": "code",
   "execution_count": 128,
   "metadata": {},
   "outputs": [
    {
     "name": "stdout",
     "output_type": "stream",
     "text": [
      "test-statistic: 1321462.000\n",
      "p-value: 2.463e-05\n",
      "Reject null hypothesis: Distributions of both samples are not equal\n"
     ]
    }
   ],
   "source": [
    "#H0: the distributions of both samples are equal.\n",
    "#H1: the distributions of both samples are not equal.\n",
    "\n",
    "stat,p = stats.mannwhitneyu(cleaned[cleaned.top_actor == 0].roi,cleaned[cleaned.top_actor == 1].roi)\n",
    "print('test-statistic:', format(stat,'.3f'))\n",
    "print('p-value:', format(p,'.3e'))\n",
    "if p < 0.05:\n",
    "    print('Reject null hypothesis: Distributions of both samples are not equal')\n",
    "else:\n",
    "    print('Fail to reject null hypothesis: Distributions of both samples are equal')"
   ]
  },
  {
   "cell_type": "markdown",
   "metadata": {},
   "source": [
    "The Mann-Whitney U test concludes that both the revenue and ROI distributions for our two samples (movies with top actors as leads and movies without top actors as leads) are statistically different."
   ]
  },
  {
   "cell_type": "markdown",
   "metadata": {},
   "source": [
    "### Does having a top director have an impact on movie revenue and/or ROI?"
   ]
  },
  {
   "cell_type": "markdown",
   "metadata": {},
   "source": [
    "### Revenue"
   ]
  },
  {
   "cell_type": "code",
   "execution_count": 129,
   "metadata": {
    "scrolled": true
   },
   "outputs": [
    {
     "data": {
      "image/png": "[encoded data removed]",
      "text/plain": [
       "<Figure size 432x288 with 1 Axes>"
      ]
     },
     "metadata": {},
     "output_type": "display_data"
    }
   ],
   "source": [
    "#Relationship between having a top director and revenue\n",
    "_ = cleaned[['top_director','revenue']].groupby('top_director').mean().apply(lambda x: x/1e6).plot(kind='bar')\n",
    "_ = plt.title('Relationship between revenue and top director')\n",
    "_ = plt.ylabel('Average Revenue in millions')"
   ]
  },
  {
   "cell_type": "markdown",
   "metadata": {},
   "source": [
    "### ROI"
   ]
  },
  {
   "cell_type": "code",
   "execution_count": 130,
   "metadata": {
    "scrolled": false
   },
   "outputs": [
    {
     "data": {
      "image/png": "[encoded data removed]",
      "text/plain": [
       "<Figure size 432x288 with 1 Axes>"
      ]
     },
     "metadata": {},
     "output_type": "display_data"
    }
   ],
   "source": [
    "#Relationship between having a top director and roi\n",
    "_ = cleaned[['top_director','roi']].groupby('top_director').mean().plot(kind='bar')\n",
    "_ = plt.title('Relationship between ROI and top director')\n",
    "_ = plt.ylabel('Average ROI')"
   ]
  },
  {
   "cell_type": "markdown",
   "metadata": {},
   "source": [
    "A top director is defined as any director appearing on highest grossing actors list on IMDB. Similar to hiring a top actor, a top director also results in a much higher average revenue (~280M vs 75M USD). However, while the ROI is lower with a top director, it still almost twice as large as the ROI with a top actor. This could indicate that hiring a top director can result in higher revenues on lower budgets (i.e. higher ROIs), compared to hiring a top actor."
   ]
  },
  {
   "cell_type": "markdown",
   "metadata": {},
   "source": [
    "#### Are these observed differences in average revenue/ROI between movies with top directors and movies without top directors statistically significant?"
   ]
  },
  {
   "cell_type": "markdown",
   "metadata": {},
   "source": [
    "#### Mann_Whitney U Test"
   ]
  },
  {
   "cell_type": "markdown",
   "metadata": {},
   "source": [
    "#### Are the revenue distributions statistically different?"
   ]
  },
  {
   "cell_type": "code",
   "execution_count": 137,
   "metadata": {
    "scrolled": true
   },
   "outputs": [
    {
     "name": "stdout",
     "output_type": "stream",
     "text": [
      "test-statistic: 392744.500\n",
      "p-value: 3.927e+05\n",
      "Reject null hypothesis: Distributions of both samples are not equal\n"
     ]
    }
   ],
   "source": [
    "#H0: the distributions of both samples are equal.\n",
    "#H1: the distributions of both samples are not equal.\n",
    "\n",
    "stat,p = stats.mannwhitneyu(cleaned[cleaned.top_director == 0].revenue,cleaned[cleaned.top_director == 1].revenue)\n",
    "print('test-statistic:', format(stat,'.3f'))\n",
    "print('p-value:', format(stat,'.3e'))\n",
    "if p < 0.05:\n",
    "    print('Reject null hypothesis: Distributions of both samples are not equal')\n",
    "else:\n",
    "    print('Fail to reject null hypothesis: Distributions of both samples are equal')"
   ]
  },
  {
   "cell_type": "markdown",
   "metadata": {},
   "source": [
    "#### Are the ROI distributions statistically different?"
   ]
  },
  {
   "cell_type": "code",
   "execution_count": 138,
   "metadata": {
    "scrolled": true
   },
   "outputs": [
    {
     "name": "stdout",
     "output_type": "stream",
     "text": [
      "test-statistic: 730181.0\n",
      "p-value: 9.626003569320504e-17\n",
      "Reject null hypothesis: Distributions of both samples are not equal\n"
     ]
    }
   ],
   "source": [
    "stat,p = stats.mannwhitneyu(cleaned[cleaned.top_director == 0].roi,cleaned[cleaned.top_director == 1].roi)\n",
    "print('test-statistic:', stat)\n",
    "print('p-value:', p)\n",
    "if p < 0.05:\n",
    "    print('Reject null hypothesis: Distributions of both samples are not equal')\n",
    "else:\n",
    "    print('Fail to reject null hypothesis: Distributions of both samples are equal')"
   ]
  },
  {
   "cell_type": "markdown",
   "metadata": {},
   "source": [
    "The Mann-Whitney U test shows that both samples do not come from the same distributions. Therefore, there is statistical difference between these distributions, indicating that ROI values for movies with top directors are statistically likely to be different form the ROI values for movies without top directors."
   ]
  },
  {
   "cell_type": "markdown",
   "metadata": {},
   "source": [
    "### What genres are associated with the highest revenues and ROIs?"
   ]
  },
  {
   "cell_type": "code",
   "execution_count": 142,
   "metadata": {},
   "outputs": [],
   "source": [
    "#Create temporary df with separate rows for each genre\n",
    "temp = cleaned.genres.apply(pd.Series).stack().reset_index(level=1,drop=True).to_frame('temp_genre')\n",
    "#Merge with 'cleaned' dataset to have a separate rows for each genre\n",
    "temp = pd.merge(cleaned,temp,left_index=True,right_index=True)\n",
    "#Group revenues and budgets by genre and calculate the average for each genre\n",
    "x = temp[['temp_genre','revenue','budget','roi']].groupby('temp_genre').mean().head(10)"
   ]
  },
  {
   "cell_type": "markdown",
   "metadata": {},
   "source": [
    "#### Highest Average Revenues"
   ]
  },
  {
   "cell_type": "code",
   "execution_count": 143,
   "metadata": {
    "scrolled": true
   },
   "outputs": [
    {
     "data": {
      "image/png": "[encoded data removed]",
      "text/plain": [
       "<Figure size 432x288 with 1 Axes>"
      ]
     },
     "metadata": {},
     "output_type": "display_data"
    }
   ],
   "source": [
    "_ = x[['revenue']].sort_values('revenue').plot(kind='bar')\n",
    "_ = plt.title('Average revenue by genre')\n",
    "_ = plt.ylabel('Average Revenue')\n",
    "_ = plt.xlabel('Genre')"
   ]
  },
  {
   "cell_type": "markdown",
   "metadata": {},
   "source": [
    "Animated movies appear to have the highest average revenue followed closely by family, fantasy, and adventure. Foreign films, documentaries and dramas appear to have the lowest average revenues."
   ]
  },
  {
   "cell_type": "markdown",
   "metadata": {},
   "source": [
    "#### Highest ROIs"
   ]
  },
  {
   "cell_type": "code",
   "execution_count": 145,
   "metadata": {},
   "outputs": [
    {
     "data": {
      "image/png": "[encoded data removed]",
      "text/plain": [
       "<Figure size 432x288 with 1 Axes>"
      ]
     },
     "metadata": {},
     "output_type": "display_data"
    }
   ],
   "source": [
    "_ = x[['roi']].sort_values('roi').plot(kind='bar')\n",
    "_ = plt.title('Average ROI by genre')\n",
    "_ = plt.ylabel('Average ROI')\n",
    "_ = plt.xlabel('Genre')"
   ]
  },
  {
   "cell_type": "markdown",
   "metadata": {},
   "source": [
    "Documentary films have the highest ROI by far, followed by animated movies. Most other genres (except for foreign) result in similar ROIs on average."
   ]
  },
  {
   "cell_type": "markdown",
   "metadata": {},
   "source": [
    "### Is there a relationship between genre and categorical success?"
   ]
  },
  {
   "cell_type": "markdown",
   "metadata": {},
   "source": [
    "#### Chisquare test of independence"
   ]
  },
  {
   "cell_type": "code",
   "execution_count": 146,
   "metadata": {},
   "outputs": [
    {
     "data": {
      "text/html": [
       "<div>\n",
       "<style scoped>\n",
       "    .dataframe tbody tr th:only-of-type {\n",
       "        vertical-align: middle;\n",
       "    }\n",
       "\n",
       "    .dataframe tbody tr th {\n",
       "        vertical-align: top;\n",
       "    }\n",
       "\n",
       "    .dataframe thead th {\n",
       "        text-align: right;\n",
       "    }\n",
       "</style>\n",
       "<table border=\"1\" class=\"dataframe\">\n",
       "  <thead>\n",
       "    <tr style=\"text-align: right;\">\n",
       "      <th>success_cat</th>\n",
       "      <th>Break Even</th>\n",
       "      <th>Flop</th>\n",
       "      <th>Hit</th>\n",
       "    </tr>\n",
       "    <tr>\n",
       "      <th>temp_genre</th>\n",
       "      <th></th>\n",
       "      <th></th>\n",
       "      <th></th>\n",
       "    </tr>\n",
       "  </thead>\n",
       "  <tbody>\n",
       "    <tr>\n",
       "      <th>Action</th>\n",
       "      <td>549</td>\n",
       "      <td>457</td>\n",
       "      <td>389</td>\n",
       "    </tr>\n",
       "    <tr>\n",
       "      <th>Adventure</th>\n",
       "      <td>367</td>\n",
       "      <td>270</td>\n",
       "      <td>311</td>\n",
       "    </tr>\n",
       "    <tr>\n",
       "      <th>Animation</th>\n",
       "      <td>103</td>\n",
       "      <td>74</td>\n",
       "      <td>112</td>\n",
       "    </tr>\n",
       "    <tr>\n",
       "      <th>Comedy</th>\n",
       "      <td>643</td>\n",
       "      <td>586</td>\n",
       "      <td>577</td>\n",
       "    </tr>\n",
       "    <tr>\n",
       "      <th>Crime</th>\n",
       "      <td>327</td>\n",
       "      <td>294</td>\n",
       "      <td>226</td>\n",
       "    </tr>\n",
       "    <tr>\n",
       "      <th>Documentary</th>\n",
       "      <td>12</td>\n",
       "      <td>16</td>\n",
       "      <td>22</td>\n",
       "    </tr>\n",
       "    <tr>\n",
       "      <th>Drama</th>\n",
       "      <td>803</td>\n",
       "      <td>1008</td>\n",
       "      <td>717</td>\n",
       "    </tr>\n",
       "    <tr>\n",
       "      <th>Family</th>\n",
       "      <td>211</td>\n",
       "      <td>132</td>\n",
       "      <td>183</td>\n",
       "    </tr>\n",
       "    <tr>\n",
       "      <th>Fantasy</th>\n",
       "      <td>206</td>\n",
       "      <td>147</td>\n",
       "      <td>152</td>\n",
       "    </tr>\n",
       "    <tr>\n",
       "      <th>Foreign</th>\n",
       "      <td>6</td>\n",
       "      <td>15</td>\n",
       "      <td>7</td>\n",
       "    </tr>\n",
       "    <tr>\n",
       "      <th>History</th>\n",
       "      <td>84</td>\n",
       "      <td>94</td>\n",
       "      <td>55</td>\n",
       "    </tr>\n",
       "    <tr>\n",
       "      <th>Horror</th>\n",
       "      <td>192</td>\n",
       "      <td>180</td>\n",
       "      <td>210</td>\n",
       "    </tr>\n",
       "    <tr>\n",
       "      <th>Music</th>\n",
       "      <td>55</td>\n",
       "      <td>64</td>\n",
       "      <td>68</td>\n",
       "    </tr>\n",
       "    <tr>\n",
       "      <th>Mystery</th>\n",
       "      <td>141</td>\n",
       "      <td>174</td>\n",
       "      <td>125</td>\n",
       "    </tr>\n",
       "    <tr>\n",
       "      <th>Romance</th>\n",
       "      <td>332</td>\n",
       "      <td>334</td>\n",
       "      <td>317</td>\n",
       "    </tr>\n",
       "    <tr>\n",
       "      <th>Science Fiction</th>\n",
       "      <td>241</td>\n",
       "      <td>211</td>\n",
       "      <td>175</td>\n",
       "    </tr>\n",
       "    <tr>\n",
       "      <th>TV Movie</th>\n",
       "      <td>0</td>\n",
       "      <td>0</td>\n",
       "      <td>1</td>\n",
       "    </tr>\n",
       "    <tr>\n",
       "      <th>Thriller</th>\n",
       "      <td>528</td>\n",
       "      <td>539</td>\n",
       "      <td>412</td>\n",
       "    </tr>\n",
       "    <tr>\n",
       "      <th>War</th>\n",
       "      <td>76</td>\n",
       "      <td>67</td>\n",
       "      <td>57</td>\n",
       "    </tr>\n",
       "    <tr>\n",
       "      <th>Western</th>\n",
       "      <td>35</td>\n",
       "      <td>33</td>\n",
       "      <td>21</td>\n",
       "    </tr>\n",
       "  </tbody>\n",
       "</table>\n",
       "</div>"
      ],
      "text/plain": [
       "success_cat      Break Even  Flop  Hit\n",
       "temp_genre                            \n",
       "Action                  549   457  389\n",
       "Adventure               367   270  311\n",
       "Animation               103    74  112\n",
       "Comedy                  643   586  577\n",
       "Crime                   327   294  226\n",
       "Documentary              12    16   22\n",
       "Drama                   803  1008  717\n",
       "Family                  211   132  183\n",
       "Fantasy                 206   147  152\n",
       "Foreign                   6    15    7\n",
       "History                  84    94   55\n",
       "Horror                  192   180  210\n",
       "Music                    55    64   68\n",
       "Mystery                 141   174  125\n",
       "Romance                 332   334  317\n",
       "Science Fiction         241   211  175\n",
       "TV Movie                  0     0    1\n",
       "Thriller                528   539  412\n",
       "War                      76    67   57\n",
       "Western                  35    33   21"
      ]
     },
     "execution_count": 146,
     "metadata": {},
     "output_type": "execute_result"
    }
   ],
   "source": [
    "#Create contingency table for chisquare test of independence\n",
    "contingency_table = pd.crosstab(temp.temp_genre, temp.success_cat, margins = False)\n",
    "contingency_table"
   ]
  },
  {
   "cell_type": "code",
   "execution_count": 147,
   "metadata": {},
   "outputs": [
    {
     "name": "stdout",
     "output_type": "stream",
     "text": [
      "test-statistic: 159.190\n",
      "p-value: 8.940e-17\n",
      "degrees of freedom: 38\n",
      "Reject null hypothesis: There is a relationship between genre and categorical success\n"
     ]
    }
   ],
   "source": [
    "#Conduct chisquare test\n",
    "chi2,p,dof,expected = stats.chi2_contingency(contingency_table)\n",
    "print('test-statistic:', format(chi2,'.3f'))\n",
    "print('p-value:', format(p,'.3e'))\n",
    "print('degrees of freedom:', dof)\n",
    "\n",
    "#Check p-value against significance level of 0.05\n",
    "if p < 0.05:\n",
    "    print('Reject null hypothesis: There is a relationship between genre and categorical success')\n",
    "else:\n",
    "    print('Fail to reject null hypothesis: There is no relationship between genre and categorical success')"
   ]
  },
  {
   "cell_type": "markdown",
   "metadata": {},
   "source": [
    "The chisquare test of independence concludes that there is a statistically significant correlation between genre and categorical success."
   ]
  },
  {
   "cell_type": "markdown",
   "metadata": {},
   "source": [
    "## Machine Learning"
   ]
  },
  {
   "cell_type": "code",
   "execution_count": 148,
   "metadata": {},
   "outputs": [],
   "source": [
    "#Import necessary modules\n",
    "from sklearn.model_selection import train_test_split\n",
    "from sklearn.model_selection import cross_val_score\n",
    "from sklearn.linear_model import LinearRegression\n",
    "from sklearn.metrics import mean_squared_error\n",
    "from sklearn.ensemble import RandomForestRegressor\n",
    "from sklearn.ensemble import RandomForestClassifier\n",
    "from sklearn.model_selection import RandomizedSearchCV\n",
    "from sklearn.model_selection import GridSearchCV\n",
    "from sklearn.linear_model import Ridge\n",
    "from sklearn.feature_selection import RFE\n",
    "from sklearn.linear_model import ElasticNet\n",
    "from sklearn.neighbors import KNeighborsRegressor\n",
    "from sklearn.tree import DecisionTreeRegressor\n",
    "from sklearn.ensemble import GradientBoostingRegressor\n",
    "from sklearn.svm import SVR\n",
    "import statsmodels.formula.api as smf\n",
    "import statsmodels.api as sm\n",
    "from statsmodels.stats.outliers_influence import variance_inflation_factor"
   ]
  },
  {
   "cell_type": "markdown",
   "metadata": {},
   "source": [
    "### Additional cleaning to prepare data for Machine Learning algorithms"
   ]
  },
  {
   "cell_type": "code",
   "execution_count": 149,
   "metadata": {
    "scrolled": true
   },
   "outputs": [
    {
     "data": {
      "text/html": [
       "<div>\n",
       "<style scoped>\n",
       "    .dataframe tbody tr th:only-of-type {\n",
       "        vertical-align: middle;\n",
       "    }\n",
       "\n",
       "    .dataframe tbody tr th {\n",
       "        vertical-align: top;\n",
       "    }\n",
       "\n",
       "    .dataframe thead th {\n",
       "        text-align: right;\n",
       "    }\n",
       "</style>\n",
       "<table border=\"1\" class=\"dataframe\">\n",
       "  <thead>\n",
       "    <tr style=\"text-align: right;\">\n",
       "      <th></th>\n",
       "      <th>title</th>\n",
       "      <th>id</th>\n",
       "      <th>collection</th>\n",
       "      <th>budget</th>\n",
       "      <th>genres</th>\n",
       "      <th>release_date</th>\n",
       "      <th>runtime</th>\n",
       "      <th>vote_average</th>\n",
       "      <th>vote_count</th>\n",
       "      <th>original_language</th>\n",
       "      <th>...</th>\n",
       "      <th>tv_movie</th>\n",
       "      <th>thriller</th>\n",
       "      <th>war</th>\n",
       "      <th>western</th>\n",
       "      <th>top_actor</th>\n",
       "      <th>top_director</th>\n",
       "      <th>release_season</th>\n",
       "      <th>revenue</th>\n",
       "      <th>roi</th>\n",
       "      <th>success_cat</th>\n",
       "    </tr>\n",
       "  </thead>\n",
       "  <tbody>\n",
       "    <tr>\n",
       "      <th>0</th>\n",
       "      <td>Toy Story</td>\n",
       "      <td>862</td>\n",
       "      <td>Toy Story Collection</td>\n",
       "      <td>30000000.0</td>\n",
       "      <td>[Animation, Comedy, Family]</td>\n",
       "      <td>1995-10-30</td>\n",
       "      <td>81.0</td>\n",
       "      <td>7.7</td>\n",
       "      <td>5415.0</td>\n",
       "      <td>en</td>\n",
       "      <td>...</td>\n",
       "      <td>0</td>\n",
       "      <td>0</td>\n",
       "      <td>0</td>\n",
       "      <td>0</td>\n",
       "      <td>1</td>\n",
       "      <td>1</td>\n",
       "      <td>Off_Season</td>\n",
       "      <td>373554033.0</td>\n",
       "      <td>12.451801</td>\n",
       "      <td>Hit</td>\n",
       "    </tr>\n",
       "    <tr>\n",
       "      <th>1</th>\n",
       "      <td>Jumanji</td>\n",
       "      <td>8844</td>\n",
       "      <td>0</td>\n",
       "      <td>65000000.0</td>\n",
       "      <td>[Adventure, Fantasy, Family]</td>\n",
       "      <td>1995-12-15</td>\n",
       "      <td>104.0</td>\n",
       "      <td>6.9</td>\n",
       "      <td>2413.0</td>\n",
       "      <td>en</td>\n",
       "      <td>...</td>\n",
       "      <td>0</td>\n",
       "      <td>0</td>\n",
       "      <td>0</td>\n",
       "      <td>0</td>\n",
       "      <td>1</td>\n",
       "      <td>0</td>\n",
       "      <td>Holiday Season</td>\n",
       "      <td>262797249.0</td>\n",
       "      <td>4.043035</td>\n",
       "      <td>Hit</td>\n",
       "    </tr>\n",
       "    <tr>\n",
       "      <th>2</th>\n",
       "      <td>Waiting to Exhale</td>\n",
       "      <td>31357</td>\n",
       "      <td>0</td>\n",
       "      <td>16000000.0</td>\n",
       "      <td>[Comedy, Drama, Romance]</td>\n",
       "      <td>1995-12-22</td>\n",
       "      <td>127.0</td>\n",
       "      <td>6.1</td>\n",
       "      <td>34.0</td>\n",
       "      <td>en</td>\n",
       "      <td>...</td>\n",
       "      <td>0</td>\n",
       "      <td>0</td>\n",
       "      <td>0</td>\n",
       "      <td>0</td>\n",
       "      <td>0</td>\n",
       "      <td>0</td>\n",
       "      <td>Holiday Season</td>\n",
       "      <td>81452156.0</td>\n",
       "      <td>5.090760</td>\n",
       "      <td>Hit</td>\n",
       "    </tr>\n",
       "    <tr>\n",
       "      <th>3</th>\n",
       "      <td>Heat</td>\n",
       "      <td>949</td>\n",
       "      <td>0</td>\n",
       "      <td>60000000.0</td>\n",
       "      <td>[Action, Crime, Drama, Thriller]</td>\n",
       "      <td>1995-12-15</td>\n",
       "      <td>170.0</td>\n",
       "      <td>7.7</td>\n",
       "      <td>1886.0</td>\n",
       "      <td>en</td>\n",
       "      <td>...</td>\n",
       "      <td>0</td>\n",
       "      <td>1</td>\n",
       "      <td>0</td>\n",
       "      <td>0</td>\n",
       "      <td>0</td>\n",
       "      <td>0</td>\n",
       "      <td>Holiday Season</td>\n",
       "      <td>187436818.0</td>\n",
       "      <td>3.123947</td>\n",
       "      <td>Break Even</td>\n",
       "    </tr>\n",
       "    <tr>\n",
       "      <th>4</th>\n",
       "      <td>Sudden Death</td>\n",
       "      <td>9091</td>\n",
       "      <td>0</td>\n",
       "      <td>35000000.0</td>\n",
       "      <td>[Action, Adventure, Thriller]</td>\n",
       "      <td>1995-12-22</td>\n",
       "      <td>106.0</td>\n",
       "      <td>5.5</td>\n",
       "      <td>174.0</td>\n",
       "      <td>en</td>\n",
       "      <td>...</td>\n",
       "      <td>0</td>\n",
       "      <td>1</td>\n",
       "      <td>0</td>\n",
       "      <td>0</td>\n",
       "      <td>0</td>\n",
       "      <td>0</td>\n",
       "      <td>Holiday Season</td>\n",
       "      <td>64350171.0</td>\n",
       "      <td>1.838576</td>\n",
       "      <td>Break Even</td>\n",
       "    </tr>\n",
       "  </tbody>\n",
       "</table>\n",
       "<p>5 rows × 38 columns</p>\n",
       "</div>"
      ],
      "text/plain": [
       "               title     id            collection      budget  \\\n",
       "0          Toy Story    862  Toy Story Collection  30000000.0   \n",
       "1            Jumanji   8844                     0  65000000.0   \n",
       "2  Waiting to Exhale  31357                     0  16000000.0   \n",
       "3               Heat    949                     0  60000000.0   \n",
       "4       Sudden Death   9091                     0  35000000.0   \n",
       "\n",
       "                             genres release_date  runtime  vote_average  \\\n",
       "0       [Animation, Comedy, Family]   1995-10-30     81.0           7.7   \n",
       "1      [Adventure, Fantasy, Family]   1995-12-15    104.0           6.9   \n",
       "2          [Comedy, Drama, Romance]   1995-12-22    127.0           6.1   \n",
       "3  [Action, Crime, Drama, Thriller]   1995-12-15    170.0           7.7   \n",
       "4     [Action, Adventure, Thriller]   1995-12-22    106.0           5.5   \n",
       "\n",
       "   vote_count original_language     ...      tv_movie thriller  war  western  \\\n",
       "0      5415.0                en     ...             0        0    0        0   \n",
       "1      2413.0                en     ...             0        0    0        0   \n",
       "2        34.0                en     ...             0        0    0        0   \n",
       "3      1886.0                en     ...             0        1    0        0   \n",
       "4       174.0                en     ...             0        1    0        0   \n",
       "\n",
       "   top_actor  top_director  release_season      revenue        roi  \\\n",
       "0          1             1      Off_Season  373554033.0  12.451801   \n",
       "1          1             0  Holiday Season  262797249.0   4.043035   \n",
       "2          0             0  Holiday Season   81452156.0   5.090760   \n",
       "3          0             0  Holiday Season  187436818.0   3.123947   \n",
       "4          0             0  Holiday Season   64350171.0   1.838576   \n",
       "\n",
       "   success_cat  \n",
       "0          Hit  \n",
       "1          Hit  \n",
       "2          Hit  \n",
       "3   Break Even  \n",
       "4   Break Even  \n",
       "\n",
       "[5 rows x 38 columns]"
      ]
     },
     "execution_count": 149,
     "metadata": {},
     "output_type": "execute_result"
    }
   ],
   "source": [
    "cleaned.head()"
   ]
  },
  {
   "cell_type": "markdown",
   "metadata": {},
   "source": [
    "The collection and release_season columns have strings as variables that need to be converted to numerical variables for regression and classification algorithms"
   ]
  },
  {
   "cell_type": "code",
   "execution_count": 150,
   "metadata": {},
   "outputs": [],
   "source": [
    "#Create separate collection column as binary column\n",
    "cleaned['collection_or_not'] = [cleaned.collection != 0][0].astype(int)"
   ]
  },
  {
   "cell_type": "code",
   "execution_count": 151,
   "metadata": {},
   "outputs": [],
   "source": [
    "#Convert release_season into dummy variables\n",
    "release_season_columns = pd.get_dummies(df.release_season.apply(pd.Series).stack()).sum(level=0)"
   ]
  },
  {
   "cell_type": "code",
   "execution_count": 152,
   "metadata": {},
   "outputs": [],
   "source": [
    "release_season_columns.columns = release_season_columns.columns.str.replace(' ','_').str.lower()\n",
    "release_season_columns=release_season_columns.rename(columns = {'''valentine's_day''':'valentines_day'})"
   ]
  },
  {
   "cell_type": "code",
   "execution_count": 153,
   "metadata": {},
   "outputs": [],
   "source": [
    "#Add release_season binary columns to cleaned = dfb\n",
    "df = cleaned.join(release_season_columns)"
   ]
  },
  {
   "cell_type": "code",
   "execution_count": 154,
   "metadata": {},
   "outputs": [],
   "source": [
    "# Set binary columns (uint8 type) as 'categorical' variables for correlation matrix\n",
    "cat_columns = ['action', 'adventure', 'animation', 'comedy', 'crime',\n",
    "       'documentary', 'drama', 'family', 'fantasy', 'foreign', 'history',\n",
    "       'horror', 'music', 'mystery', 'romance', 'science_fiction', 'tv_movie',\n",
    "       'thriller', 'war', 'western', 'top_actor', 'top_director','collection_or_not',\n",
    "       'holiday_season', 'labor_day', 'mlk_day','off_season', 'summer', 'valentines_day']\n",
    "for i in cat_columns:\n",
    "    df[i] = df[i].astype('category')"
   ]
  },
  {
   "cell_type": "code",
   "execution_count": 155,
   "metadata": {
    "scrolled": true
   },
   "outputs": [
    {
     "data": {
      "text/plain": [
       "Index(['title', 'id', 'collection', 'budget', 'genres', 'release_date',\n",
       "       'runtime', 'vote_average', 'vote_count', 'original_language', 'actor',\n",
       "       'director', 'action', 'adventure', 'animation', 'comedy', 'crime',\n",
       "       'documentary', 'drama', 'family', 'fantasy', 'foreign', 'history',\n",
       "       'horror', 'music', 'mystery', 'romance', 'science_fiction', 'tv_movie',\n",
       "       'thriller', 'war', 'western', 'top_actor', 'top_director',\n",
       "       'release_season', 'revenue', 'roi', 'success_cat', 'collection_or_not',\n",
       "       'holiday_season', 'labor_day', 'mlk_day', 'off_season', 'summer',\n",
       "       'valentines_day'],\n",
       "      dtype='object')"
      ]
     },
     "execution_count": 155,
     "metadata": {},
     "output_type": "execute_result"
    }
   ],
   "source": [
    "df.columns"
   ]
  },
  {
   "cell_type": "code",
   "execution_count": 156,
   "metadata": {},
   "outputs": [],
   "source": [
    "#Dataframe to be used for regression\n",
    "#Drop unnecessary columns, including off-season to avoid multicollinearity\n",
    "reg_df = df.drop(['title','id','collection','genres','release_date','original_language',\n",
    "                 'actor','director','release_season','off_season'],axis=1)"
   ]
  },
  {
   "cell_type": "code",
   "execution_count": 157,
   "metadata": {
    "scrolled": false
   },
   "outputs": [
    {
     "data": {
      "image/png": "[encoded data removed]",
      "text/plain": [
       "<Figure size 432x288 with 2 Axes>"
      ]
     },
     "metadata": {},
     "output_type": "display_data"
    }
   ],
   "source": [
    "#Correlation matrix\n",
    "_ = sns.heatmap(reg_df.corr().round(2),square=True,annot=True,cmap='RdYlGn',vmin=-1, vmax=1)"
   ]
  },
  {
   "cell_type": "markdown",
   "metadata": {},
   "source": [
    "Budget and vote count appear to have the strongest correlation with revenue (coefficients of 0.73 and 0.77, respectively), while none of the numeric features show a direct correlation with ROI. None of the features exhibit signs of collinearity since none of the correlation coefficients are greater than ~0.8"
   ]
  },
  {
   "cell_type": "markdown",
   "metadata": {},
   "source": [
    "VIF Factor WITH budget as a feature (as it is for revenue)"
   ]
  },
  {
   "cell_type": "code",
   "execution_count": 159,
   "metadata": {
    "scrolled": true
   },
   "outputs": [
    {
     "data": {
      "text/html": [
       "<div>\n",
       "<style scoped>\n",
       "    .dataframe tbody tr th:only-of-type {\n",
       "        vertical-align: middle;\n",
       "    }\n",
       "\n",
       "    .dataframe tbody tr th {\n",
       "        vertical-align: top;\n",
       "    }\n",
       "\n",
       "    .dataframe thead th {\n",
       "        text-align: right;\n",
       "    }\n",
       "</style>\n",
       "<table border=\"1\" class=\"dataframe\">\n",
       "  <thead>\n",
       "    <tr style=\"text-align: right;\">\n",
       "      <th></th>\n",
       "      <th>VIF Factor</th>\n",
       "      <th>features</th>\n",
       "    </tr>\n",
       "  </thead>\n",
       "  <tbody>\n",
       "    <tr>\n",
       "      <th>2</th>\n",
       "      <td>38.221020</td>\n",
       "      <td>vote_average</td>\n",
       "    </tr>\n",
       "    <tr>\n",
       "      <th>1</th>\n",
       "      <td>36.378651</td>\n",
       "      <td>runtime</td>\n",
       "    </tr>\n",
       "    <tr>\n",
       "      <th>0</th>\n",
       "      <td>3.405193</td>\n",
       "      <td>budget</td>\n",
       "    </tr>\n",
       "    <tr>\n",
       "      <th>10</th>\n",
       "      <td>3.131515</td>\n",
       "      <td>drama</td>\n",
       "    </tr>\n",
       "    <tr>\n",
       "      <th>3</th>\n",
       "      <td>2.413300</td>\n",
       "      <td>vote_count</td>\n",
       "    </tr>\n",
       "  </tbody>\n",
       "</table>\n",
       "</div>"
      ],
      "text/plain": [
       "    VIF Factor      features\n",
       "2    38.221020  vote_average\n",
       "1    36.378651       runtime\n",
       "0     3.405193        budget\n",
       "10    3.131515         drama\n",
       "3     2.413300    vote_count"
      ]
     },
     "execution_count": 159,
     "metadata": {},
     "output_type": "execute_result"
    }
   ],
   "source": [
    "#Get features\n",
    "feature_x = reg_df.drop(['roi','success_cat','revenue'],axis=1)\n",
    "#Convert features to float arrays\n",
    "feature_x_arr = np.array(feature_x, dtype=float)\n",
    "\n",
    "#VIF Factor dataframe\n",
    "vif = pd.DataFrame()\n",
    "vif[\"VIF Factor\"] = [variance_inflation_factor(feature_x_arr, i) for i in range(feature_x_arr.shape[1])]\n",
    "vif[\"features\"] = feature_x.columns\n",
    "vif.sort_values(by='VIF Factor',ascending=False).head()"
   ]
  },
  {
   "cell_type": "markdown",
   "metadata": {},
   "source": [
    "VIF Factor WITHOUT budget as a feature (as it is for roi and success_cat)"
   ]
  },
  {
   "cell_type": "code",
   "execution_count": 160,
   "metadata": {
    "scrolled": true
   },
   "outputs": [
    {
     "data": {
      "text/html": [
       "<div>\n",
       "<style scoped>\n",
       "    .dataframe tbody tr th:only-of-type {\n",
       "        vertical-align: middle;\n",
       "    }\n",
       "\n",
       "    .dataframe tbody tr th {\n",
       "        vertical-align: top;\n",
       "    }\n",
       "\n",
       "    .dataframe thead th {\n",
       "        text-align: right;\n",
       "    }\n",
       "</style>\n",
       "<table border=\"1\" class=\"dataframe\">\n",
       "  <thead>\n",
       "    <tr style=\"text-align: right;\">\n",
       "      <th></th>\n",
       "      <th>VIF Factor</th>\n",
       "      <th>features</th>\n",
       "    </tr>\n",
       "  </thead>\n",
       "  <tbody>\n",
       "    <tr>\n",
       "      <th>1</th>\n",
       "      <td>36.178945</td>\n",
       "      <td>vote_average</td>\n",
       "    </tr>\n",
       "    <tr>\n",
       "      <th>0</th>\n",
       "      <td>33.302901</td>\n",
       "      <td>runtime</td>\n",
       "    </tr>\n",
       "    <tr>\n",
       "      <th>9</th>\n",
       "      <td>3.123802</td>\n",
       "      <td>drama</td>\n",
       "    </tr>\n",
       "    <tr>\n",
       "      <th>6</th>\n",
       "      <td>2.052409</td>\n",
       "      <td>comedy</td>\n",
       "    </tr>\n",
       "    <tr>\n",
       "      <th>20</th>\n",
       "      <td>2.051560</td>\n",
       "      <td>thriller</td>\n",
       "    </tr>\n",
       "  </tbody>\n",
       "</table>\n",
       "</div>"
      ],
      "text/plain": [
       "    VIF Factor      features\n",
       "1    36.178945  vote_average\n",
       "0    33.302901       runtime\n",
       "9     3.123802         drama\n",
       "6     2.052409        comedy\n",
       "20    2.051560      thriller"
      ]
     },
     "execution_count": 160,
     "metadata": {},
     "output_type": "execute_result"
    }
   ],
   "source": [
    "feature_x = reg_df.drop(['budget','roi','success_cat','revenue'],axis=1)\n",
    "feature_x_arr = np.array(feature_x, dtype=float)\n",
    "vif = pd.DataFrame()\n",
    "vif[\"VIF Factor\"] = [variance_inflation_factor(feature_x_arr, i) for i in range(feature_x_arr.shape[1])]\n",
    "vif[\"features\"] = feature_x.columns\n",
    "vif.sort_values(by='VIF Factor',ascending=False).head()"
   ]
  },
  {
   "cell_type": "markdown",
   "metadata": {},
   "source": [
    "Both vote_average and runtime have a very high VIF Factor, with vote_average being higher than runtime, suggesting that these variables exhibit multicollinearity. Drop vote_average and re-do VIF Factor analysis to assess if this fixes the problem of multicollinearity."
   ]
  },
  {
   "cell_type": "code",
   "execution_count": 162,
   "metadata": {},
   "outputs": [
    {
     "data": {
      "text/html": [
       "<div>\n",
       "<style scoped>\n",
       "    .dataframe tbody tr th:only-of-type {\n",
       "        vertical-align: middle;\n",
       "    }\n",
       "\n",
       "    .dataframe tbody tr th {\n",
       "        vertical-align: top;\n",
       "    }\n",
       "\n",
       "    .dataframe thead th {\n",
       "        text-align: right;\n",
       "    }\n",
       "</style>\n",
       "<table border=\"1\" class=\"dataframe\">\n",
       "  <thead>\n",
       "    <tr style=\"text-align: right;\">\n",
       "      <th></th>\n",
       "      <th>VIF Factor</th>\n",
       "      <th>features</th>\n",
       "    </tr>\n",
       "  </thead>\n",
       "  <tbody>\n",
       "    <tr>\n",
       "      <th>0</th>\n",
       "      <td>8.973673</td>\n",
       "      <td>runtime</td>\n",
       "    </tr>\n",
       "    <tr>\n",
       "      <th>8</th>\n",
       "      <td>2.934818</td>\n",
       "      <td>drama</td>\n",
       "    </tr>\n",
       "    <tr>\n",
       "      <th>19</th>\n",
       "      <td>2.032398</td>\n",
       "      <td>thriller</td>\n",
       "    </tr>\n",
       "    <tr>\n",
       "      <th>2</th>\n",
       "      <td>1.978759</td>\n",
       "      <td>action</td>\n",
       "    </tr>\n",
       "    <tr>\n",
       "      <th>9</th>\n",
       "      <td>1.890634</td>\n",
       "      <td>family</td>\n",
       "    </tr>\n",
       "  </tbody>\n",
       "</table>\n",
       "</div>"
      ],
      "text/plain": [
       "    VIF Factor  features\n",
       "0     8.973673   runtime\n",
       "8     2.934818     drama\n",
       "19    2.032398  thriller\n",
       "2     1.978759    action\n",
       "9     1.890634    family"
      ]
     },
     "execution_count": 162,
     "metadata": {},
     "output_type": "execute_result"
    }
   ],
   "source": [
    "#Drop vote_average and re-do VIF Factor analysis\n",
    "feature_x = reg_df.drop(['budget','roi','success_cat','revenue','vote_average'],axis=1)\n",
    "feature_x_arr = np.array(feature_x, dtype=float)\n",
    "vif = pd.DataFrame()\n",
    "vif[\"VIF Factor\"] = [variance_inflation_factor(feature_x_arr, i) for i in range(feature_x_arr.shape[1])]\n",
    "vif[\"features\"] = feature_x.columns\n",
    "vif.sort_values(by='VIF Factor',ascending=False).head()"
   ]
  },
  {
   "cell_type": "markdown",
   "metadata": {},
   "source": [
    "Dropping vote_average has dropped the VIF factor of runtime down to ~9. Since this is below 10, we can consider the relationship between the feature variables to not be multicollinear. The feature, vote_average, will therefore be dropped from the dataframe to avoid problems related to multicollinearity."
   ]
  },
  {
   "cell_type": "code",
   "execution_count": 163,
   "metadata": {},
   "outputs": [],
   "source": [
    "#Drop vote_average from dataframe\n",
    "reg_df = reg_df.drop(['vote_average'],axis=1)"
   ]
  },
  {
   "cell_type": "markdown",
   "metadata": {},
   "source": [
    "## Scaling of Features"
   ]
  },
  {
   "cell_type": "code",
   "execution_count": 164,
   "metadata": {},
   "outputs": [
    {
     "data": {
      "text/html": [
       "<div>\n",
       "<style scoped>\n",
       "    .dataframe tbody tr th:only-of-type {\n",
       "        vertical-align: middle;\n",
       "    }\n",
       "\n",
       "    .dataframe tbody tr th {\n",
       "        vertical-align: top;\n",
       "    }\n",
       "\n",
       "    .dataframe thead th {\n",
       "        text-align: right;\n",
       "    }\n",
       "</style>\n",
       "<table border=\"1\" class=\"dataframe\">\n",
       "  <thead>\n",
       "    <tr style=\"text-align: right;\">\n",
       "      <th></th>\n",
       "      <th>budget</th>\n",
       "      <th>runtime</th>\n",
       "      <th>vote_count</th>\n",
       "    </tr>\n",
       "  </thead>\n",
       "  <tbody>\n",
       "    <tr>\n",
       "      <th>count</th>\n",
       "      <td>5262.000000</td>\n",
       "      <td>5262.000000</td>\n",
       "      <td>5262.000000</td>\n",
       "    </tr>\n",
       "    <tr>\n",
       "      <th>mean</th>\n",
       "      <td>0.083466</td>\n",
       "      <td>0.269873</td>\n",
       "      <td>0.053031</td>\n",
       "    </tr>\n",
       "    <tr>\n",
       "      <th>std</th>\n",
       "      <td>0.106263</td>\n",
       "      <td>0.068928</td>\n",
       "      <td>0.089624</td>\n",
       "    </tr>\n",
       "    <tr>\n",
       "      <th>min</th>\n",
       "      <td>0.000000</td>\n",
       "      <td>0.000000</td>\n",
       "      <td>0.000000</td>\n",
       "    </tr>\n",
       "    <tr>\n",
       "      <th>25%</th>\n",
       "      <td>0.015761</td>\n",
       "      <td>0.221154</td>\n",
       "      <td>0.005826</td>\n",
       "    </tr>\n",
       "    <tr>\n",
       "      <th>50%</th>\n",
       "      <td>0.046025</td>\n",
       "      <td>0.256410</td>\n",
       "      <td>0.020321</td>\n",
       "    </tr>\n",
       "    <tr>\n",
       "      <th>75%</th>\n",
       "      <td>0.105237</td>\n",
       "      <td>0.301282</td>\n",
       "      <td>0.058938</td>\n",
       "    </tr>\n",
       "    <tr>\n",
       "      <th>max</th>\n",
       "      <td>1.000000</td>\n",
       "      <td>1.000000</td>\n",
       "      <td>1.000000</td>\n",
       "    </tr>\n",
       "  </tbody>\n",
       "</table>\n",
       "</div>"
      ],
      "text/plain": [
       "            budget      runtime   vote_count\n",
       "count  5262.000000  5262.000000  5262.000000\n",
       "mean      0.083466     0.269873     0.053031\n",
       "std       0.106263     0.068928     0.089624\n",
       "min       0.000000     0.000000     0.000000\n",
       "25%       0.015761     0.221154     0.005826\n",
       "50%       0.046025     0.256410     0.020321\n",
       "75%       0.105237     0.301282     0.058938\n",
       "max       1.000000     1.000000     1.000000"
      ]
     },
     "execution_count": 164,
     "metadata": {},
     "output_type": "execute_result"
    }
   ],
   "source": [
    "#Scale continuous feature variables\n",
    "from sklearn.preprocessing import MinMaxScaler\n",
    "\n",
    "#Initialize scaler\n",
    "scaler = MinMaxScaler() \n",
    "  \n",
    "# Scaled features\n",
    "reg_df_transformed = scaler.fit_transform(reg_df[['budget', 'runtime', 'vote_count']])\n",
    "\n",
    "#Convert scaled features to dataframe\n",
    "scaled_df = pd.DataFrame(reg_df_transformed, columns=['budget', 'runtime', 'vote_count'])\n",
    "scaled_df.describe()"
   ]
  },
  {
   "cell_type": "code",
   "execution_count": 165,
   "metadata": {
    "scrolled": false
   },
   "outputs": [
    {
     "data": {
      "text/html": [
       "<div>\n",
       "<style scoped>\n",
       "    .dataframe tbody tr th:only-of-type {\n",
       "        vertical-align: middle;\n",
       "    }\n",
       "\n",
       "    .dataframe tbody tr th {\n",
       "        vertical-align: top;\n",
       "    }\n",
       "\n",
       "    .dataframe thead th {\n",
       "        text-align: right;\n",
       "    }\n",
       "</style>\n",
       "<table border=\"1\" class=\"dataframe\">\n",
       "  <thead>\n",
       "    <tr style=\"text-align: right;\">\n",
       "      <th></th>\n",
       "      <th>budget</th>\n",
       "      <th>runtime</th>\n",
       "      <th>vote_count</th>\n",
       "      <th>action</th>\n",
       "      <th>adventure</th>\n",
       "      <th>animation</th>\n",
       "      <th>comedy</th>\n",
       "      <th>crime</th>\n",
       "      <th>documentary</th>\n",
       "      <th>drama</th>\n",
       "      <th>...</th>\n",
       "      <th>top_director</th>\n",
       "      <th>revenue</th>\n",
       "      <th>roi</th>\n",
       "      <th>success_cat</th>\n",
       "      <th>collection_or_not</th>\n",
       "      <th>holiday_season</th>\n",
       "      <th>labor_day</th>\n",
       "      <th>mlk_day</th>\n",
       "      <th>summer</th>\n",
       "      <th>valentines_day</th>\n",
       "    </tr>\n",
       "  </thead>\n",
       "  <tbody>\n",
       "    <tr>\n",
       "      <th>0</th>\n",
       "      <td>0.078920</td>\n",
       "      <td>0.176282</td>\n",
       "      <td>0.384681</td>\n",
       "      <td>0</td>\n",
       "      <td>0</td>\n",
       "      <td>1</td>\n",
       "      <td>1</td>\n",
       "      <td>0</td>\n",
       "      <td>0</td>\n",
       "      <td>0</td>\n",
       "      <td>...</td>\n",
       "      <td>1</td>\n",
       "      <td>373554033.0</td>\n",
       "      <td>12.451801</td>\n",
       "      <td>Hit</td>\n",
       "      <td>1</td>\n",
       "      <td>0</td>\n",
       "      <td>0</td>\n",
       "      <td>0</td>\n",
       "      <td>0</td>\n",
       "      <td>0</td>\n",
       "    </tr>\n",
       "    <tr>\n",
       "      <th>1</th>\n",
       "      <td>0.171028</td>\n",
       "      <td>0.250000</td>\n",
       "      <td>0.171380</td>\n",
       "      <td>0</td>\n",
       "      <td>1</td>\n",
       "      <td>0</td>\n",
       "      <td>0</td>\n",
       "      <td>0</td>\n",
       "      <td>0</td>\n",
       "      <td>0</td>\n",
       "      <td>...</td>\n",
       "      <td>0</td>\n",
       "      <td>262797249.0</td>\n",
       "      <td>4.043035</td>\n",
       "      <td>Hit</td>\n",
       "      <td>0</td>\n",
       "      <td>1</td>\n",
       "      <td>0</td>\n",
       "      <td>0</td>\n",
       "      <td>0</td>\n",
       "      <td>0</td>\n",
       "    </tr>\n",
       "    <tr>\n",
       "      <th>2</th>\n",
       "      <td>0.042077</td>\n",
       "      <td>0.323718</td>\n",
       "      <td>0.002345</td>\n",
       "      <td>0</td>\n",
       "      <td>0</td>\n",
       "      <td>0</td>\n",
       "      <td>1</td>\n",
       "      <td>0</td>\n",
       "      <td>0</td>\n",
       "      <td>1</td>\n",
       "      <td>...</td>\n",
       "      <td>0</td>\n",
       "      <td>81452156.0</td>\n",
       "      <td>5.090760</td>\n",
       "      <td>Hit</td>\n",
       "      <td>0</td>\n",
       "      <td>1</td>\n",
       "      <td>0</td>\n",
       "      <td>0</td>\n",
       "      <td>0</td>\n",
       "      <td>0</td>\n",
       "    </tr>\n",
       "    <tr>\n",
       "      <th>3</th>\n",
       "      <td>0.157870</td>\n",
       "      <td>0.461538</td>\n",
       "      <td>0.133935</td>\n",
       "      <td>1</td>\n",
       "      <td>0</td>\n",
       "      <td>0</td>\n",
       "      <td>0</td>\n",
       "      <td>1</td>\n",
       "      <td>0</td>\n",
       "      <td>1</td>\n",
       "      <td>...</td>\n",
       "      <td>0</td>\n",
       "      <td>187436818.0</td>\n",
       "      <td>3.123947</td>\n",
       "      <td>Break Even</td>\n",
       "      <td>0</td>\n",
       "      <td>1</td>\n",
       "      <td>0</td>\n",
       "      <td>0</td>\n",
       "      <td>0</td>\n",
       "      <td>0</td>\n",
       "    </tr>\n",
       "    <tr>\n",
       "      <th>4</th>\n",
       "      <td>0.092079</td>\n",
       "      <td>0.256410</td>\n",
       "      <td>0.012292</td>\n",
       "      <td>1</td>\n",
       "      <td>1</td>\n",
       "      <td>0</td>\n",
       "      <td>0</td>\n",
       "      <td>0</td>\n",
       "      <td>0</td>\n",
       "      <td>0</td>\n",
       "      <td>...</td>\n",
       "      <td>0</td>\n",
       "      <td>64350171.0</td>\n",
       "      <td>1.838576</td>\n",
       "      <td>Break Even</td>\n",
       "      <td>0</td>\n",
       "      <td>1</td>\n",
       "      <td>0</td>\n",
       "      <td>0</td>\n",
       "      <td>0</td>\n",
       "      <td>0</td>\n",
       "    </tr>\n",
       "  </tbody>\n",
       "</table>\n",
       "<p>5 rows × 34 columns</p>\n",
       "</div>"
      ],
      "text/plain": [
       "     budget   runtime  vote_count action adventure animation comedy crime  \\\n",
       "0  0.078920  0.176282    0.384681      0         0         1      1     0   \n",
       "1  0.171028  0.250000    0.171380      0         1         0      0     0   \n",
       "2  0.042077  0.323718    0.002345      0         0         0      1     0   \n",
       "3  0.157870  0.461538    0.133935      1         0         0      0     1   \n",
       "4  0.092079  0.256410    0.012292      1         1         0      0     0   \n",
       "\n",
       "  documentary drama      ...       top_director      revenue        roi  \\\n",
       "0           0     0      ...                  1  373554033.0  12.451801   \n",
       "1           0     0      ...                  0  262797249.0   4.043035   \n",
       "2           0     1      ...                  0   81452156.0   5.090760   \n",
       "3           0     1      ...                  0  187436818.0   3.123947   \n",
       "4           0     0      ...                  0   64350171.0   1.838576   \n",
       "\n",
       "  success_cat collection_or_not holiday_season labor_day mlk_day summer  \\\n",
       "0         Hit                 1              0         0       0      0   \n",
       "1         Hit                 0              1         0       0      0   \n",
       "2         Hit                 0              1         0       0      0   \n",
       "3  Break Even                 0              1         0       0      0   \n",
       "4  Break Even                 0              1         0       0      0   \n",
       "\n",
       "  valentines_day  \n",
       "0              0  \n",
       "1              0  \n",
       "2              0  \n",
       "3              0  \n",
       "4              0  \n",
       "\n",
       "[5 rows x 34 columns]"
      ]
     },
     "execution_count": 165,
     "metadata": {},
     "output_type": "execute_result"
    }
   ],
   "source": [
    "#Merge scaled features with reg_df\n",
    "reg_df_scaled = scaled_df.join(reg_df.drop(['budget', 'runtime', 'vote_count'],axis=1))\n",
    "reg_df_scaled.head()"
   ]
  },
  {
   "cell_type": "markdown",
   "metadata": {},
   "source": [
    "## Predicting Revenue using Regression"
   ]
  },
  {
   "cell_type": "markdown",
   "metadata": {},
   "source": [
    "### Revenue: Split data into training and test Set"
   ]
  },
  {
   "cell_type": "code",
   "execution_count": 166,
   "metadata": {},
   "outputs": [],
   "source": [
    "#Drop target variables from X\n",
    "X_revenue = reg_df_scaled.drop(['revenue','roi','success_cat'],axis=1)\n",
    "y_revenue = reg_df_scaled['revenue']"
   ]
  },
  {
   "cell_type": "code",
   "execution_count": 167,
   "metadata": {},
   "outputs": [],
   "source": [
    "#Split data into training and testing set\n",
    "X_train_rev,X_test_rev,y_train_rev,y_test_rev = train_test_split(X_revenue,y_revenue,test_size=0.3,random_state=42)"
   ]
  },
  {
   "cell_type": "markdown",
   "metadata": {},
   "source": [
    "### Revenue: Model Development"
   ]
  },
  {
   "cell_type": "markdown",
   "metadata": {},
   "source": [
    "#### Revenue: Linear Regression (Scikit-learn and Statsmodels)"
   ]
  },
  {
   "cell_type": "code",
   "execution_count": 169,
   "metadata": {
    "scrolled": true
   },
   "outputs": [
    {
     "name": "stdout",
     "output_type": "stream",
     "text": [
      "Cross-Validated Training R2: 0.7363253521613823\n",
      "Test R2: 0.7312792366486198\n",
      "Cross-Validated Training RMSE: 7.487291e+15\n",
      "Test RMSE: 8.507597e+07\n",
      "                   Coefficients\n",
      "vote_count         9.182644e+08\n",
      "budget             5.958917e+08\n",
      "runtime            8.026417e+07\n",
      "collection_or_not  5.249123e+07\n",
      "documentary        2.350666e+07\n",
      "top_director       2.310570e+07\n",
      "animation          1.893992e+07\n",
      "family             1.528023e+07\n",
      "romance            1.508722e+07\n",
      "adventure          1.230505e+07\n",
      "summer             1.204162e+07\n",
      "holiday_season     9.751352e+06\n",
      "top_actor          6.350977e+06\n",
      "foreign            6.261949e+06\n",
      "music              2.717883e+06\n",
      "horror             2.581950e+06\n",
      "comedy             2.159774e+06\n",
      "fantasy            7.514884e+05\n",
      "labor_day          4.373724e+05\n",
      "tv_movie          -4.470348e-08\n",
      "drama             -2.189805e+06\n",
      "mlk_day           -4.067252e+06\n",
      "mystery           -4.567445e+06\n",
      "action            -5.960355e+06\n",
      "thriller          -6.749714e+06\n",
      "valentines_day    -7.357746e+06\n",
      "war               -1.037754e+07\n",
      "history           -1.229878e+07\n",
      "crime             -1.300241e+07\n",
      "science_fiction   -2.920384e+07\n",
      "western           -4.003530e+07\n"
     ]
    }
   ],
   "source": [
    "#Initialize Linear Regression\n",
    "linreg_rev = LinearRegression()\n",
    "\n",
    "#Cross-validate on training set\n",
    "cv_R2 = cross_val_score(linreg_rev,X_train_rev,y_train_rev,cv=5)\n",
    "cv_RMSE = cross_val_score(linreg_rev,X_train_rev,y_train_rev,cv=5,scoring='neg_mean_squared_error')\n",
    "\n",
    "#Fit model to training set and predict on test set\n",
    "linreg_rev.fit(X_train_rev,y_train_rev)\n",
    "y_pred = linreg_rev.predict(X_test_rev)\n",
    "\n",
    "print('Cross-Validated Training R2:', np.mean(cv_R2))\n",
    "print('Test R2:', linreg_rev.score(X_test_rev,y_test_rev))\n",
    "print('Cross-Validated Training RMSE:', format(-np.mean(cv_RMSE),'e'))\n",
    "print('Test RMSE:',format(np.sqrt(mean_squared_error(y_test_rev,y_pred)),'e'))\n",
    "\n",
    "#Print out top 5 coefficients from linear regression for revenue\n",
    "print(pd.DataFrame({'Coefficients':linreg_rev.coef_},index=X_train_rev.columns).sort_values(by='Coefficients',\n",
    "                                                                                           ascending=False))"
   ]
  },
  {
   "cell_type": "markdown",
   "metadata": {},
   "source": [
    "#### Using Statsmodels to determine p-value of coefficients"
   ]
  },
  {
   "cell_type": "code",
   "execution_count": 170,
   "metadata": {
    "scrolled": true
   },
   "outputs": [
    {
     "data": {
      "text/html": [
       "<div>\n",
       "<style scoped>\n",
       "    .dataframe tbody tr th:only-of-type {\n",
       "        vertical-align: middle;\n",
       "    }\n",
       "\n",
       "    .dataframe tbody tr th {\n",
       "        vertical-align: top;\n",
       "    }\n",
       "\n",
       "    .dataframe thead th {\n",
       "        text-align: right;\n",
       "    }\n",
       "</style>\n",
       "<table border=\"1\" class=\"dataframe\">\n",
       "  <thead>\n",
       "    <tr style=\"text-align: right;\">\n",
       "      <th></th>\n",
       "      <th>p-value</th>\n",
       "      <th>Coefficient</th>\n",
       "    </tr>\n",
       "  </thead>\n",
       "  <tbody>\n",
       "    <tr>\n",
       "      <th>vote_count</th>\n",
       "      <td>0.000000e+00</td>\n",
       "      <td>9.182644e+08</td>\n",
       "    </tr>\n",
       "    <tr>\n",
       "      <th>budget</th>\n",
       "      <td>8.900170e-203</td>\n",
       "      <td>5.958917e+08</td>\n",
       "    </tr>\n",
       "    <tr>\n",
       "      <th>runtime</th>\n",
       "      <td>1.723400e-03</td>\n",
       "      <td>8.026417e+07</td>\n",
       "    </tr>\n",
       "    <tr>\n",
       "      <th>collection_or_not[T.1]</th>\n",
       "      <td>3.027870e-43</td>\n",
       "      <td>5.249123e+07</td>\n",
       "    </tr>\n",
       "    <tr>\n",
       "      <th>top_director[T.1]</th>\n",
       "      <td>7.263065e-05</td>\n",
       "      <td>2.310570e+07</td>\n",
       "    </tr>\n",
       "    <tr>\n",
       "      <th>animation[T.1]</th>\n",
       "      <td>1.537216e-02</td>\n",
       "      <td>1.893992e+07</td>\n",
       "    </tr>\n",
       "    <tr>\n",
       "      <th>family[T.1]</th>\n",
       "      <td>1.360448e-02</td>\n",
       "      <td>1.528023e+07</td>\n",
       "    </tr>\n",
       "    <tr>\n",
       "      <th>romance[T.1]</th>\n",
       "      <td>1.429503e-04</td>\n",
       "      <td>1.508722e+07</td>\n",
       "    </tr>\n",
       "    <tr>\n",
       "      <th>adventure[T.1]</th>\n",
       "      <td>5.108701e-03</td>\n",
       "      <td>1.230505e+07</td>\n",
       "    </tr>\n",
       "    <tr>\n",
       "      <th>summer[T.1]</th>\n",
       "      <td>6.060047e-04</td>\n",
       "      <td>1.204162e+07</td>\n",
       "    </tr>\n",
       "    <tr>\n",
       "      <th>holiday_season[T.1]</th>\n",
       "      <td>2.098465e-02</td>\n",
       "      <td>9.751352e+06</td>\n",
       "    </tr>\n",
       "    <tr>\n",
       "      <th>tv_movie[T.1]</th>\n",
       "      <td>8.842308e-27</td>\n",
       "      <td>-9.451561e-08</td>\n",
       "    </tr>\n",
       "    <tr>\n",
       "      <th>crime[T.1]</th>\n",
       "      <td>2.829100e-03</td>\n",
       "      <td>-1.300241e+07</td>\n",
       "    </tr>\n",
       "    <tr>\n",
       "      <th>science_fiction[T.1]</th>\n",
       "      <td>1.059497e-09</td>\n",
       "      <td>-2.920384e+07</td>\n",
       "    </tr>\n",
       "    <tr>\n",
       "      <th>western[T.1]</th>\n",
       "      <td>4.071212e-04</td>\n",
       "      <td>-4.003530e+07</td>\n",
       "    </tr>\n",
       "    <tr>\n",
       "      <th>Intercept</th>\n",
       "      <td>3.051765e-08</td>\n",
       "      <td>-4.412305e+07</td>\n",
       "    </tr>\n",
       "  </tbody>\n",
       "</table>\n",
       "</div>"
      ],
      "text/plain": [
       "                              p-value   Coefficient\n",
       "vote_count               0.000000e+00  9.182644e+08\n",
       "budget                  8.900170e-203  5.958917e+08\n",
       "runtime                  1.723400e-03  8.026417e+07\n",
       "collection_or_not[T.1]   3.027870e-43  5.249123e+07\n",
       "top_director[T.1]        7.263065e-05  2.310570e+07\n",
       "animation[T.1]           1.537216e-02  1.893992e+07\n",
       "family[T.1]              1.360448e-02  1.528023e+07\n",
       "romance[T.1]             1.429503e-04  1.508722e+07\n",
       "adventure[T.1]           5.108701e-03  1.230505e+07\n",
       "summer[T.1]              6.060047e-04  1.204162e+07\n",
       "holiday_season[T.1]      2.098465e-02  9.751352e+06\n",
       "tv_movie[T.1]            8.842308e-27 -9.451561e-08\n",
       "crime[T.1]               2.829100e-03 -1.300241e+07\n",
       "science_fiction[T.1]     1.059497e-09 -2.920384e+07\n",
       "western[T.1]             4.071212e-04 -4.003530e+07\n",
       "Intercept                3.051765e-08 -4.412305e+07"
      ]
     },
     "execution_count": 170,
     "metadata": {},
     "output_type": "execute_result"
    }
   ],
   "source": [
    "#Using statsmodels linear regression\n",
    "df = X_train_rev.join(y_train_rev)\n",
    "features = '+'.join(X_train_rev.columns)\n",
    "model = smf.ols(formula='revenue ~ ' + features, data=df)\n",
    "results = model.fit()\n",
    "results_df = results.pvalues.to_frame()\n",
    "results_df.columns = ['p-value']\n",
    "results_df['Coefficient'] = results.params\n",
    "results_df[results_df['p-value']<0.05].sort_values('Coefficient',ascending=False)"
   ]
  },
  {
   "cell_type": "markdown",
   "metadata": {},
   "source": [
    "#### Revenue: kNN Regression"
   ]
  },
  {
   "cell_type": "code",
   "execution_count": 171,
   "metadata": {},
   "outputs": [
    {
     "name": "stdout",
     "output_type": "stream",
     "text": [
      "Training Best Score: 0.5237748320490485\n",
      "Training Best k: {'n_neighbors': 11}\n",
      "Test R2: 0.5566237315486819\n",
      "Test RMSE: 109280459.81129166\n"
     ]
    }
   ],
   "source": [
    "#Initialize KNNRegressor\n",
    "knn = KNeighborsRegressor()\n",
    "\n",
    "#Range of k-values for GridSearchCV\n",
    "param = {'n_neighbors': range(1,31)}\n",
    "\n",
    "#Cross-validate on training set\n",
    "knn_rev = GridSearchCV(knn,param,cv=5,scoring='r2')\n",
    "\n",
    "#Fit model to training set and predict on test set\n",
    "knn_rev.fit(X_train_rev,y_train_rev)\n",
    "y_pred = knn_rev.predict(X_test_rev)\n",
    "\n",
    "print('Training Best Score:', knn_rev.best_score_)\n",
    "print('Training Best k:', knn_rev.best_params_)\n",
    "print('Test R2:', knn_rev.score(X_test_rev,y_test_rev))\n",
    "print('Test RMSE:',np.sqrt(mean_squared_error(y_test_rev,y_pred)))"
   ]
  },
  {
   "cell_type": "markdown",
   "metadata": {},
   "source": [
    "#### Revenue: Random Forest Regression"
   ]
  },
  {
   "cell_type": "code",
   "execution_count": 172,
   "metadata": {
    "scrolled": false
   },
   "outputs": [
    {
     "name": "stdout",
     "output_type": "stream",
     "text": [
      "Cross-Validated Training R2: 0.7718073162576117\n",
      "Test R2: 0.7698637111379205\n",
      "Cross-Validated Training RMSE: 6.510191e+15\n",
      "Test RMSE: 7.873156e+07\n"
     ]
    }
   ],
   "source": [
    "#Initialize RandomForestRegressor\n",
    "rf_rev = RandomForestRegressor(n_estimators=100)\n",
    "\n",
    "#Cross-validate on training set\n",
    "cv_R2 = cross_val_score(rf_rev,X_train_rev,y_train_rev,cv=5)\n",
    "cv_RMSE = cross_val_score(rf_rev,X_train_rev,y_train_rev,cv=5,scoring='neg_mean_squared_error')\n",
    "\n",
    "#Fit model to training set and predict on test set\n",
    "rf_rev.fit(X_train_rev,y_train_rev)\n",
    "y_pred = rf_rev.predict(X_test_rev)\n",
    "\n",
    "print('Cross-Validated Training R2:', np.mean(cv_R2))\n",
    "print('Test R2:', rf_rev.score(X_test_rev,y_test_rev))\n",
    "print('Cross-Validated Training RMSE:', format(-np.mean(cv_RMSE),'e'))\n",
    "print('Test RMSE:', format(np.sqrt(mean_squared_error(y_test_rev,y_pred)),'e'))"
   ]
  },
  {
   "cell_type": "markdown",
   "metadata": {},
   "source": [
    "#### Revenue: Decision Trees"
   ]
  },
  {
   "cell_type": "code",
   "execution_count": 173,
   "metadata": {},
   "outputs": [
    {
     "name": "stdout",
     "output_type": "stream",
     "text": [
      "Training Best R2: 0.7084557864203626\n",
      "Training Best Max Depth: {'max_depth': 5}\n",
      "Test R2: 0.6785247782058126\n",
      "Test RMSE: 93052928.18216676\n"
     ]
    }
   ],
   "source": [
    "#Initialize DecisionTreeRegressor\n",
    "dt = DecisionTreeRegressor()\n",
    "\n",
    "#Range of k-values for GridSearchCV\n",
    "param = {'max_depth': range(1,110)}\n",
    "\n",
    "#Cross-validate on training set\n",
    "dt_rev = GridSearchCV(dt,param,cv=5,scoring='r2')\n",
    "\n",
    "#Fit model to training set and predict on test set\n",
    "dt_rev.fit(X_train_rev,y_train_rev)\n",
    "y_pred = dt_rev.predict(X_test_rev)\n",
    "\n",
    "print('Training Best R2:', dt_rev.best_score_)\n",
    "print('Training Best Max Depth:', dt_rev.best_params_)\n",
    "print('Test R2:', dt_rev.score(X_test_rev,y_test_rev))\n",
    "print('Test RMSE:',np.sqrt(mean_squared_error(y_test_rev,y_pred)))"
   ]
  },
  {
   "cell_type": "markdown",
   "metadata": {},
   "source": [
    "#### Revenue: Gradient Boosting"
   ]
  },
  {
   "cell_type": "code",
   "execution_count": 174,
   "metadata": {
    "scrolled": false
   },
   "outputs": [
    {
     "name": "stdout",
     "output_type": "stream",
     "text": [
      "Cross-Validated Training R2: 0.7625557266094208\n",
      "Test R2: 0.7843083382689627\n",
      "Cross-Validated Training RMSE: 6.755447e+15\n",
      "Test RMSE: 7.622071e+07\n"
     ]
    }
   ],
   "source": [
    "#Initialize GradientBoostingRegressor\n",
    "gb_rev = GradientBoostingRegressor()\n",
    "\n",
    "#Cross-validate on training set\n",
    "cv_R2 = cross_val_score(gb_rev,X_train_rev,y_train_rev,cv=5)\n",
    "cv_RMSE = cross_val_score(gb_rev,X_train_rev,y_train_rev,cv=5,scoring='neg_mean_squared_error')\n",
    "\n",
    "#Fit model to training set and predict on test set\n",
    "gb_rev.fit(X_train_rev,y_train_rev)\n",
    "y_pred = gb_rev.predict(X_test_rev)\n",
    "\n",
    "print('Cross-Validated Training R2:', np.mean(cv_R2))\n",
    "print('Test R2:', gb_rev.score(X_test_rev,y_test_rev))\n",
    "print('Cross-Validated Training RMSE:', format(-np.mean(cv_RMSE),'e'))\n",
    "print('Test RMSE:',format(np.sqrt(mean_squared_error(y_test_rev,y_pred)),'e'))"
   ]
  },
  {
   "cell_type": "markdown",
   "metadata": {},
   "source": [
    "The Random Forest and Gradient Boosting models seem to be the best performers for predicting revenue, based on their training R2 and RMSE values. The Random Forest model appears to be a marginally better performer with slightly better training R2 and RMSE values."
   ]
  },
  {
   "cell_type": "markdown",
   "metadata": {},
   "source": [
    "### Identifying Outliers and High Influence Points on Revenue"
   ]
  },
  {
   "cell_type": "markdown",
   "metadata": {},
   "source": [
    "Identifying outliers and removing high influence points could lead to better and more accurate predictions."
   ]
  },
  {
   "cell_type": "code",
   "execution_count": 175,
   "metadata": {},
   "outputs": [
    {
     "name": "stderr",
     "output_type": "stream",
     "text": [
      "/Users/loonydeepti/anaconda3/lib/python3.6/site-packages/statsmodels/stats/outliers_influence.py:323: RuntimeWarning: invalid value encountered in sqrt\n",
      "  return  self.results.resid / sigma / np.sqrt(1 - hii)\n",
      "/Users/loonydeepti/anaconda3/lib/python3.6/site-packages/scipy/stats/_distn_infrastructure.py:879: RuntimeWarning: invalid value encountered in greater\n",
      "  return (self.a < x) & (x < self.b)\n",
      "/Users/loonydeepti/anaconda3/lib/python3.6/site-packages/scipy/stats/_distn_infrastructure.py:879: RuntimeWarning: invalid value encountered in less\n",
      "  return (self.a < x) & (x < self.b)\n",
      "/Users/loonydeepti/anaconda3/lib/python3.6/site-packages/scipy/stats/_distn_infrastructure.py:1821: RuntimeWarning: invalid value encountered in less_equal\n",
      "  cond2 = cond0 & (x <= self.a)\n"
     ]
    },
    {
     "data": {
      "text/plain": [
       "Text(0.5,1,\"Cook's D\")"
      ]
     },
     "execution_count": 175,
     "metadata": {},
     "output_type": "execute_result"
    },
    {
     "data": {
      "image/png": "[encoded data removed]",
      "text/plain": [
       "<Figure size 432x288 with 1 Axes>"
      ]
     },
     "metadata": {},
     "output_type": "display_data"
    }
   ],
   "source": [
    "#Use statsmodels on ENTIRE dataset to identify influence points for revenue\n",
    "import statsmodels.api as sm\n",
    "\n",
    "sm_y = np.asarray(y_revenue).astype(float)\n",
    "sm_X = np.asarray(X_revenue).astype(float)\n",
    "sm_X = sm.add_constant(sm_X)\n",
    "model = sm.OLS(sm_y,sm_X).fit()\n",
    "\n",
    "#Get influence data\n",
    "influence = model.get_influence()\n",
    "\n",
    "#c is the cook's distance and p is p-value\n",
    "(c, p) = influence.cooks_distance\n",
    "plt.stem(np.arange(len(c)), c, markerfmt=\",\")\n",
    "plt.title('Cook\\'s D')"
   ]
  },
  {
   "cell_type": "markdown",
   "metadata": {},
   "source": [
    "From the plot of Cook's Distance, 1 point appears to have a much higher Cook's distance than the others. Plotting the influence plot was not possible due to an invalid value (probably a Nan). We can determine the index of the outlier and look for missing values in the array of Cook's distance."
   ]
  },
  {
   "cell_type": "code",
   "execution_count": 176,
   "metadata": {
    "scrolled": false
   },
   "outputs": [
    {
     "name": "stdout",
     "output_type": "stream",
     "text": [
      "             0\n",
      "3442  0.214705\n",
      "4564  0.070949\n",
      "584   0.060978\n",
      "1068  0.026291\n",
      "4631  0.025459\n",
      "                 0\n",
      "3637  2.257545e-11\n",
      "3719  1.172467e-11\n",
      "971   6.996232e-12\n",
      "2452  4.562852e-13\n",
      "3133           NaN\n"
     ]
    }
   ],
   "source": [
    "#Look at DataFrame of Cook's Distance values to identify index of outliers.\n",
    "c_df = pd.DataFrame(c)\n",
    "print(c_df.sort_values(0,ascending=False).head())\n",
    "print(c_df.sort_values(0,ascending=False).tail())"
   ]
  },
  {
   "cell_type": "markdown",
   "metadata": {},
   "source": [
    "Index 3442 (Avatar) is identified as the outlier and Index 3133 (Doctor Who) is the movie with a resulting Cook's Distance of NaN."
   ]
  },
  {
   "cell_type": "code",
   "execution_count": 177,
   "metadata": {
    "scrolled": true
   },
   "outputs": [],
   "source": [
    "#Drop 3133 and 3442 from the dataframe. Also drop 'tv_movie' as a column because Index 3133 was the only \n",
    "#tv_movie so the column is now not adding any additional information. This might also be the reason for the Nan Cook's\n",
    "#D value.\n",
    "X_dropped = X_revenue.drop([3442,3133]).drop(['tv_movie'],axis=1)\n",
    "y_rev_dropped = y_revenue.drop([3442,3133])"
   ]
  },
  {
   "cell_type": "markdown",
   "metadata": {},
   "source": [
    "### Revenue: Re-run linear regression, gradient boosting and random forest without outliers."
   ]
  },
  {
   "cell_type": "code",
   "execution_count": 178,
   "metadata": {},
   "outputs": [],
   "source": [
    "#Split data into training and testing set\n",
    "X_train_rev_dropped,X_test_rev_dropped,y_train_rev_dropped,y_test_rev_dropped = train_test_split(X_dropped,\n",
    "                                                                         y_rev_dropped,test_size=0.3,random_state=42)"
   ]
  },
  {
   "cell_type": "markdown",
   "metadata": {},
   "source": [
    "#### Revenue: Linear Regression without Outliers"
   ]
  },
  {
   "cell_type": "code",
   "execution_count": 179,
   "metadata": {
    "scrolled": false
   },
   "outputs": [
    {
     "name": "stdout",
     "output_type": "stream",
     "text": [
      "Cross-Validated Training R2: 0.7430533692354464\n",
      "Test R2: 0.7351381313341564\n",
      "Cross-Validated Training RMSE: 6.841533e+15\n",
      "Test RMSE: 8.380522e+07\n",
      "                   Coefficients\n",
      "vote_count         9.253452e+08\n",
      "budget             5.868043e+08\n",
      "runtime            8.729220e+07\n",
      "collection_or_not  5.378807e+07\n",
      "animation          3.076863e+07\n"
     ]
    }
   ],
   "source": [
    "#Initialize Linear Regression\n",
    "lin_reg = LinearRegression()\n",
    "\n",
    "#Cross-validate on training set\n",
    "cv_R2 = cross_val_score(lin_reg,X_train_rev_dropped,y_train_rev_dropped,cv=5,scoring='r2')\n",
    "cv_RMSE = cross_val_score(lin_reg,X_train_rev_dropped,y_train_rev_dropped,cv=5,\n",
    "                          scoring='neg_mean_squared_error')\n",
    "\n",
    "#Fit model to training set and predict on test set\n",
    "lin_reg.fit(X_train_rev_dropped,y_train_rev_dropped)\n",
    "y_pred = lin_reg.predict(X_test_rev_dropped)\n",
    "\n",
    "print('Cross-Validated Training R2:', np.mean(cv_R2))\n",
    "print('Test R2:', lin_reg.score(X_test_rev_dropped,y_test_rev_dropped))\n",
    "print('Cross-Validated Training RMSE:', format(-np.mean(cv_RMSE),'e'))\n",
    "print('Test RMSE:',format(np.sqrt(mean_squared_error(y_test_rev_dropped,y_pred)),'e'))\n",
    "print(pd.DataFrame({'Coefficients':lin_reg.coef_},index=X_train_rev_dropped.columns).sort_values(by='Coefficients',\n",
    "                                                                                           ascending=False).head(5))"
   ]
  },
  {
   "cell_type": "markdown",
   "metadata": {},
   "source": [
    "#### Revenue: Gradient Boosting Regression without outliers"
   ]
  },
  {
   "cell_type": "code",
   "execution_count": 180,
   "metadata": {
    "scrolled": false
   },
   "outputs": [
    {
     "name": "stdout",
     "output_type": "stream",
     "text": [
      "Cross-Validated Training R2: 0.7780525109147559\n",
      "Test R2: 0.7743104547672752\n",
      "Cross-Validated Training RMSE: 5.997220e+15\n",
      "Test RMSE: 7.736011e+07\n",
      "                   importance\n",
      "vote_count           0.609562\n",
      "budget               0.273113\n",
      "collection_or_not    0.036543\n",
      "family               0.025458\n",
      "runtime              0.019265\n"
     ]
    }
   ],
   "source": [
    "#Initialize GradientBoostingRegressor\n",
    "gb_rev = GradientBoostingRegressor()\n",
    "\n",
    "#Cross-validate on training set\n",
    "cv_R2 = cross_val_score(gb_rev,X_train_rev_dropped,y_train_rev_dropped,cv=5)\n",
    "cv_RMSE = cross_val_score(gb_rev,X_train_rev_dropped,y_train_rev_dropped,cv=5,scoring='neg_mean_squared_error')\n",
    "\n",
    "#Fit model to training set and predict on test set\n",
    "gb_rev.fit(X_train_rev_dropped,y_train_rev_dropped)\n",
    "y_pred = gb_rev.predict(X_test_rev_dropped)\n",
    "\n",
    "print('Cross-Validated Training R2:', np.mean(cv_R2))\n",
    "print('Test R2:', gb_rev.score(X_test_rev_dropped,y_test_rev_dropped))\n",
    "print('Cross-Validated Training RMSE:', format(-np.mean(cv_RMSE),'e'))\n",
    "print('Test RMSE:', format(np.sqrt(mean_squared_error(y_test_rev_dropped,y_pred)),'e'))\n",
    "\n",
    "feature_importances_gb = pd.DataFrame(gb_rev.feature_importances_,\n",
    "                                   index = X_train_rev_dropped.columns,\n",
    "                                    columns=['importance']).sort_values('importance',ascending=False)\n",
    "\n",
    "print(feature_importances_gb.head(5))"
   ]
  },
  {
   "cell_type": "markdown",
   "metadata": {},
   "source": [
    "#### Revenue: Random Forest without outliers"
   ]
  },
  {
   "cell_type": "code",
   "execution_count": 181,
   "metadata": {
    "scrolled": false
   },
   "outputs": [
    {
     "name": "stdout",
     "output_type": "stream",
     "text": [
      "Cross-Validated Training R2: 0.7817509406380472\n",
      "Test R2: 0.7703006670476966\n",
      "Cross-Validated Training RMSE: 5.770964e+15\n",
      "Test RMSE: 7.804430e+07\n",
      "                   importance\n",
      "vote_count           0.579891\n",
      "budget               0.251262\n",
      "runtime              0.047034\n",
      "collection_or_not    0.022404\n",
      "family               0.012923\n"
     ]
    }
   ],
   "source": [
    "#Initialize RandomForestRegressor\n",
    "rf_rev = RandomForestRegressor(n_estimators=100)\n",
    "\n",
    "#Cross-validate on training set\n",
    "cv_R2 = cross_val_score(rf_rev,X_train_rev_dropped,y_train_rev_dropped,cv=5)\n",
    "cv_RMSE = cross_val_score(rf_rev,X_train_rev_dropped,y_train_rev_dropped,cv=5,scoring='neg_mean_squared_error')\n",
    "\n",
    "#Fit model to training set and predict on test set\n",
    "rf_rev.fit(X_train_rev_dropped,y_train_rev_dropped)\n",
    "y_pred = rf_rev.predict(X_test_rev_dropped)\n",
    "\n",
    "print('Cross-Validated Training R2:', np.mean(cv_R2))\n",
    "print('Test R2:', rf_rev.score(X_test_rev_dropped,y_test_rev_dropped))\n",
    "print('Cross-Validated Training RMSE:', format(-np.mean(cv_RMSE),'e'))\n",
    "print('Test RMSE:', format(np.sqrt(mean_squared_error(y_test_rev_dropped,y_pred)),'e'))\n",
    "\n",
    "feature_importances_rf = pd.DataFrame(rf_rev.feature_importances_,\n",
    "                                   index = X_train_rev_dropped.columns,\n",
    "                                    columns=['importance']).sort_values('importance',ascending=False)\n",
    "\n",
    "print(feature_importances_rf.head(5))"
   ]
  },
  {
   "cell_type": "markdown",
   "metadata": {},
   "source": [
    "Without outliers, Random Forest and Gradient Boosting appear to perform better than linear regression, with RF having a slightly higher cross-validated training R2 value and marginally lower cross-validated RMSE value. It should be noted that while Random Forest consistently has a higher R2 value, the RMSE values for both models fluctuate slightly based on the run. Both models are, therefore, likely comparable in terms of predictive capability. \n",
    "\n",
    "Based on the consistently higher R2 value, the Random Forest model is chosen for further feature selection and hyperparameter tuning."
   ]
  },
  {
   "cell_type": "markdown",
   "metadata": {},
   "source": [
    "### Revenue: Feature Selection in Random Forest Model"
   ]
  },
  {
   "cell_type": "code",
   "execution_count": 382,
   "metadata": {
    "scrolled": true
   },
   "outputs": [
    {
     "data": {
      "text/plain": [
       "<matplotlib.axes._subplots.AxesSubplot at 0x11915c9e8>"
      ]
     },
     "execution_count": 382,
     "metadata": {},
     "output_type": "execute_result"
    },
    {
     "data": {
      "image/png": "[encoded data removed]",
      "text/plain": [
       "<Figure size 432x288 with 1 Axes>"
      ]
     },
     "metadata": {},
     "output_type": "display_data"
    }
   ],
   "source": [
    "#Plot the features based on importance determined by RF\n",
    "feature_importances_rf.head(10).plot(kind='barh',title='Top 10 Important Features (RF)')"
   ]
  },
  {
   "cell_type": "markdown",
   "metadata": {
    "scrolled": false
   },
   "source": [
    "The 2 most important features identified by the Random Forest model are vote_count and budget, followed by a severe drop in Gini importance. The correlation matrix identified vote_count, budget, runtime, and vote_average as the top 3 features linearly correlated with revenue. Given the feature importance plot above, how would the Random Forest model perform with just the top 3 features?"
   ]
  },
  {
   "cell_type": "markdown",
   "metadata": {},
   "source": [
    "#### Revenue: Random Forest with just top 3 features (vote_count, budget, runtime)"
   ]
  },
  {
   "cell_type": "code",
   "execution_count": 183,
   "metadata": {},
   "outputs": [
    {
     "name": "stdout",
     "output_type": "stream",
     "text": [
      "Cross-Validated Training R2: 0.7264024543831177\n",
      "Test R2: 0.7136169169751738\n",
      "Cross-Validated Training RMSE: 7.204570e+15\n",
      "Test RMSE: 8.714351e+07\n"
     ]
    }
   ],
   "source": [
    "X_train_select = X_train_rev_dropped[['vote_count','budget','runtime']]\n",
    "X_test_select = X_test_rev_dropped[['vote_count','budget','runtime',]]\n",
    "\n",
    "#Initialize RandomForestRegressor\n",
    "rf_rev = RandomForestRegressor(n_estimators=100)\n",
    "\n",
    "#Cross-validate on training set\n",
    "cv_R2 = cross_val_score(rf_rev,X_train_select,y_train_rev_dropped,cv=5)\n",
    "cv_RMSE = cross_val_score(rf_rev,X_train_select,y_train_rev_dropped,cv=5,scoring='neg_mean_squared_error')\n",
    "\n",
    "#Fit model to training set and predict on test set\n",
    "rf_rev.fit(X_train_select,y_train_rev_dropped)\n",
    "y_pred = rf_rev.predict(X_test_select)\n",
    "\n",
    "print('Cross-Validated Training R2:', np.mean(cv_R2))\n",
    "print('Test R2:', rf_rev.score(X_test_select,y_test_rev_dropped))\n",
    "print('Cross-Validated Training RMSE:', format(-np.mean(cv_RMSE),'e'))\n",
    "print('Test RMSE:', format(np.sqrt(mean_squared_error(y_test_rev_dropped,y_pred)),'e'))"
   ]
  },
  {
   "cell_type": "markdown",
   "metadata": {},
   "source": [
    "Only utilizing the top 3 important features reduces the training R2 from ~0.78 to ~0.73 and increases the training RMSE from ~5.8e15 to ~7e15. Note that the exact values are dependent on the run. This drop in metrics indicates that while the top 4 features explain a lot of the variance in revenue, the other features do have a weaker relationship with revenue and including them improves the performance of our model. This shows that just looking at correlation matrices to determine feature importance is not best practice as correlation matrices only look at linear relationships between independent and dependent variables whereas non-linear models such as Random Forest can determine non-linear relationships that may be impactful as well."
   ]
  },
  {
   "cell_type": "markdown",
   "metadata": {},
   "source": [
    "The Random Forest feature importances plot also shows that top_actor and top_director are less important features, not even featured in the top 10. What if we drop top_actor, top_director, or both and keep all the other features?"
   ]
  },
  {
   "cell_type": "markdown",
   "metadata": {},
   "source": [
    "#### Revenue: Random Forest without top_actor"
   ]
  },
  {
   "cell_type": "code",
   "execution_count": 184,
   "metadata": {},
   "outputs": [
    {
     "name": "stdout",
     "output_type": "stream",
     "text": [
      "Cross-Validated Training R2: 0.781429402993134\n",
      "Test R2: 0.7627469689840927\n",
      "Cross-Validated Training RMSE: 5.866449e+15\n",
      "Test RMSE: 7.931717e+07\n"
     ]
    }
   ],
   "source": [
    "X_train_select = X_train_rev_dropped.drop(['top_actor'],axis=1)\n",
    "X_test_select = X_test_rev_dropped.drop(['top_actor'],axis=1)\n",
    "\n",
    "#Initialize RandomForestRegressor\n",
    "rf_rev = RandomForestRegressor(n_estimators=100)\n",
    "\n",
    "#Cross-validate on training set\n",
    "cv_R2 = cross_val_score(rf_rev,X_train_select,y_train_rev_dropped,cv=5)\n",
    "cv_RMSE = cross_val_score(rf_rev,X_train_select,y_train_rev_dropped,cv=5,scoring='neg_mean_squared_error')\n",
    "\n",
    "#Fit model to training set and predict on test set\n",
    "rf_rev.fit(X_train_select,y_train_rev_dropped)\n",
    "y_pred = rf_rev.predict(X_test_select)\n",
    "\n",
    "print('Cross-Validated Training R2:', np.mean(cv_R2))\n",
    "print('Test R2:', rf_rev.score(X_test_select,y_test_rev_dropped))\n",
    "print('Cross-Validated Training RMSE:', format(-np.mean(cv_RMSE),'e'))\n",
    "print('Test RMSE:', format(np.sqrt(mean_squared_error(y_test_rev_dropped,y_pred)),'e'))"
   ]
  },
  {
   "cell_type": "markdown",
   "metadata": {},
   "source": [
    "#### Revenue: Random Forest without top_actor and top_director"
   ]
  },
  {
   "cell_type": "code",
   "execution_count": 185,
   "metadata": {},
   "outputs": [
    {
     "name": "stdout",
     "output_type": "stream",
     "text": [
      "Cross-Validated Training R2: 0.7803024584330223\n",
      "Test R2: 0.7695024115978943\n",
      "Cross-Validated Training RMSE: 5.832045e+15\n",
      "Test RMSE: 7.817980e+07\n"
     ]
    }
   ],
   "source": [
    "X_train_select = X_train_rev_dropped.drop(['top_actor','top_director'],axis=1)\n",
    "X_test_select = X_test_rev_dropped.drop(['top_actor','top_director'],axis=1)\n",
    "\n",
    "#Initialize RandomForestRegressor\n",
    "rf_rev = RandomForestRegressor(n_estimators=100)\n",
    "\n",
    "#Cross-validate on training set\n",
    "cv_R2 = cross_val_score(rf_rev,X_train_select,y_train_rev_dropped,cv=5)\n",
    "cv_RMSE = cross_val_score(rf_rev,X_train_select,y_train_rev_dropped,cv=5,scoring='neg_mean_squared_error')\n",
    "\n",
    "#Fit model to training set and predict on test set\n",
    "rf_rev.fit(X_train_select,y_train_rev_dropped)\n",
    "y_pred = rf_rev.predict(X_test_select)\n",
    "\n",
    "print('Cross-Validated Training R2:', np.mean(cv_R2))\n",
    "print('Test R2:', rf_rev.score(X_test_select,y_test_rev_dropped))\n",
    "print('Cross-Validated Training RMSE:', format(-np.mean(cv_RMSE),'e'))\n",
    "print('Test RMSE:', format(np.sqrt(mean_squared_error(y_test_rev_dropped,y_pred)),'e'))"
   ]
  },
  {
   "cell_type": "markdown",
   "metadata": {},
   "source": [
    "Dropping both top_actor and top_director results in an R2 value of ~0.78 and an RMSE of 5.74e15 while just dropping top_actor also results in an R2 value of ~0.78 and an RMSE of 5.79e15. Note that the base RF model with all the features also has an R2 of ~0.78 and an RMSE of ~5.8e15. All R2 and RMSE values are cross-validated. \n",
    "\n",
    "The metrics from the different models are all fairly close and run-dependent, to an extent, which makes it difficult to interpret if removing top_actor and top_director has any significant impact on model performance. "
   ]
  },
  {
   "cell_type": "markdown",
   "metadata": {},
   "source": [
    "### Revenue: Tune hyperparameters for final Random Forest Model"
   ]
  },
  {
   "cell_type": "markdown",
   "metadata": {},
   "source": [
    "Use RandomizedSearchCV to narrow down search parameters"
   ]
  },
  {
   "cell_type": "code",
   "execution_count": 249,
   "metadata": {},
   "outputs": [
    {
     "name": "stdout",
     "output_type": "stream",
     "text": [
      "Training R2: 0.7957226641560067\n",
      "Best parameters for model: {'n_estimators': 1555, 'max_features': 'sqrt', 'max_depth': 90}\n",
      "Test R2: 0.7467897496757315\n"
     ]
    }
   ],
   "source": [
    "X_train_select = X_train_rev_dropped.drop(['top_actor','top_director'],axis=1)\n",
    "X_test_select = X_test_rev_dropped.drop(['top_actor','top_director'],axis=1)\n",
    "\n",
    "#Initialize RandomForestRegressor\n",
    "rf_reg = RandomForestRegressor()\n",
    "\n",
    "#Hyperparameters to tune\n",
    "#Number of trees in random forest\n",
    "n_estimators = [int(x) for x in np.linspace(start = 1000, stop = 2000, num = 10)]\n",
    "#Maximum number of features in tree\n",
    "max_features = ['sqrt','auto']\n",
    "# Maximum number of levels in tree\n",
    "max_depth = [int(x) for x in np.linspace(10, 110, num = 11)]\n",
    "\n",
    "#Range of k-values for RandomizedSearchCV\n",
    "param_grid = {'n_estimators': n_estimators,\n",
    "              'max_features':max_features,\n",
    "              'max_depth': max_depth}\n",
    "\n",
    "#Cross-validate on training set\n",
    "rf_reg_rev = RandomizedSearchCV(rf_reg,param_grid,cv=5)\n",
    "\n",
    "#Fit model to training set and predict on test set\n",
    "rf_reg_rev.fit(X_train_select,y_train_rev_dropped)\n",
    "y_pred = rf_reg_rev.predict(X_test_select)\n",
    "\n",
    "print('Training R2:', rf_reg_rev.best_score_)\n",
    "print('Best parameters for model:', rf_reg_rev.best_params_)\n",
    "print('Test R2:', rf_reg_rev.score(X_test_select,y_test_rev_dropped))"
   ]
  },
  {
   "cell_type": "markdown",
   "metadata": {},
   "source": [
    "### Predicting Ratio using Regression"
   ]
  },
  {
   "cell_type": "markdown",
   "metadata": {},
   "source": [
    "### Identifying Outliers and High Influence Points on ROI"
   ]
  },
  {
   "cell_type": "markdown",
   "metadata": {},
   "source": [
    "Since ROI had the most extreme outliers, identifying outliers and removing high influence points will likely lead to better and more accurate predictions."
   ]
  },
  {
   "cell_type": "code",
   "execution_count": 197,
   "metadata": {},
   "outputs": [],
   "source": [
    "#Set x variables and y variable\n",
    "X_ratio = reg_df_scaled.drop(['revenue','success_cat','roi','budget'],axis=1)\n",
    "y_ratio = reg_df_scaled['roi']"
   ]
  },
  {
   "cell_type": "code",
   "execution_count": 198,
   "metadata": {
    "scrolled": true
   },
   "outputs": [
    {
     "data": {
      "text/plain": [
       "Text(0.5,1,\"Cook's D\")"
      ]
     },
     "execution_count": 198,
     "metadata": {},
     "output_type": "execute_result"
    },
    {
     "data": {
      "image/png": "[encoded data removed]",
      "text/plain": [
       "<Figure size 432x288 with 1 Axes>"
      ]
     },
     "metadata": {},
     "output_type": "display_data"
    }
   ],
   "source": [
    "#Use statsmodels on ENTIRE dataset to identify influence points\n",
    "sm_y = np.asarray(y_ratio).astype(float)\n",
    "sm_X = np.asarray(X_ratio).astype(float)\n",
    "sm_X = sm.add_constant(sm_X)\n",
    "model = sm.OLS(sm_y,sm_X).fit()\n",
    "\n",
    "#Get influence data\n",
    "influence = model.get_influence()\n",
    "\n",
    "#c is the cook's distance and p is p-value\n",
    "(c, p) = influence.cooks_distance\n",
    "plt.stem(np.arange(len(c)), c, markerfmt=\",\")\n",
    "plt.title('Cook\\'s D')"
   ]
  },
  {
   "cell_type": "markdown",
   "metadata": {},
   "source": [
    "From the plot of Cook's Distance, there appear to be 2 points that have a much higher Cook's distance than the others. Plotting the influence plot was not possible due to an invalid value (probably a Nan). We can determine the index of the outliers and look for missing values in the array of Cook's distance."
   ]
  },
  {
   "cell_type": "code",
   "execution_count": 200,
   "metadata": {
    "scrolled": true
   },
   "outputs": [
    {
     "name": "stdout",
     "output_type": "stream",
     "text": [
      "             0\n",
      "3383  0.807380\n",
      "979   0.090063\n",
      "3133  0.011536\n",
      "2305  0.006011\n",
      "1529  0.001491\n",
      "                 0\n",
      "1720  9.953661e-13\n",
      "1597  7.761199e-13\n",
      "4773  5.299191e-13\n",
      "1911  4.394737e-13\n",
      "4387  3.928994e-13\n"
     ]
    }
   ],
   "source": [
    "c_df = pd.DataFrame(c)\n",
    "print(c_df.sort_values(0,ascending=False).head())\n",
    "print(c_df.sort_values(0,ascending=False).tail())"
   ]
  },
  {
   "cell_type": "markdown",
   "metadata": {},
   "source": [
    "Index 3383 and 979 (Paranormal Activity and Blair Witch's Project, respectively) have the highest Cook's distances. These were also the points identified as outliers in the ROI boxplot. These 3 points will be removed from the analysis."
   ]
  },
  {
   "cell_type": "markdown",
   "metadata": {},
   "source": [
    "### ROI: Drop outliers and split data into training and test set"
   ]
  },
  {
   "cell_type": "code",
   "execution_count": 201,
   "metadata": {},
   "outputs": [],
   "source": [
    "#Set x variables and y variable. Drop tv_movie column because Doctor Who (3133) was the only tv_movie in the dataset.\n",
    "X_ratio_dropped = X_ratio.drop([3133,3383,979]).drop(['tv_movie'],axis=1)\n",
    "y_ratio_dropped = y_ratio.drop([3133,3383,979])"
   ]
  },
  {
   "cell_type": "code",
   "execution_count": 202,
   "metadata": {},
   "outputs": [],
   "source": [
    "#Split data into training and testing set\n",
    "X_train_roi,X_test_roi,y_train_roi,y_test_roi = train_test_split(X_ratio_dropped,y_ratio_dropped,\n",
    "                                                                 test_size=0.3,random_state=42)"
   ]
  },
  {
   "cell_type": "markdown",
   "metadata": {},
   "source": [
    "### ROI: Model Development"
   ]
  },
  {
   "cell_type": "markdown",
   "metadata": {},
   "source": [
    "#### ROI: Linear Regression (Scikit-Learn and Statsmodels)"
   ]
  },
  {
   "cell_type": "code",
   "execution_count": 203,
   "metadata": {
    "scrolled": true
   },
   "outputs": [
    {
     "name": "stdout",
     "output_type": "stream",
     "text": [
      "Training R2: 0.00552616355097213\n",
      "Test R2: 0.027052666948578996\n",
      "Training RMSE: 411.5860967422732\n",
      "Test RMSE: 21.910726298916256\n",
      "                   Coefficients\n",
      "vote_count            12.373658\n",
      "documentary            3.616838\n",
      "collection_or_not      3.609523\n",
      "horror                 3.543667\n",
      "summer                 1.081200\n"
     ]
    }
   ],
   "source": [
    "#Initialize Linear Regression\n",
    "lin_reg = LinearRegression()\n",
    "\n",
    "#Cross-validate on training set\n",
    "cv_R2 = cross_val_score(lin_reg,X_train_roi,y_train_roi,cv=5,scoring='r2')\n",
    "cv_RMSE = cross_val_score(lin_reg,X_train_roi,y_train_roi,cv=5,scoring='neg_mean_squared_error')\n",
    "\n",
    "#Fit model to training set and predict on test set\n",
    "lin_reg.fit(X_train_roi,y_train_roi)\n",
    "y_pred = lin_reg.predict(X_test_roi)\n",
    "\n",
    "print('Training R2:', np.mean(cv_R2))\n",
    "print('Test R2:', lin_reg.score(X_test_roi,y_test_roi))\n",
    "print('Training RMSE:', -np.mean(cv_RMSE))\n",
    "print('Test RMSE:',np.sqrt(mean_squared_error(y_test_roi,y_pred)))\n",
    "print(pd.DataFrame({'Coefficients':lin_reg.coef_},index=X_train_roi.columns).sort_values(by='Coefficients',\n",
    "                                                                                           ascending=False).head())"
   ]
  },
  {
   "cell_type": "code",
   "execution_count": 205,
   "metadata": {
    "scrolled": true
   },
   "outputs": [
    {
     "data": {
      "text/html": [
       "<div>\n",
       "<style scoped>\n",
       "    .dataframe tbody tr th:only-of-type {\n",
       "        vertical-align: middle;\n",
       "    }\n",
       "\n",
       "    .dataframe tbody tr th {\n",
       "        vertical-align: top;\n",
       "    }\n",
       "\n",
       "    .dataframe thead th {\n",
       "        text-align: right;\n",
       "    }\n",
       "</style>\n",
       "<table border=\"1\" class=\"dataframe\">\n",
       "  <thead>\n",
       "    <tr style=\"text-align: right;\">\n",
       "      <th></th>\n",
       "      <th>p-value</th>\n",
       "      <th>Coefficient</th>\n",
       "    </tr>\n",
       "  </thead>\n",
       "  <tbody>\n",
       "    <tr>\n",
       "      <th>vote_count</th>\n",
       "      <td>4.010111e-03</td>\n",
       "      <td>12.373658</td>\n",
       "    </tr>\n",
       "    <tr>\n",
       "      <th>Intercept</th>\n",
       "      <td>1.893805e-07</td>\n",
       "      <td>9.673624</td>\n",
       "    </tr>\n",
       "    <tr>\n",
       "      <th>collection_or_not[T.1]</th>\n",
       "      <td>4.296736e-05</td>\n",
       "      <td>3.609523</td>\n",
       "    </tr>\n",
       "    <tr>\n",
       "      <th>horror[T.1]</th>\n",
       "      <td>4.292961e-03</td>\n",
       "      <td>3.543667</td>\n",
       "    </tr>\n",
       "    <tr>\n",
       "      <th>top_actor[T.1]</th>\n",
       "      <td>3.683868e-02</td>\n",
       "      <td>-2.212816</td>\n",
       "    </tr>\n",
       "    <tr>\n",
       "      <th>comedy[T.1]</th>\n",
       "      <td>6.859989e-03</td>\n",
       "      <td>-2.347659</td>\n",
       "    </tr>\n",
       "    <tr>\n",
       "      <th>science_fiction[T.1]</th>\n",
       "      <td>1.640227e-02</td>\n",
       "      <td>-2.707022</td>\n",
       "    </tr>\n",
       "    <tr>\n",
       "      <th>runtime</th>\n",
       "      <td>1.360608e-02</td>\n",
       "      <td>-14.419102</td>\n",
       "    </tr>\n",
       "  </tbody>\n",
       "</table>\n",
       "</div>"
      ],
      "text/plain": [
       "                             p-value  Coefficient\n",
       "vote_count              4.010111e-03    12.373658\n",
       "Intercept               1.893805e-07     9.673624\n",
       "collection_or_not[T.1]  4.296736e-05     3.609523\n",
       "horror[T.1]             4.292961e-03     3.543667\n",
       "top_actor[T.1]          3.683868e-02    -2.212816\n",
       "comedy[T.1]             6.859989e-03    -2.347659\n",
       "science_fiction[T.1]    1.640227e-02    -2.707022\n",
       "runtime                 1.360608e-02   -14.419102"
      ]
     },
     "execution_count": 205,
     "metadata": {},
     "output_type": "execute_result"
    }
   ],
   "source": [
    "df = X_train_roi.join(y_train_roi)\n",
    "features = '+'.join(X_train_roi.columns)\n",
    "model = smf.ols(formula='roi ~ ' + features, data=df)\n",
    "results = model.fit()\n",
    "results_df = results.pvalues.to_frame()\n",
    "results_df.columns = ['p-value']\n",
    "results_df['Coefficient'] = results.params\n",
    "results_df[results_df['p-value']<0.05].sort_values('Coefficient',ascending=False)"
   ]
  },
  {
   "cell_type": "markdown",
   "metadata": {},
   "source": [
    "The training R2 value is extremely low (~0) and the RMSE is fairly high at 407. The values also fluctuate significantly based on the random_state variable used to split the training and test data. Since the distribution of ROI is highly skewed, log-transformation of the target variable could result in better predictions."
   ]
  },
  {
   "cell_type": "markdown",
   "metadata": {},
   "source": [
    "#### ROI: Log Transformation of ROI"
   ]
  },
  {
   "cell_type": "code",
   "execution_count": 206,
   "metadata": {},
   "outputs": [],
   "source": [
    "#Log transformation of the target variable in the training and test set\n",
    "y_train_roi_log = np.log(y_train_roi)\n",
    "y_test_roi_log = np.log(y_test_roi)"
   ]
  },
  {
   "cell_type": "markdown",
   "metadata": {},
   "source": [
    "#### ROI: Linear Regression after log transformation of target"
   ]
  },
  {
   "cell_type": "code",
   "execution_count": 207,
   "metadata": {
    "scrolled": false
   },
   "outputs": [
    {
     "name": "stdout",
     "output_type": "stream",
     "text": [
      "Training R2 for log ROI: 0.1327839536430945\n",
      "Test R2 for log ROI: 0.14206345682355115\n",
      "Training RMSE: 2.3873497565831663\n",
      "Test RMSE: 1.521275603720474\n"
     ]
    }
   ],
   "source": [
    "#Initialize Linear Regression\n",
    "lin_reg = LinearRegression()\n",
    "\n",
    "#Cross-validate on training set\n",
    "cv_R2 = cross_val_score(lin_reg,X_train_roi,y_train_roi_log,cv=5,scoring='r2')\n",
    "cv_RMSE = cross_val_score(lin_reg,X_train_roi,y_train_roi_log,cv=5,scoring='neg_mean_squared_error')\n",
    "\n",
    "#Fit model to training set and predict on test set\n",
    "lin_reg.fit(X_train_roi,y_train_roi_log)\n",
    "y_pred = lin_reg.predict(X_test_roi)\n",
    "\n",
    "print('Training R2 for log ROI:', np.mean(cv_R2))\n",
    "print('Test R2 for log ROI:', lin_reg.score(X_test_roi,y_test_roi_log))\n",
    "print('Training RMSE:', -np.mean(cv_RMSE))\n",
    "print('Test RMSE:',np.sqrt(mean_squared_error(y_test_roi_log,y_pred)))"
   ]
  },
  {
   "cell_type": "code",
   "execution_count": 209,
   "metadata": {
    "scrolled": true
   },
   "outputs": [
    {
     "data": {
      "text/html": [
       "<div>\n",
       "<style scoped>\n",
       "    .dataframe tbody tr th:only-of-type {\n",
       "        vertical-align: middle;\n",
       "    }\n",
       "\n",
       "    .dataframe tbody tr th {\n",
       "        vertical-align: top;\n",
       "    }\n",
       "\n",
       "    .dataframe thead th {\n",
       "        text-align: right;\n",
       "    }\n",
       "</style>\n",
       "<table border=\"1\" class=\"dataframe\">\n",
       "  <thead>\n",
       "    <tr style=\"text-align: right;\">\n",
       "      <th></th>\n",
       "      <th>p-value</th>\n",
       "      <th>Coefficient</th>\n",
       "    </tr>\n",
       "  </thead>\n",
       "  <tbody>\n",
       "    <tr>\n",
       "      <th>vote_count</th>\n",
       "      <td>3.329324e-37</td>\n",
       "      <td>4.208542</td>\n",
       "    </tr>\n",
       "    <tr>\n",
       "      <th>runtime</th>\n",
       "      <td>2.719060e-04</td>\n",
       "      <td>1.617219</td>\n",
       "    </tr>\n",
       "    <tr>\n",
       "      <th>collection_or_not[T.1]</th>\n",
       "      <td>1.382349e-33</td>\n",
       "      <td>0.816894</td>\n",
       "    </tr>\n",
       "    <tr>\n",
       "      <th>horror[T.1]</th>\n",
       "      <td>1.669990e-03</td>\n",
       "      <td>0.296393</td>\n",
       "    </tr>\n",
       "    <tr>\n",
       "      <th>romance[T.1]</th>\n",
       "      <td>1.108826e-03</td>\n",
       "      <td>0.233455</td>\n",
       "    </tr>\n",
       "    <tr>\n",
       "      <th>holiday_season[T.1]</th>\n",
       "      <td>2.087523e-03</td>\n",
       "      <td>0.233238</td>\n",
       "    </tr>\n",
       "    <tr>\n",
       "      <th>summer[T.1]</th>\n",
       "      <td>1.350536e-02</td>\n",
       "      <td>0.156944</td>\n",
       "    </tr>\n",
       "    <tr>\n",
       "      <th>drama[T.1]</th>\n",
       "      <td>3.009840e-02</td>\n",
       "      <td>-0.139072</td>\n",
       "    </tr>\n",
       "    <tr>\n",
       "      <th>fantasy[T.1]</th>\n",
       "      <td>1.673785e-03</td>\n",
       "      <td>-0.295073</td>\n",
       "    </tr>\n",
       "    <tr>\n",
       "      <th>science_fiction[T.1]</th>\n",
       "      <td>3.894025e-04</td>\n",
       "      <td>-0.304148</td>\n",
       "    </tr>\n",
       "    <tr>\n",
       "      <th>Intercept</th>\n",
       "      <td>2.778135e-02</td>\n",
       "      <td>-0.309968</td>\n",
       "    </tr>\n",
       "    <tr>\n",
       "      <th>labor_day[T.1]</th>\n",
       "      <td>1.807396e-03</td>\n",
       "      <td>-0.494403</td>\n",
       "    </tr>\n",
       "    <tr>\n",
       "      <th>foreign[T.1]</th>\n",
       "      <td>1.261279e-02</td>\n",
       "      <td>-0.913386</td>\n",
       "    </tr>\n",
       "  </tbody>\n",
       "</table>\n",
       "</div>"
      ],
      "text/plain": [
       "                             p-value  Coefficient\n",
       "vote_count              3.329324e-37     4.208542\n",
       "runtime                 2.719060e-04     1.617219\n",
       "collection_or_not[T.1]  1.382349e-33     0.816894\n",
       "horror[T.1]             1.669990e-03     0.296393\n",
       "romance[T.1]            1.108826e-03     0.233455\n",
       "holiday_season[T.1]     2.087523e-03     0.233238\n",
       "summer[T.1]             1.350536e-02     0.156944\n",
       "drama[T.1]              3.009840e-02    -0.139072\n",
       "fantasy[T.1]            1.673785e-03    -0.295073\n",
       "science_fiction[T.1]    3.894025e-04    -0.304148\n",
       "Intercept               2.778135e-02    -0.309968\n",
       "labor_day[T.1]          1.807396e-03    -0.494403\n",
       "foreign[T.1]            1.261279e-02    -0.913386"
      ]
     },
     "execution_count": 209,
     "metadata": {},
     "output_type": "execute_result"
    }
   ],
   "source": [
    "#Using statsmodels\n",
    "df = X_train_roi.join(y_train_roi_log)\n",
    "features = '+'.join(X_train_roi.columns)\n",
    "model = smf.ols(formula='roi ~ ' + features, data=df)\n",
    "\n",
    "#Fit model\n",
    "results = model.fit()\n",
    "\n",
    "#Save coefficients and p-values in dataframe\n",
    "results_df = results.pvalues.to_frame()\n",
    "results_df.columns = ['p-value']\n",
    "results_df['Coefficient'] = results.params\n",
    "\n",
    "#Print significant coefficients\n",
    "results_df[results_df['p-value']<0.05].sort_values('Coefficient',ascending=False)"
   ]
  },
  {
   "cell_type": "markdown",
   "metadata": {},
   "source": [
    "The Training and Testing R2 values have improved significantly after the log transformation and are now much less dependent on the random_state. R2 is still low (~0.19) but the model appears to be stable. Also note the low training RMSE value."
   ]
  },
  {
   "cell_type": "markdown",
   "metadata": {},
   "source": [
    "#### log(ROI): Random Forest"
   ]
  },
  {
   "cell_type": "code",
   "execution_count": 210,
   "metadata": {
    "scrolled": false
   },
   "outputs": [
    {
     "name": "stdout",
     "output_type": "stream",
     "text": [
      "Cross-Validated Training R2: 0.1437276196372955\n",
      "Test R2: 0.15141103258892674\n",
      "Cross-Validated Training RMSE: 2.3840892518158814\n",
      "Test RMSE: 1.5129654405775093\n",
      "                   importance\n",
      "vote_count           0.382683\n",
      "runtime              0.217206\n",
      "collection_or_not    0.040869\n",
      "drama                0.026136\n",
      "action               0.025446\n",
      "comedy               0.024915\n",
      "summer               0.023948\n",
      "romance              0.023271\n",
      "thriller             0.021122\n",
      "crime                0.017427\n",
      "horror               0.017118\n",
      "holiday_season       0.016737\n",
      "science_fiction      0.015829\n",
      "top_actor            0.014582\n",
      "adventure            0.013952\n",
      "mystery              0.013731\n",
      "fantasy              0.013104\n",
      "labor_day            0.012857\n",
      "valentines_day       0.009780\n",
      "war                  0.009359\n",
      "family               0.008573\n",
      "history              0.008263\n",
      "music                0.008193\n",
      "mlk_day              0.007560\n",
      "western              0.006787\n",
      "documentary          0.005898\n",
      "top_director         0.005738\n",
      "foreign              0.004524\n",
      "animation            0.004392\n"
     ]
    }
   ],
   "source": [
    "#Initialize RandomForestRegressor\n",
    "rf_roi = RandomForestRegressor(n_estimators=100)\n",
    "\n",
    "#Cross-validate on training set\n",
    "cv_R2 = cross_val_score(rf_roi, X_train_roi, y_train_roi_log,cv=5)\n",
    "cv_RMSE = cross_val_score(rf_roi ,X_train_roi, y_train_roi_log,cv=5,scoring='neg_mean_squared_error')\n",
    "\n",
    "#Fit model to training set and predict on test set\n",
    "rf_roi.fit(X_train_roi,y_train_roi_log)\n",
    "y_pred = rf_roi.predict(X_test_roi)\n",
    "\n",
    "print('Cross-Validated Training R2:', np.mean(cv_R2))\n",
    "print('Test R2:', rf_roi.score(X_test_roi,y_test_roi_log))\n",
    "print('Cross-Validated Training RMSE:', -np.mean(cv_RMSE))\n",
    "print('Test RMSE:',np.sqrt(mean_squared_error(y_test_roi_log,y_pred)))\n",
    "\n",
    "feature_importances_rf_roi = pd.DataFrame(rf_roi.feature_importances_,\n",
    "                                   index = X_train_roi.columns,\n",
    "                                    columns=['importance']).sort_values('importance',ascending=False)\n",
    "\n",
    "print(feature_importances_rf_roi)"
   ]
  },
  {
   "cell_type": "markdown",
   "metadata": {},
   "source": [
    "#### log(ROI): Decision Tree"
   ]
  },
  {
   "cell_type": "code",
   "execution_count": 211,
   "metadata": {},
   "outputs": [
    {
     "name": "stdout",
     "output_type": "stream",
     "text": [
      "Training Best R2: 0.1775031780595592\n",
      "Training Best Max Depth: {'max_depth': 4}\n",
      "Test R2: 0.15251455577924167\n",
      "Test RMSE: 1.5119813742859443\n"
     ]
    }
   ],
   "source": [
    "#Initialize DecisionTreeRegressor\n",
    "dt_roi = DecisionTreeRegressor()\n",
    "\n",
    "#Range of k-values for GridSearchCV\n",
    "param = {'max_depth': range(1,110)}\n",
    "\n",
    "#Cross-validate on training set\n",
    "dt_roi = GridSearchCV(dt_roi,param,cv=5,scoring='r2')\n",
    "\n",
    "#Fit model to training set and predict on test set\n",
    "dt_roi.fit(X_train_roi,y_train_roi_log)\n",
    "y_pred = dt_roi.predict(X_test_roi)\n",
    "\n",
    "print('Training Best R2:', dt_roi.best_score_)\n",
    "print('Training Best Max Depth:', dt_roi.best_params_)\n",
    "print('Test R2:', dt_roi.score(X_test_roi,y_test_roi_log))\n",
    "print('Test RMSE:',np.sqrt(mean_squared_error(y_test_roi_log,y_pred)))"
   ]
  },
  {
   "cell_type": "markdown",
   "metadata": {},
   "source": [
    "#### log(ROI): SVM (Linear)"
   ]
  },
  {
   "cell_type": "code",
   "execution_count": 212,
   "metadata": {},
   "outputs": [
    {
     "name": "stdout",
     "output_type": "stream",
     "text": [
      "Cross-Validated Training R2: 0.11477701312550834\n",
      "Test R2: 0.11477215315400091\n",
      "Cross-Validated Training RMSE: 2.4369439088829545\n",
      "Test RMSE: 1.5452823739831814\n"
     ]
    }
   ],
   "source": [
    "#Initialize SVR\n",
    "svr = SVR(kernel='linear')\n",
    "\n",
    "#Cross-validate on training set\n",
    "cv_R2 = cross_val_score(svr,X_train_roi,y_train_roi_log,cv=5,scoring='r2')\n",
    "cv_RMSE = cross_val_score(svr,X_train_roi,y_train_roi_log,cv=5,scoring='neg_mean_squared_error')\n",
    "\n",
    "#Fit model to training set and predict on test set\n",
    "svr.fit(X_train_roi,y_train_roi_log)\n",
    "y_pred = svr.predict(X_test_roi)\n",
    "\n",
    "print('Cross-Validated Training R2:', np.mean(cv_R2))\n",
    "print('Test R2:', svr.score(X_test_roi,y_test_roi_log))\n",
    "print('Cross-Validated Training RMSE:', -np.mean(cv_RMSE))\n",
    "print('Test RMSE:',np.sqrt(mean_squared_error(y_test_roi_log,y_pred)))"
   ]
  },
  {
   "cell_type": "markdown",
   "metadata": {},
   "source": [
    "#### log(ROI): SVM (Non-Linear)"
   ]
  },
  {
   "cell_type": "code",
   "execution_count": 213,
   "metadata": {
    "scrolled": true
   },
   "outputs": [
    {
     "name": "stdout",
     "output_type": "stream",
     "text": [
      "Cross-Validated Training R2: 0.10632366911773425\n",
      "Test R2: 0.10769873916057227\n",
      "Cross-Validated Training RMSE: 2.460325676344779\n",
      "Test RMSE: 1.551443880267971\n"
     ]
    }
   ],
   "source": [
    "#Initialize SVR\n",
    "svr = SVR(kernel='rbf',gamma='auto')\n",
    "\n",
    "#Cross-validate on training set\n",
    "cv_R2 = cross_val_score(svr,X_train_roi,y_train_roi_log,cv=5,scoring='r2')\n",
    "cv_RMSE = cross_val_score(svr,X_train_roi,y_train_roi_log,cv=5,scoring='neg_mean_squared_error')\n",
    "\n",
    "#Fit model to training set and predict on test set\n",
    "svr.fit(X_train_roi,y_train_roi_log)\n",
    "y_pred = svr.predict(X_test_roi)\n",
    "\n",
    "print('Cross-Validated Training R2:', np.mean(cv_R2))\n",
    "print('Test R2:', svr.score(X_test_roi,y_test_roi_log))\n",
    "print('Cross-Validated Training RMSE:', -np.mean(cv_RMSE))\n",
    "print('Test RMSE:',np.sqrt(mean_squared_error(y_test_roi_log,y_pred)))"
   ]
  },
  {
   "cell_type": "markdown",
   "metadata": {},
   "source": [
    "#### log(ROI): Gradient Boosting"
   ]
  },
  {
   "cell_type": "code",
   "execution_count": 214,
   "metadata": {
    "scrolled": true
   },
   "outputs": [
    {
     "name": "stdout",
     "output_type": "stream",
     "text": [
      "Cross-Validated Training R2: 0.20167850964713505\n",
      "Test R2: 0.19330564172135845\n",
      "Cross-Validated Training RMSE: 2.1923257301428287\n",
      "Test RMSE: 1.4751453925928433\n"
     ]
    }
   ],
   "source": [
    "#Initialize GradientBoostingRegressor\n",
    "gb_roi = GradientBoostingRegressor()\n",
    "\n",
    "#Cross-validate on training set\n",
    "cv_R2 = cross_val_score(gb_roi,X_train_roi,y_train_roi_log,cv=5)\n",
    "cv_RMSE = cross_val_score(gb_roi,X_train_roi,y_train_roi_log,cv=5,scoring='neg_mean_squared_error')\n",
    "\n",
    "#Fit model to training set and predict on test set\n",
    "gb_roi.fit(X_train_roi,y_train_roi_log)\n",
    "y_pred = gb_roi.predict(X_test_roi)\n",
    "\n",
    "print('Cross-Validated Training R2:', np.mean(cv_R2))\n",
    "print('Test R2:', gb_roi.score(X_test_roi,y_test_roi_log))\n",
    "print('Cross-Validated Training RMSE:', -np.mean(cv_RMSE))\n",
    "print('Test RMSE:',np.sqrt(mean_squared_error(y_test_roi_log,y_pred)))\n",
    "\n",
    "feature_importances_gb_roi = pd.DataFrame(gb_roi.feature_importances_,\n",
    "                                   index = X_train_roi.columns,\n",
    "                                    columns=['importance']).sort_values('importance',ascending=False)"
   ]
  },
  {
   "cell_type": "markdown",
   "metadata": {},
   "source": [
    "Gradient Boosting outperforms all other models based on the cross-validated training R2 and cross-validated training RMSE. This model is selected for further feature selection and hyperparameter tuning."
   ]
  },
  {
   "cell_type": "markdown",
   "metadata": {},
   "source": [
    "### ROI: Feature Selection in Gradient Boosting"
   ]
  },
  {
   "cell_type": "code",
   "execution_count": 383,
   "metadata": {
    "scrolled": false
   },
   "outputs": [
    {
     "data": {
      "text/plain": [
       "<matplotlib.axes._subplots.AxesSubplot at 0x1131d9518>"
      ]
     },
     "execution_count": 383,
     "metadata": {},
     "output_type": "execute_result"
    },
    {
     "data": {
      "image/png": "[encoded data removed]",
      "text/plain": [
       "<Figure size 432x288 with 1 Axes>"
      ]
     },
     "metadata": {},
     "output_type": "display_data"
    }
   ],
   "source": [
    "#Plot of feature importance\n",
    "feature_importances_gb_roi.head(10).plot(kind='barh',title = 'Feature Importance for log(ROI) (GB)')"
   ]
  },
  {
   "cell_type": "markdown",
   "metadata": {},
   "source": [
    "Since top_director is identified as pretty unimportant important feature by the Gradient Boosting model, we can test how the model will respond to the removal of this feature."
   ]
  },
  {
   "cell_type": "code",
   "execution_count": 216,
   "metadata": {
    "scrolled": true
   },
   "outputs": [
    {
     "name": "stdout",
     "output_type": "stream",
     "text": [
      "Cross-Validated Training R2: 0.19775507210166993\n",
      "Test R2: 0.19709487559635308\n",
      "Cross-Validated Training RMSE: 2.206675494118063\n",
      "Test RMSE: 1.4716767614455801\n"
     ]
    }
   ],
   "source": [
    "#Drop top_director from X\n",
    "X_train_select_roi = X_train_roi.drop(['top_director'],axis=1)\n",
    "X_test_select_roi = X_test_roi.drop(['top_director'],axis=1)\n",
    "\n",
    "#Initialize GradientBoostingRegressor\n",
    "gb_roi = GradientBoostingRegressor()\n",
    "\n",
    "#Cross-validate on training set\n",
    "cv_R2 = cross_val_score(gb_roi,X_train_select_roi,y_train_roi_log,cv=5)\n",
    "cv_RMSE = cross_val_score(gb_roi,X_train_select_roi,y_train_roi_log,cv=5,scoring='neg_mean_squared_error')\n",
    "\n",
    "#Fit model to training set and predict on test set\n",
    "gb_roi.fit(X_train_select_roi,y_train_roi_log)\n",
    "y_pred = gb_roi.predict(X_test_select_roi)\n",
    "\n",
    "print('Cross-Validated Training R2:', np.mean(cv_R2))\n",
    "print('Test R2:', gb_roi.score(X_test_select_roi,y_test_roi_log))\n",
    "print('Cross-Validated Training RMSE:', -np.mean(cv_RMSE))\n",
    "print('Test RMSE:',np.sqrt(mean_squared_error(y_test_roi_log,y_pred)))"
   ]
  },
  {
   "cell_type": "markdown",
   "metadata": {},
   "source": [
    "Removing top_director as a feature results in worse training R2 and RMSE values so we won't drop it from our dataframe. What if we remove top_actor?"
   ]
  },
  {
   "cell_type": "code",
   "execution_count": 217,
   "metadata": {
    "scrolled": true
   },
   "outputs": [
    {
     "name": "stdout",
     "output_type": "stream",
     "text": [
      "Cross-Validated Training R2: 0.19901237927662252\n",
      "Test R2: 0.1963381224838513\n",
      "Cross-Validated Training RMSE: 2.203282001977241\n",
      "Test RMSE: 1.4723701395544921\n"
     ]
    }
   ],
   "source": [
    "#Drop top_actor and top_director from X\n",
    "X_train_select_roi = X_train_roi.drop(['top_actor'],axis=1)\n",
    "X_test_select_roi = X_test_roi.drop(['top_actor'],axis=1)\n",
    "\n",
    "#Initialize GradientBoostingRegressor\n",
    "gb_roi = GradientBoostingRegressor()\n",
    "\n",
    "#Cross-validate on training set\n",
    "cv_R2 = cross_val_score(gb_roi,X_train_select_roi,y_train_roi_log,cv=5)\n",
    "cv_RMSE = cross_val_score(gb_roi,X_train_select_roi,y_train_roi_log,cv=5,scoring='neg_mean_squared_error')\n",
    "\n",
    "#Fit model to training set and predict on test set\n",
    "gb_roi.fit(X_train_select_roi,y_train_roi_log)\n",
    "y_pred = gb_roi.predict(X_test_select_roi)\n",
    "\n",
    "print('Cross-Validated Training R2:', np.mean(cv_R2))\n",
    "print('Test R2:', gb_roi.score(X_test_select_roi,y_test_roi_log))\n",
    "print('Cross-Validated Training RMSE:', -np.mean(cv_RMSE))\n",
    "print('Test RMSE:',np.sqrt(mean_squared_error(y_test_roi_log,y_pred)))"
   ]
  },
  {
   "cell_type": "markdown",
   "metadata": {},
   "source": [
    "Removing top_actor does seem to negatively affect model performance with the training R2 decreasing slightly and the training RMSE increasing slightly. Therefore, we will not remove top_actor or top_director from our model."
   ]
  },
  {
   "cell_type": "markdown",
   "metadata": {},
   "source": [
    "### ROI: Tune hyperparameters for gradient boosting model"
   ]
  },
  {
   "cell_type": "code",
   "execution_count": 219,
   "metadata": {
    "scrolled": true
   },
   "outputs": [
    {
     "name": "stdout",
     "output_type": "stream",
     "text": [
      "Best Training R2: 0.20915795911375504\n",
      "Best parameters for model: {'n_estimators': 100, 'max_depth': 2, 'learning_rate': 0.1}\n",
      "Test R2: 0.19195703272705456\n"
     ]
    }
   ],
   "source": [
    "#Initialize GradientBoostingRegressor\n",
    "gb_roi = GradientBoostingRegressor()\n",
    "\n",
    "#Hyperparameters to tune\n",
    "#Number of trees in random forest\n",
    "n_estimators = [100,250,500,750,1000,1250,1500,1750]\n",
    "#Maximum number of features in tree\n",
    "learning_rate = [0.15,0.1,0.05,0.01,0.005,0.001]\n",
    "# Maximum number of levels in tree\n",
    "max_depth = [2,3,4,5,6,7]\n",
    "\n",
    "#Range of k-values for RandomizedSearchCV\n",
    "param_grid = {'n_estimators': n_estimators,\n",
    "              'learning_rate': learning_rate,\n",
    "              'max_depth': max_depth}\n",
    "\n",
    "#Cross-validate on training set\n",
    "gb_roi_cv = RandomizedSearchCV(gb_roi,param_grid,cv=5,scoring='r2')\n",
    "\n",
    "#Fit model to training set and predict on test set\n",
    "gb_roi_cv.fit(X_train_roi,y_train_roi_log)\n",
    "y_pred = gb_roi_cv.predict(X_test_roi)\n",
    "\n",
    "print('Best Training R2:', gb_roi_cv.best_score_)\n",
    "print('Best parameters for model:', gb_roi_cv.best_params_)\n",
    "print('Test R2:', gb_roi_cv.score(X_test_roi,y_test_roi_log))"
   ]
  },
  {
   "cell_type": "markdown",
   "metadata": {},
   "source": [
    "### Predicting Categorical Success (Classification)"
   ]
  },
  {
   "cell_type": "code",
   "execution_count": 236,
   "metadata": {},
   "outputs": [],
   "source": [
    "from sklearn.neighbors import KNeighborsClassifier\n",
    "from sklearn.linear_model import LogisticRegression\n",
    "from sklearn.ensemble import RandomForestClassifier\n",
    "from sklearn.metrics import classification_report, confusion_matrix\n",
    "from sklearn.ensemble import GradientBoostingClassifier\n",
    "from sklearn.svm import SVC\n",
    "from sklearn.preprocessing import LabelEncoder"
   ]
  },
  {
   "cell_type": "markdown",
   "metadata": {},
   "source": [
    "#### Success: Outlier and High Influence Point Analysis"
   ]
  },
  {
   "cell_type": "code",
   "execution_count": 223,
   "metadata": {},
   "outputs": [],
   "source": [
    "#Set x variables and y variable. Drop 'tv_movie' column because it only has 1 movie: Doctor Who\n",
    "X_success = reg_df_scaled.drop(['revenue','success_cat','budget','roi','tv_movie'],axis=1).drop([3133])\n",
    "y_success = reg_df_scaled['success_cat'].drop([3133]).apply(lambda x: x.replace(' ',''))"
   ]
  },
  {
   "cell_type": "code",
   "execution_count": 237,
   "metadata": {
    "scrolled": true
   },
   "outputs": [
    {
     "data": {
      "text/plain": [
       "Text(0.5,1,\"Cook's D\")"
      ]
     },
     "execution_count": 237,
     "metadata": {},
     "output_type": "execute_result"
    },
    {
     "data": {
      "image/png": "[encoded data removed]",
      "text/plain": [
       "<Figure size 432x288 with 1 Axes>"
      ]
     },
     "metadata": {},
     "output_type": "display_data"
    }
   ],
   "source": [
    "#Use statsmodels on ENTIRE dataset to identify influence points\n",
    "labelencoder = LabelEncoder()\n",
    "y_success_num = labelencoder.fit_transform(y_success)\n",
    "\n",
    "sm_y = np.asarray(y_success_num).astype(float)\n",
    "sm_X = np.asarray(X_success).astype(float)\n",
    "sm_X = sm.add_constant(sm_X)\n",
    "model = sm.OLS(sm_y,sm_X).fit()\n",
    "\n",
    "#Get influence data\n",
    "influence = model.get_influence()\n",
    "\n",
    "#c is the cook's distance and p is p-value\n",
    "(c, p) = influence.cooks_distance\n",
    "plt.stem(np.arange(len(c)), c, markerfmt=\",\")\n",
    "plt.title('Cook\\'s D')"
   ]
  },
  {
   "cell_type": "markdown",
   "metadata": {},
   "source": [
    "Looking at the y-scale of the plot of Cook's Distance, there don't appear to be an significant outliers."
   ]
  },
  {
   "cell_type": "markdown",
   "metadata": {},
   "source": [
    "#### Success: Split data into training and test set"
   ]
  },
  {
   "cell_type": "code",
   "execution_count": 224,
   "metadata": {},
   "outputs": [],
   "source": [
    "#Split data into training and testing set\n",
    "X_train_success,X_test_success,y_train_success,y_test_success = train_test_split(X_success,y_success,\n",
    "                                                                                 test_size=0.3,random_state=42)"
   ]
  },
  {
   "cell_type": "markdown",
   "metadata": {},
   "source": [
    "#### Success: kNN Classifier"
   ]
  },
  {
   "cell_type": "code",
   "execution_count": 225,
   "metadata": {
    "scrolled": false
   },
   "outputs": [
    {
     "name": "stdout",
     "output_type": "stream",
     "text": [
      "Training Best Accuracy: 0.46849538294405213\n",
      "Training Best k: {'n_neighbors': 19}\n",
      "Test Accuracy: 0.4813172894236859\n",
      "Confusion Matrix                   Predicted BreakEven  Predicted Flop  Predicted Hit\n",
      "Actual BreakEven                  221             209            101\n",
      "Actual Flop                       155             360             33\n",
      "Actual Hit                        169             152            179\n",
      "Classification Report               precision    recall  f1-score   support\n",
      "\n",
      "   BreakEven       0.41      0.42      0.41       531\n",
      "        Flop       0.50      0.66      0.57       548\n",
      "         Hit       0.57      0.36      0.44       500\n",
      "\n",
      "   micro avg       0.48      0.48      0.48      1579\n",
      "   macro avg       0.49      0.48      0.47      1579\n",
      "weighted avg       0.49      0.48      0.47      1579\n",
      "\n"
     ]
    }
   ],
   "source": [
    "#Initialize KNNClassifier\n",
    "knn = KNeighborsClassifier()\n",
    "\n",
    "#Range of k-values for GridSearchCV\n",
    "param = {'n_neighbors': range(1,31)}\n",
    "\n",
    "#Cross-validate on training set\n",
    "knn_clf = GridSearchCV(knn,param,cv=5)\n",
    "\n",
    "#Fit model to training set and predict on test set\n",
    "knn_clf.fit(X_train_success,y_train_success)\n",
    "y_pred = knn_clf.predict(X_test_success)\n",
    "\n",
    "print('Training Best Accuracy:', knn_clf.best_score_)\n",
    "print('Training Best k:', knn_clf.best_params_)\n",
    "print('Test Accuracy:', knn_clf.score(X_test_success,y_test_success))\n",
    "print('Confusion Matrix',pd.DataFrame(confusion_matrix(y_test_success,y_pred),\n",
    "                                      columns=['Predicted BreakEven','Predicted Flop','Predicted Hit'],\n",
    "             index=['Actual BreakEven','Actual Flop','Actual Hit']))\n",
    "print('Classification Report',classification_report(y_test_success,y_pred))"
   ]
  },
  {
   "cell_type": "markdown",
   "metadata": {},
   "source": [
    "#### Success: Logistic Regression"
   ]
  },
  {
   "cell_type": "code",
   "execution_count": 226,
   "metadata": {
    "scrolled": false
   },
   "outputs": [
    {
     "name": "stdout",
     "output_type": "stream",
     "text": [
      "Training Accuracy: 0.5353068984247692\n",
      "Training Parameters: {'C': 2041.795918367347}\n",
      "Test Accuracy: 0.5167827739075365\n",
      "Confusion Matrix                   Predicted BreakEven  Predicted Flop  Predicted Hit\n",
      "Actual BreakEven                  196             221            114\n",
      "Actual Flop                        98             419             31\n",
      "Actual Hit                        160             139            201\n",
      "Classification Report               precision    recall  f1-score   support\n",
      "\n",
      "   BreakEven       0.43      0.37      0.40       531\n",
      "        Flop       0.54      0.76      0.63       548\n",
      "         Hit       0.58      0.40      0.48       500\n",
      "\n",
      "   micro avg       0.52      0.52      0.52      1579\n",
      "   macro avg       0.52      0.51      0.50      1579\n",
      "weighted avg       0.52      0.52      0.50      1579\n",
      "\n"
     ]
    }
   ],
   "source": [
    "#Initialize\n",
    "log_reg = LogisticRegression(solver='newton-cg',multi_class='multinomial')\n",
    "\n",
    "#Range of C values\n",
    "param = {'C': np.linspace(1,1e5,50)}\n",
    "\n",
    "#Cross-validate on training set\n",
    "log_reg_grid = GridSearchCV(log_reg,param,cv=5)\n",
    "\n",
    "#Fit model to training set and predict on test set\n",
    "log_reg_grid.fit(X_train_success,y_train_success)\n",
    "y_pred = log_reg_grid.predict(X_test_success)\n",
    "\n",
    "print('Training Accuracy:', log_reg_grid.best_score_)\n",
    "print('Training Parameters:', log_reg_grid.best_params_)\n",
    "print('Test Accuracy:', log_reg_grid.score(X_test_success,y_test_success))\n",
    "print('Confusion Matrix',pd.DataFrame(confusion_matrix(y_test_success,y_pred),\n",
    "                                      columns=['Predicted BreakEven','Predicted Flop','Predicted Hit'],\n",
    "                                      index=['Actual BreakEven','Actual Flop','Actual Hit']))\n",
    "print('Classification Report',classification_report(y_test_success,y_pred))"
   ]
  },
  {
   "cell_type": "code",
   "execution_count": 227,
   "metadata": {
    "scrolled": true
   },
   "outputs": [
    {
     "data": {
      "text/html": [
       "<div>\n",
       "<style scoped>\n",
       "    .dataframe tbody tr th:only-of-type {\n",
       "        vertical-align: middle;\n",
       "    }\n",
       "\n",
       "    .dataframe tbody tr th {\n",
       "        vertical-align: top;\n",
       "    }\n",
       "\n",
       "    .dataframe thead th {\n",
       "        text-align: right;\n",
       "    }\n",
       "</style>\n",
       "<table border=\"1\" class=\"dataframe\">\n",
       "  <thead>\n",
       "    <tr style=\"text-align: right;\">\n",
       "      <th></th>\n",
       "      <th>runtime</th>\n",
       "      <th>vote_count</th>\n",
       "      <th>action</th>\n",
       "      <th>adventure</th>\n",
       "      <th>animation</th>\n",
       "      <th>comedy</th>\n",
       "      <th>crime</th>\n",
       "      <th>documentary</th>\n",
       "      <th>drama</th>\n",
       "      <th>family</th>\n",
       "      <th>...</th>\n",
       "      <th>war</th>\n",
       "      <th>western</th>\n",
       "      <th>top_actor</th>\n",
       "      <th>top_director</th>\n",
       "      <th>collection_or_not</th>\n",
       "      <th>holiday_season</th>\n",
       "      <th>labor_day</th>\n",
       "      <th>mlk_day</th>\n",
       "      <th>summer</th>\n",
       "      <th>valentines_day</th>\n",
       "    </tr>\n",
       "  </thead>\n",
       "  <tbody>\n",
       "    <tr>\n",
       "      <th>Breakeven</th>\n",
       "      <td>1.435366</td>\n",
       "      <td>6.327867</td>\n",
       "      <td>0.168900</td>\n",
       "      <td>-0.001423</td>\n",
       "      <td>-0.155689</td>\n",
       "      <td>0.006392</td>\n",
       "      <td>0.228083</td>\n",
       "      <td>-0.316592</td>\n",
       "      <td>-0.238529</td>\n",
       "      <td>0.291802</td>\n",
       "      <td>...</td>\n",
       "      <td>0.041161</td>\n",
       "      <td>-0.277044</td>\n",
       "      <td>0.167586</td>\n",
       "      <td>-0.019467</td>\n",
       "      <td>-0.010375</td>\n",
       "      <td>0.020367</td>\n",
       "      <td>-0.092626</td>\n",
       "      <td>-0.248917</td>\n",
       "      <td>0.097376</td>\n",
       "      <td>0.049218</td>\n",
       "    </tr>\n",
       "    <tr>\n",
       "      <th>Flop</th>\n",
       "      <td>-1.858370</td>\n",
       "      <td>-17.890365</td>\n",
       "      <td>0.114991</td>\n",
       "      <td>0.148166</td>\n",
       "      <td>0.173147</td>\n",
       "      <td>-0.095101</td>\n",
       "      <td>-0.022522</td>\n",
       "      <td>-0.542988</td>\n",
       "      <td>0.110432</td>\n",
       "      <td>-0.249586</td>\n",
       "      <td>...</td>\n",
       "      <td>-0.089284</td>\n",
       "      <td>0.258741</td>\n",
       "      <td>0.154877</td>\n",
       "      <td>-0.009219</td>\n",
       "      <td>-0.888797</td>\n",
       "      <td>-0.200801</td>\n",
       "      <td>0.342661</td>\n",
       "      <td>0.250316</td>\n",
       "      <td>-0.276493</td>\n",
       "      <td>0.054149</td>\n",
       "    </tr>\n",
       "    <tr>\n",
       "      <th>Hit</th>\n",
       "      <td>0.423004</td>\n",
       "      <td>11.562497</td>\n",
       "      <td>-0.283891</td>\n",
       "      <td>-0.146742</td>\n",
       "      <td>-0.017458</td>\n",
       "      <td>0.088709</td>\n",
       "      <td>-0.205561</td>\n",
       "      <td>0.859580</td>\n",
       "      <td>0.128097</td>\n",
       "      <td>-0.042216</td>\n",
       "      <td>...</td>\n",
       "      <td>0.048123</td>\n",
       "      <td>0.018303</td>\n",
       "      <td>-0.322463</td>\n",
       "      <td>0.028686</td>\n",
       "      <td>0.899171</td>\n",
       "      <td>0.180435</td>\n",
       "      <td>-0.250036</td>\n",
       "      <td>-0.001399</td>\n",
       "      <td>0.179117</td>\n",
       "      <td>-0.103367</td>\n",
       "    </tr>\n",
       "  </tbody>\n",
       "</table>\n",
       "<p>3 rows × 29 columns</p>\n",
       "</div>"
      ],
      "text/plain": [
       "            runtime  vote_count    action  adventure  animation    comedy  \\\n",
       "Breakeven  1.435366    6.327867  0.168900  -0.001423  -0.155689  0.006392   \n",
       "Flop      -1.858370  -17.890365  0.114991   0.148166   0.173147 -0.095101   \n",
       "Hit        0.423004   11.562497 -0.283891  -0.146742  -0.017458  0.088709   \n",
       "\n",
       "              crime  documentary     drama    family       ...        \\\n",
       "Breakeven  0.228083    -0.316592 -0.238529  0.291802       ...         \n",
       "Flop      -0.022522    -0.542988  0.110432 -0.249586       ...         \n",
       "Hit       -0.205561     0.859580  0.128097 -0.042216       ...         \n",
       "\n",
       "                war   western  top_actor  top_director  collection_or_not  \\\n",
       "Breakeven  0.041161 -0.277044   0.167586     -0.019467          -0.010375   \n",
       "Flop      -0.089284  0.258741   0.154877     -0.009219          -0.888797   \n",
       "Hit        0.048123  0.018303  -0.322463      0.028686           0.899171   \n",
       "\n",
       "           holiday_season  labor_day   mlk_day    summer  valentines_day  \n",
       "Breakeven        0.020367  -0.092626 -0.248917  0.097376        0.049218  \n",
       "Flop            -0.200801   0.342661  0.250316 -0.276493        0.054149  \n",
       "Hit              0.180435  -0.250036 -0.001399  0.179117       -0.103367  \n",
       "\n",
       "[3 rows x 29 columns]"
      ]
     },
     "execution_count": 227,
     "metadata": {},
     "output_type": "execute_result"
    }
   ],
   "source": [
    "pd.DataFrame(log_reg_grid.best_estimator_.coef_,index=['Breakeven','Flop','Hit'],columns=X_train_success.columns)"
   ]
  },
  {
   "cell_type": "markdown",
   "metadata": {},
   "source": [
    "#### Success: Random Forest Classifier"
   ]
  },
  {
   "cell_type": "code",
   "execution_count": 228,
   "metadata": {
    "scrolled": true
   },
   "outputs": [
    {
     "name": "stdout",
     "output_type": "stream",
     "text": [
      "Cross-Validated Training Accuracy: 0.5133026982443737\n",
      "Test Accuracy: 0.49525015832805575\n",
      "Confusion Matrix                   Predicted BreakEven  Predicted Flop  Predicted Hit\n",
      "Actual BreakEven                  206             184            141\n",
      "Actual Flop                       143             351             54\n",
      "Actual Hit                        166             109            225\n",
      "Classification Report               precision    recall  f1-score   support\n",
      "\n",
      "   BreakEven       0.40      0.39      0.39       531\n",
      "        Flop       0.55      0.64      0.59       548\n",
      "         Hit       0.54      0.45      0.49       500\n",
      "\n",
      "   micro avg       0.50      0.50      0.50      1579\n",
      "   macro avg       0.49      0.49      0.49      1579\n",
      "weighted avg       0.49      0.50      0.49      1579\n",
      "\n"
     ]
    }
   ],
   "source": [
    "#Initialize RandomForestRegressor\n",
    "rf_clf = RandomForestClassifier(n_estimators=100)\n",
    "\n",
    "#Cross-validate on training set\n",
    "cv_accuracy = cross_val_score(rf_clf, X_train_success,y_train_success,cv=5,scoring='accuracy')\n",
    "\n",
    "#Fit model to training set and predict on test set\n",
    "rf_clf.fit(X_train_success,y_train_success)\n",
    "y_pred = rf_clf.predict(X_test_success)\n",
    "\n",
    "print('Cross-Validated Training Accuracy:', np.mean(cv_accuracy))\n",
    "print('Test Accuracy:', rf_clf.score(X_test_success,y_test_success))\n",
    "print('Confusion Matrix',pd.DataFrame(confusion_matrix(y_test_success,y_pred),\n",
    "                                      columns=['Predicted BreakEven','Predicted Flop','Predicted Hit'],\n",
    "                                      index=['Actual BreakEven','Actual Flop','Actual Hit']))\n",
    "print('Classification Report',classification_report(y_test_success,y_pred))\n",
    "feature_importances_clf = pd.DataFrame(rf_clf.feature_importances_,\n",
    "                                   index = X_train_success.columns,\n",
    "                                    columns=['importance']).sort_values('importance',ascending=False)"
   ]
  },
  {
   "cell_type": "markdown",
   "metadata": {},
   "source": [
    "#### Success: Gradient Boosting Classifier"
   ]
  },
  {
   "cell_type": "code",
   "execution_count": 239,
   "metadata": {
    "scrolled": false
   },
   "outputs": [
    {
     "name": "stdout",
     "output_type": "stream",
     "text": [
      "Training Accuracy: 0.5488887416048074\n",
      "Test Accuracy: 0.5281823939202026\n",
      "Confusion Matrix                   Predicted BreakEven  Predicted Flop  Predicted Hit\n",
      "Actual BreakEven                  222             206            103\n",
      "Actual Flop                       116             402             30\n",
      "Actual Hit                        164             126            210\n",
      "Classification Report               precision    recall  f1-score   support\n",
      "\n",
      "   BreakEven       0.44      0.42      0.43       531\n",
      "        Flop       0.55      0.73      0.63       548\n",
      "         Hit       0.61      0.42      0.50       500\n",
      "\n",
      "   micro avg       0.53      0.53      0.53      1579\n",
      "   macro avg       0.53      0.52      0.52      1579\n",
      "weighted avg       0.53      0.53      0.52      1579\n",
      "\n"
     ]
    }
   ],
   "source": [
    "#Initialize GradientBoostingClassifier\n",
    "gb_clf = GradientBoostingClassifier()\n",
    "\n",
    "#Cross-validate on training set\n",
    "cv_accuracy = cross_val_score(gb_clf,X_train_success,y_train_success,cv=5)\n",
    "\n",
    "#Fit model to training set and predict on test set\n",
    "gb_clf.fit(X_train_success,y_train_success)\n",
    "y_pred = gb_clf.predict(X_test_success)\n",
    "\n",
    "print('Training Accuracy:', np.mean(cv_accuracy))\n",
    "print('Test Accuracy:', gb_clf.score(X_test_success,y_test_success))\n",
    "print('Confusion Matrix',pd.DataFrame(confusion_matrix(y_test_success,y_pred),\n",
    "                                      columns=['Predicted BreakEven','Predicted Flop','Predicted Hit'],\n",
    "                                      index=['Actual BreakEven','Actual Flop','Actual Hit']))\n",
    "print('Classification Report',classification_report(y_test_success,y_pred))\n",
    "feature_importances_gb_clf = pd.DataFrame(gb_clf.feature_importances_,\n",
    "                                   index = X_train_success.columns,\n",
    "                                    columns=['importance']).sort_values('importance',ascending=False)"
   ]
  },
  {
   "cell_type": "markdown",
   "metadata": {},
   "source": [
    "#### Success: SVM (Linear)"
   ]
  },
  {
   "cell_type": "code",
   "execution_count": 232,
   "metadata": {},
   "outputs": [
    {
     "name": "stdout",
     "output_type": "stream",
     "text": [
      "Cross-Validated Training Accuracy: 0.49539589961117\n",
      "Test Accuracy: 0.49525015832805575\n",
      "Confusion Matrix                   Predicted BreakEven  Predicted Flop  Predicted Hit\n",
      "Actual BreakEven                  141             278            112\n",
      "Actual Flop                        72             440             36\n",
      "Actual Hit                        112             187            201\n",
      "Classification Report               precision    recall  f1-score   support\n",
      "\n",
      "   BreakEven       0.43      0.27      0.33       531\n",
      "        Flop       0.49      0.80      0.61       548\n",
      "         Hit       0.58      0.40      0.47       500\n",
      "\n",
      "   micro avg       0.50      0.50      0.50      1579\n",
      "   macro avg       0.50      0.49      0.47      1579\n",
      "weighted avg       0.50      0.50      0.47      1579\n",
      "\n"
     ]
    }
   ],
   "source": [
    "#Initialize linear kernel\n",
    "svc = SVC(kernel='linear')\n",
    "\n",
    "#Cross-validate\n",
    "cv_accuracy = cross_val_score(svc, X_train_success,y_train_success,cv=5,scoring='accuracy')\n",
    "\n",
    "#Fit model to training set and predict on test set\n",
    "svc.fit(X_train_success,y_train_success)\n",
    "y_pred = svc.predict(X_test_success)\n",
    "\n",
    "print('Cross-Validated Training Accuracy:', np.mean(cv_accuracy))\n",
    "print('Test Accuracy:', svc.score(X_test_success,y_test_success))\n",
    "print('Confusion Matrix',pd.DataFrame(confusion_matrix(y_test_success,y_pred),\n",
    "                                      columns=['Predicted BreakEven','Predicted Flop','Predicted Hit'],\n",
    "                                      index=['Actual BreakEven','Actual Flop','Actual Hit']))\n",
    "print('Classification Report',classification_report(y_test_success,y_pred))"
   ]
  },
  {
   "cell_type": "markdown",
   "metadata": {},
   "source": [
    "#### Success: SVM (Non-Linear)"
   ]
  },
  {
   "cell_type": "code",
   "execution_count": 233,
   "metadata": {
    "scrolled": true
   },
   "outputs": [
    {
     "name": "stdout",
     "output_type": "stream",
     "text": [
      "Cross-Validated Training Accuracy: 0.4704128372805467\n",
      "Test Accuracy: 0.47181760607979734\n",
      "Confusion Matrix                   Predicted BreakEven  Predicted Flop  Predicted Hit\n",
      "Actual BreakEven                  138             291            102\n",
      "Actual Flop                        86             426             36\n",
      "Actual Hit                        110             209            181\n",
      "Classification Report               precision    recall  f1-score   support\n",
      "\n",
      "   BreakEven       0.41      0.26      0.32       531\n",
      "        Flop       0.46      0.78      0.58       548\n",
      "         Hit       0.57      0.36      0.44       500\n",
      "\n",
      "   micro avg       0.47      0.47      0.47      1579\n",
      "   macro avg       0.48      0.47      0.45      1579\n",
      "weighted avg       0.48      0.47      0.45      1579\n",
      "\n"
     ]
    }
   ],
   "source": [
    "#Initialize non-linear kernel\n",
    "svc = SVC(kernel='rbf',gamma='scale')\n",
    "\n",
    "#Cross-validate\n",
    "cv_accuracy = cross_val_score(svc, X_train_success,y_train_success,cv=5,scoring='accuracy')\n",
    "\n",
    "#Fit model to training set and predict on test set\n",
    "svc.fit(X_train_success,y_train_success)\n",
    "y_pred = svc.predict(X_test_success)\n",
    "\n",
    "print('Cross-Validated Training Accuracy:', np.mean(cv_accuracy))\n",
    "print('Test Accuracy:', svc.score(X_test_success,y_test_success))\n",
    "print('Confusion Matrix',pd.DataFrame(confusion_matrix(y_test_success,y_pred),\n",
    "                                      columns=['Predicted BreakEven','Predicted Flop','Predicted Hit'],\n",
    "                                      index=['Actual BreakEven','Actual Flop','Actual Hit']))\n",
    "print('Classification Report',classification_report(y_test_success,y_pred))"
   ]
  },
  {
   "cell_type": "markdown",
   "metadata": {},
   "source": [
    "Gradient Boosting appears to be the best performer in predicting categorical success (breakeven, flop, hit), in terms of overall accuracy, precision, and recall."
   ]
  },
  {
   "cell_type": "markdown",
   "metadata": {},
   "source": [
    "### Success: Feature Selection using Gini Coefficients"
   ]
  },
  {
   "cell_type": "code",
   "execution_count": 392,
   "metadata": {},
   "outputs": [
    {
     "data": {
      "text/plain": [
       "<matplotlib.axes._subplots.AxesSubplot at 0x12932e080>"
      ]
     },
     "execution_count": 392,
     "metadata": {},
     "output_type": "execute_result"
    },
    {
     "data": {
      "image/png": "[encoded data removed]",
      "text/plain": [
       "<Figure size 432x288 with 1 Axes>"
      ]
     },
     "metadata": {},
     "output_type": "display_data"
    }
   ],
   "source": [
    "feature_importances_gb_clf.plot(kind='barh')"
   ]
  },
  {
   "cell_type": "markdown",
   "metadata": {},
   "source": [
    "Vote_count is the most important feature, by far, based on the Gini Importance. top_director appears to be one of the least important features, and top_actor also appears to be less important."
   ]
  },
  {
   "cell_type": "markdown",
   "metadata": {},
   "source": [
    "#### Success: Gradient Boosting without top_director"
   ]
  },
  {
   "cell_type": "code",
   "execution_count": 241,
   "metadata": {
    "scrolled": false
   },
   "outputs": [
    {
     "name": "stdout",
     "output_type": "stream",
     "text": [
      "Training Accuracy: 0.5448133910686933\n",
      "Test Accuracy: 0.5231158961367954\n",
      "Confusion Matrix                   Predicted BreakEven  Predicted Flop  Predicted Hit\n",
      "Actual BreakEven                  219             210            102\n",
      "Actual Flop                       116             399             33\n",
      "Actual Hit                        167             125            208\n",
      "Classification Report               precision    recall  f1-score   support\n",
      "\n",
      "   BreakEven       0.44      0.41      0.42       531\n",
      "        Flop       0.54      0.73      0.62       548\n",
      "         Hit       0.61      0.42      0.49       500\n",
      "\n",
      "   micro avg       0.52      0.52      0.52      1579\n",
      "   macro avg       0.53      0.52      0.51      1579\n",
      "weighted avg       0.53      0.52      0.51      1579\n",
      "\n"
     ]
    }
   ],
   "source": [
    "X_select_train = X_train_success.drop(['top_director'],axis=1)\n",
    "X_select_test = X_test_success.drop(['top_director'],axis=1)\n",
    "\n",
    "#Initialize GradientBoostingRegressor\n",
    "gb_clf = GradientBoostingClassifier()\n",
    "\n",
    "#Cross-validate on training set\n",
    "cv_accuracy = cross_val_score(gb_clf,X_select_train,y_train_success,cv=5)\n",
    "\n",
    "#Fit model to training set and predict on test set\n",
    "gb_clf.fit(X_select_train,y_train_success)\n",
    "y_pred = gb_clf.predict(X_select_test)\n",
    "\n",
    "print('Training Accuracy:', np.mean(cv_accuracy))\n",
    "print('Test Accuracy:', gb_clf.score(X_select_test,y_test_success))\n",
    "print('Confusion Matrix',pd.DataFrame(confusion_matrix(y_test_success,y_pred),\n",
    "                                      columns=['Predicted BreakEven','Predicted Flop','Predicted Hit'],\n",
    "                                      index=['Actual BreakEven','Actual Flop','Actual Hit']))\n",
    "print('Classification Report',classification_report(y_test_success,y_pred))\n",
    "feature_importances_gb_clf = pd.DataFrame(gb_clf.feature_importances_,\n",
    "                                   index = X_select_test.columns,\n",
    "                                    columns=['importance']).sort_values('importance',ascending=False)"
   ]
  },
  {
   "cell_type": "code",
   "execution_count": 242,
   "metadata": {
    "scrolled": true
   },
   "outputs": [
    {
     "name": "stdout",
     "output_type": "stream",
     "text": [
      "Training Accuracy: 0.5469887769529869\n",
      "Test Accuracy: 0.5275490816972768\n",
      "Confusion Matrix                   Predicted BreakEven  Predicted Flop  Predicted Hit\n",
      "Actual BreakEven                  216             210            105\n",
      "Actual Flop                       113             404             31\n",
      "Actual Hit                        158             129            213\n",
      "Classification Report               precision    recall  f1-score   support\n",
      "\n",
      "   BreakEven       0.44      0.41      0.42       531\n",
      "        Flop       0.54      0.74      0.63       548\n",
      "         Hit       0.61      0.43      0.50       500\n",
      "\n",
      "   micro avg       0.53      0.53      0.53      1579\n",
      "   macro avg       0.53      0.52      0.52      1579\n",
      "weighted avg       0.53      0.53      0.52      1579\n",
      "\n"
     ]
    }
   ],
   "source": [
    "X_select_train = X_train_success.drop(['top_actor'],axis=1)\n",
    "X_select_test = X_test_success.drop(['top_actor'],axis=1)\n",
    "\n",
    "#Initialize GradientBoostingRegressor\n",
    "gb_clf = GradientBoostingClassifier()\n",
    "\n",
    "#Cross-validate on training set\n",
    "cv_accuracy = cross_val_score(gb_clf,X_select_train,y_train_success,cv=5)\n",
    "\n",
    "#Fit model to training set and predict on test set\n",
    "gb_clf.fit(X_select_train,y_train_success)\n",
    "y_pred = gb_clf.predict(X_select_test)\n",
    "\n",
    "print('Training Accuracy:', np.mean(cv_accuracy))\n",
    "print('Test Accuracy:', gb_clf.score(X_select_test,y_test_success))\n",
    "print('Confusion Matrix',pd.DataFrame(confusion_matrix(y_test_success,y_pred),\n",
    "                                      columns=['Predicted BreakEven','Predicted Flop','Predicted Hit'],\n",
    "                                      index=['Actual BreakEven','Actual Flop','Actual Hit']))\n",
    "print('Classification Report',classification_report(y_test_success,y_pred))\n",
    "feature_importances_gb_clf = pd.DataFrame(gb_clf.feature_importances_,\n",
    "                                   index = X_select_test.columns,\n",
    "                                    columns=['importance']).sort_values('importance',ascending=False)"
   ]
  },
  {
   "cell_type": "markdown",
   "metadata": {},
   "source": [
    "### Success: Tune hyperparameters for gradient boosting model"
   ]
  },
  {
   "cell_type": "code",
   "execution_count": 394,
   "metadata": {
    "scrolled": true
   },
   "outputs": [
    {
     "name": "stdout",
     "output_type": "stream",
     "text": [
      "Best Training Accuracy: 0.5494296577946768\n",
      "Best parameters for model: {'learning_rate': 0.1, 'max_depth': 3, 'n_estimators': 100}\n",
      "Test Accuracy: 0.5288157061431286\n"
     ]
    }
   ],
   "source": [
    "#Initialize GradientBoostingRegressor\n",
    "gb_clf = GradientBoostingClassifier()\n",
    "\n",
    "#Hyperparameters to tune\n",
    "#Number of trees in random forest\n",
    "n_estimators = [100,500,1000,1500]\n",
    "#Maximum number of features in tree\n",
    "learning_rate = [0.15,0.1,0.05,0.005]\n",
    "# Maximum number of levels in tree\n",
    "max_depth = [3,10,20]\n",
    "\n",
    "#Range of k-values for GridSearchCV\n",
    "param_grid = {'n_estimators': n_estimators,\n",
    "              'learning_rate': learning_rate,\n",
    "              'max_depth': max_depth}\n",
    "\n",
    "#Cross-validate on training set\n",
    "gb_clf_cv = GridSearchCV(gb_clf,param_grid,cv=5)\n",
    "\n",
    "#Fit model to training set and predict on test set\n",
    "gb_clf_cv.fit(X_train_success,y_train_success)\n",
    "y_pred = gb_clf_cv.predict(X_test_success)\n",
    "\n",
    "print('Best Training Accuracy:', gb_clf_cv.best_score_)\n",
    "print('Best parameters for model:', gb_clf_cv.best_params_)\n",
    "print('Test Accuracy:', gb_clf_cv.score(X_test_success,y_test_success))"
   ]
  }
 ],
 "metadata": {
  "kernelspec": {
   "display_name": "Python 3",
   "language": "python",
   "name": "python3"
  },
  "language_info": {
   "codemirror_mode": {
    "name": "ipython",
    "version": 3
   },
   "file_extension": ".py",
   "mimetype": "text/x-python",
   "name": "python",
   "nbconvert_exporter": "python",
   "pygments_lexer": "ipython3",
   "version": "3.6.5"
  }
 },
 "nbformat": 4,
 "nbformat_minor": 2
}
